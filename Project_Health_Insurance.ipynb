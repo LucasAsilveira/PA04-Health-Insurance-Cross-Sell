{
 "cells": [
  {
   "cell_type": "markdown",
   "id": "05aacdd0",
   "metadata": {
    "heading_collapsed": true
   },
   "source": [
    "# 0.0. IMPORTS "
   ]
  },
  {
   "cell_type": "markdown",
   "id": "3a26d20b",
   "metadata": {
    "heading_collapsed": true,
    "hidden": true
   },
   "source": [
    "## 0.1. Libries"
   ]
  },
  {
   "cell_type": "code",
   "execution_count": 1,
   "id": "ea5d33a8",
   "metadata": {
    "ExecuteTime": {
     "end_time": "2022-02-15T13:08:20.971432Z",
     "start_time": "2022-02-15T13:08:19.503549Z"
    },
    "hidden": true
   },
   "outputs": [
    {
     "name": "stderr",
     "output_type": "stream",
     "text": [
      "/home/lucasas/anaconda3/envs/pa04healthinsurance-env/lib/python3.8/site-packages/xgboost/compat.py:36: FutureWarning: pandas.Int64Index is deprecated and will be removed from pandas in a future version. Use pandas.Index with the appropriate dtype instead.\n",
      "  from pandas import MultiIndex, Int64Index\n"
     ]
    }
   ],
   "source": [
    "import psycopg2          as pg\n",
    "import pandas            as pd\n",
    "import pandas.io.sql     as psql\n",
    "import numpy             as np\n",
    "import seaborn           as sns\n",
    "import matplotlib.pyplot as plt\n",
    "import scikitplot        as skplt\n",
    "\n",
    "from xgboost import XGBClassifier\n",
    "from sklearn import preprocessing   as pp\n",
    "from sklearn import model_selection as ms\n",
    "from sklearn import ensemble        as en\n",
    "from sklearn import neighbors       as ng\n",
    "from sklearn import linear_model    as lm\n"
   ]
  },
  {
   "cell_type": "markdown",
   "id": "3ff3b142",
   "metadata": {
    "heading_collapsed": true,
    "hidden": true
   },
   "source": [
    "## 0.2. Helper Functions"
   ]
  },
  {
   "cell_type": "code",
   "execution_count": 182,
   "id": "177a01b9",
   "metadata": {
    "ExecuteTime": {
     "end_time": "2022-02-15T14:50:08.372429Z",
     "start_time": "2022-02-15T14:50:08.358843Z"
    },
    "hidden": true
   },
   "outputs": [],
   "source": [
    "def precision_at_k( data, k=10 ):\n",
    "    data = data.reset_index( drop=True )\n",
    "    data['ranking'] = data.index + 1\n",
    "    \n",
    "    data['precision_at_k'] = data['response'].cumsum() / data['ranking']\n",
    "    \n",
    "    return ( data.loc[ k, 'precision_at_k'], data )\n",
    "\n",
    "def recall_at_k( data, k=15 ):\n",
    "    data = data.reset_index( drop=True )\n",
    "    data['ranking'] = data.index + 1\n",
    "    \n",
    "    data['recall_at_k'] = data['response'].cumsum() / data['response'].sum()\n",
    "    \n",
    "    return ( data.loc[ k, 'recall_at_k'], data )"
   ]
  },
  {
   "cell_type": "markdown",
   "id": "c8979c83",
   "metadata": {
    "heading_collapsed": true,
    "hidden": true
   },
   "source": [
    "## 0.3.  Loading Data"
   ]
  },
  {
   "cell_type": "markdown",
   "id": "1d109dca",
   "metadata": {
    "heading_collapsed": true,
    "hidden": true
   },
   "source": [
    "### 0.3.1 Data Import from Data Base"
   ]
  },
  {
   "cell_type": "code",
   "execution_count": 3,
   "id": "f29a707d",
   "metadata": {
    "ExecuteTime": {
     "end_time": "2022-02-15T13:08:20.992620Z",
     "start_time": "2022-02-15T13:08:20.979698Z"
    },
    "hidden": true
   },
   "outputs": [],
   "source": [
    "# Credentials BD\n",
    "#host = 'comunidade-ds-postgres.c50pcakiuwi3.us-east-1.rds.amazonaws.com'\n",
    "#port = 5432\n",
    "#database = 'comunidadedsdb'\n",
    "#user = 'member'\n",
    "#pwd = 'cdspa'\n",
    "\n",
    "##Create conection BD\n",
    "#conn = pg.connect( user=user,\n",
    "#            password=pwd,\n",
    "#            host=host,\n",
    "#            port=port,\n",
    "#            database=database )\n",
    "\n",
    "##Join tables\n",
    "#query_tables_users = \"\"\"\n",
    "#    SELECT *\n",
    "#    FROM pa004.users u LEFT JOIN pa004.vehicle   v ON ( u.id = v.id )\n",
    "#                       LEFT JOIN pa004.insurance i ON ( u.id = i.id )  \n",
    "#    WHERE u.age > 44\n",
    "#    \n",
    "#\"\"\"\n",
    "#\n",
    "#df_raw = pd.read_sql( query_tables_users, conn )\n",
    "#\n",
    "##Drop duplicates id's \n",
    "#\n",
    "#df_raw = df_raw.drop( df_raw.columns[[5,9]], axis = 1)\n",
    "#\n",
    "##csv generate\n",
    "#df_raw.to_csv('data/BD_emerge.csv', encoding='utf-8', index=False)"
   ]
  },
  {
   "cell_type": "markdown",
   "id": "e02a3a50",
   "metadata": {
    "ExecuteTime": {
     "end_time": "2022-02-02T13:49:31.771256Z",
     "start_time": "2022-02-02T13:49:31.295176Z"
    },
    "heading_collapsed": true,
    "hidden": true
   },
   "source": [
    "### 0.3.2 Loading Data"
   ]
  },
  {
   "cell_type": "code",
   "execution_count": 4,
   "id": "d1b567d5",
   "metadata": {
    "ExecuteTime": {
     "end_time": "2022-02-15T13:08:21.460744Z",
     "start_time": "2022-02-15T13:08:20.996788Z"
    },
    "hidden": true
   },
   "outputs": [],
   "source": [
    "df_bd = pd.read_csv('data/BD_emerge.csv')\n",
    "df_raw = pd.read_csv('data/train.csv')"
   ]
  },
  {
   "cell_type": "markdown",
   "id": "7791b420",
   "metadata": {
    "heading_collapsed": true
   },
   "source": [
    "# 1. DATA DESCRIPTION"
   ]
  },
  {
   "cell_type": "code",
   "execution_count": 5,
   "id": "afcd4e44",
   "metadata": {
    "ExecuteTime": {
     "end_time": "2022-02-15T13:08:21.479827Z",
     "start_time": "2022-02-15T13:08:21.462301Z"
    },
    "hidden": true
   },
   "outputs": [],
   "source": [
    "df1 = df_raw.copy()"
   ]
  },
  {
   "cell_type": "markdown",
   "id": "173ec0bb",
   "metadata": {
    "heading_collapsed": true,
    "hidden": true
   },
   "source": [
    "## Description Columns:"
   ]
  },
  {
   "cell_type": "markdown",
   "id": "c6d083f6",
   "metadata": {
    "hidden": true
   },
   "source": [
    "- Id: identificador único do cliente.\n",
    "\n",
    "- Gender: gênero do cliente.\n",
    "\n",
    "- Age: idade do cliente.\n",
    "\n",
    "- Driving License: 0, o cliente não tem permissão para dirigir e 1, o cliente tem para dirigir ( CNH – Carteira\n",
    "Nacional de Habilitação )\n",
    "\n",
    "- Region Code: código da região do cliente.\n",
    "\n",
    "- Previously Insured: 0, o cliente não tem seguro de automóvel e 1, o cliente já tem seguro de automóvel.\n",
    "\n",
    "- vehicle Age: idade do veículo.\n",
    "\n",
    "- Vehicle Damage: 0, cliente nunca teve seu veículo danificado no passado e 1, cliente já teve seu veículo\n",
    "danificado no passado.\n",
    "\n",
    "- Anual Premium: quantidade que o cliente pagou à empresa pelo seguro de saúde anual.\n",
    "\n",
    "- Policy sales channel: código anônimo para o canal de contato com o cliente.\n",
    "\n",
    "- Vintage: número de dias que o cliente se associou à empresa através da compra do seguro de saúde.\n",
    "\n",
    "- Response: 0, o cliente não tem interesse e 1, o cliente tem interesse."
   ]
  },
  {
   "cell_type": "markdown",
   "id": "45a84adc",
   "metadata": {
    "heading_collapsed": true,
    "hidden": true
   },
   "source": [
    "## 1.1. Rename Columns "
   ]
  },
  {
   "cell_type": "code",
   "execution_count": 6,
   "id": "057feef6",
   "metadata": {
    "ExecuteTime": {
     "end_time": "2022-02-15T13:08:21.484523Z",
     "start_time": "2022-02-15T13:08:21.481589Z"
    },
    "hidden": true
   },
   "outputs": [],
   "source": [
    " cols_new = ['id', 'gender', 'age', 'driving_license', 'region_code', 'previously_insured', 'vehicle_age', \n",
    "            'vehicle_damage', 'annual_premium', 'policy_sales_channel', 'vintage', 'response']\n",
    "\n",
    "# rename \n",
    "df1.columns = cols_new"
   ]
  },
  {
   "cell_type": "markdown",
   "id": "9d208a8d",
   "metadata": {
    "heading_collapsed": true,
    "hidden": true
   },
   "source": [
    "## 1.2. Data Dimensions "
   ]
  },
  {
   "cell_type": "code",
   "execution_count": 7,
   "id": "f0b09bcf",
   "metadata": {
    "ExecuteTime": {
     "end_time": "2022-02-15T13:08:21.494677Z",
     "start_time": "2022-02-15T13:08:21.486288Z"
    },
    "hidden": true,
    "hide_input": true
   },
   "outputs": [
    {
     "name": "stdout",
     "output_type": "stream",
     "text": [
      "Number of Rows: 381109\n",
      "Number of cols: 12\n"
     ]
    }
   ],
   "source": [
    "print( 'Number of Rows: {}'.format( df1.shape[0] ) )\n",
    "print( 'Number of cols: {}'.format( df1.shape[1] ) )\n"
   ]
  },
  {
   "cell_type": "markdown",
   "id": "ae97956c",
   "metadata": {
    "heading_collapsed": true,
    "hidden": true
   },
   "source": [
    "## 1.3. Data Types"
   ]
  },
  {
   "cell_type": "code",
   "execution_count": 8,
   "id": "7499e232",
   "metadata": {
    "ExecuteTime": {
     "end_time": "2022-02-15T13:08:21.505601Z",
     "start_time": "2022-02-15T13:08:21.498133Z"
    },
    "hidden": true,
    "hide_input": true
   },
   "outputs": [
    {
     "data": {
      "text/plain": [
       "id                        int64\n",
       "gender                   object\n",
       "age                       int64\n",
       "driving_license           int64\n",
       "region_code             float64\n",
       "previously_insured        int64\n",
       "vehicle_age              object\n",
       "vehicle_damage           object\n",
       "annual_premium          float64\n",
       "policy_sales_channel    float64\n",
       "vintage                   int64\n",
       "response                  int64\n",
       "dtype: object"
      ]
     },
     "execution_count": 8,
     "metadata": {},
     "output_type": "execute_result"
    }
   ],
   "source": [
    "df1.dtypes"
   ]
  },
  {
   "cell_type": "markdown",
   "id": "9900e789",
   "metadata": {
    "heading_collapsed": true,
    "hidden": true
   },
   "source": [
    "## 1.4. Check NA"
   ]
  },
  {
   "cell_type": "code",
   "execution_count": 9,
   "id": "94d620ee",
   "metadata": {
    "ExecuteTime": {
     "end_time": "2022-02-15T13:08:21.656325Z",
     "start_time": "2022-02-15T13:08:21.507847Z"
    },
    "hidden": true,
    "hide_input": true
   },
   "outputs": [
    {
     "data": {
      "text/plain": [
       "id                      0\n",
       "gender                  0\n",
       "age                     0\n",
       "driving_license         0\n",
       "region_code             0\n",
       "previously_insured      0\n",
       "vehicle_age             0\n",
       "vehicle_damage          0\n",
       "annual_premium          0\n",
       "policy_sales_channel    0\n",
       "vintage                 0\n",
       "response                0\n",
       "dtype: int64"
      ]
     },
     "execution_count": 9,
     "metadata": {},
     "output_type": "execute_result"
    }
   ],
   "source": [
    "df1.isna().sum()"
   ]
  },
  {
   "cell_type": "markdown",
   "id": "6858fa85",
   "metadata": {
    "heading_collapsed": true,
    "hidden": true
   },
   "source": [
    "## 1.5. Desctiptive Statistical"
   ]
  },
  {
   "cell_type": "code",
   "execution_count": 10,
   "id": "fb2ca2d3",
   "metadata": {
    "ExecuteTime": {
     "end_time": "2022-02-15T13:08:21.672653Z",
     "start_time": "2022-02-15T13:08:21.661122Z"
    },
    "hidden": true
   },
   "outputs": [],
   "source": [
    "#Separate into numeric and categorical\n",
    "num_attributes = df1.select_dtypes(include =['int64', 'float64'])\n",
    "cat_attributes = df1.select_dtypes( include = ['object'])\n"
   ]
  },
  {
   "cell_type": "markdown",
   "id": "85f733ef",
   "metadata": {
    "heading_collapsed": true,
    "hidden": true
   },
   "source": [
    "### 1.5.1. Numerical Atributes"
   ]
  },
  {
   "cell_type": "code",
   "execution_count": 11,
   "id": "e79cc86c",
   "metadata": {
    "ExecuteTime": {
     "end_time": "2022-02-15T13:08:22.383070Z",
     "start_time": "2022-02-15T13:08:21.680866Z"
    },
    "hidden": true,
    "hide_input": true
   },
   "outputs": [
    {
     "data": {
      "text/html": [
       "<div>\n",
       "<style scoped>\n",
       "    .dataframe tbody tr th:only-of-type {\n",
       "        vertical-align: middle;\n",
       "    }\n",
       "\n",
       "    .dataframe tbody tr th {\n",
       "        vertical-align: top;\n",
       "    }\n",
       "\n",
       "    .dataframe thead th {\n",
       "        text-align: right;\n",
       "    }\n",
       "</style>\n",
       "<table border=\"1\" class=\"dataframe\">\n",
       "  <thead>\n",
       "    <tr style=\"text-align: right;\">\n",
       "      <th></th>\n",
       "      <th>attributes</th>\n",
       "      <th>min</th>\n",
       "      <th>max</th>\n",
       "      <th>range</th>\n",
       "      <th>mean</th>\n",
       "      <th>median</th>\n",
       "      <th>std</th>\n",
       "      <th>skew</th>\n",
       "      <th>kurtosis</th>\n",
       "    </tr>\n",
       "  </thead>\n",
       "  <tbody>\n",
       "    <tr>\n",
       "      <th>0</th>\n",
       "      <td>id</td>\n",
       "      <td>1.0</td>\n",
       "      <td>381109.0</td>\n",
       "      <td>381108.0</td>\n",
       "      <td>190555.000000</td>\n",
       "      <td>190555.0</td>\n",
       "      <td>110016.691870</td>\n",
       "      <td>9.443274e-16</td>\n",
       "      <td>-1.200000</td>\n",
       "    </tr>\n",
       "    <tr>\n",
       "      <th>1</th>\n",
       "      <td>age</td>\n",
       "      <td>20.0</td>\n",
       "      <td>85.0</td>\n",
       "      <td>65.0</td>\n",
       "      <td>38.822584</td>\n",
       "      <td>36.0</td>\n",
       "      <td>15.511591</td>\n",
       "      <td>6.725390e-01</td>\n",
       "      <td>-0.565655</td>\n",
       "    </tr>\n",
       "    <tr>\n",
       "      <th>2</th>\n",
       "      <td>driving_license</td>\n",
       "      <td>0.0</td>\n",
       "      <td>1.0</td>\n",
       "      <td>1.0</td>\n",
       "      <td>0.997869</td>\n",
       "      <td>1.0</td>\n",
       "      <td>0.046109</td>\n",
       "      <td>-2.159518e+01</td>\n",
       "      <td>464.354302</td>\n",
       "    </tr>\n",
       "    <tr>\n",
       "      <th>3</th>\n",
       "      <td>region_code</td>\n",
       "      <td>0.0</td>\n",
       "      <td>52.0</td>\n",
       "      <td>52.0</td>\n",
       "      <td>26.388807</td>\n",
       "      <td>28.0</td>\n",
       "      <td>13.229871</td>\n",
       "      <td>-1.152664e-01</td>\n",
       "      <td>-0.867857</td>\n",
       "    </tr>\n",
       "    <tr>\n",
       "      <th>4</th>\n",
       "      <td>previously_insured</td>\n",
       "      <td>0.0</td>\n",
       "      <td>1.0</td>\n",
       "      <td>1.0</td>\n",
       "      <td>0.458210</td>\n",
       "      <td>0.0</td>\n",
       "      <td>0.498251</td>\n",
       "      <td>1.677471e-01</td>\n",
       "      <td>-1.971871</td>\n",
       "    </tr>\n",
       "    <tr>\n",
       "      <th>5</th>\n",
       "      <td>annual_premium</td>\n",
       "      <td>2630.0</td>\n",
       "      <td>540165.0</td>\n",
       "      <td>537535.0</td>\n",
       "      <td>30564.389581</td>\n",
       "      <td>31669.0</td>\n",
       "      <td>17213.132474</td>\n",
       "      <td>1.766087e+00</td>\n",
       "      <td>34.004569</td>\n",
       "    </tr>\n",
       "    <tr>\n",
       "      <th>6</th>\n",
       "      <td>policy_sales_channel</td>\n",
       "      <td>1.0</td>\n",
       "      <td>163.0</td>\n",
       "      <td>162.0</td>\n",
       "      <td>112.034295</td>\n",
       "      <td>133.0</td>\n",
       "      <td>54.203924</td>\n",
       "      <td>-9.000081e-01</td>\n",
       "      <td>-0.970810</td>\n",
       "    </tr>\n",
       "    <tr>\n",
       "      <th>7</th>\n",
       "      <td>vintage</td>\n",
       "      <td>10.0</td>\n",
       "      <td>299.0</td>\n",
       "      <td>289.0</td>\n",
       "      <td>154.347397</td>\n",
       "      <td>154.0</td>\n",
       "      <td>83.671194</td>\n",
       "      <td>3.029517e-03</td>\n",
       "      <td>-1.200688</td>\n",
       "    </tr>\n",
       "    <tr>\n",
       "      <th>8</th>\n",
       "      <td>response</td>\n",
       "      <td>0.0</td>\n",
       "      <td>1.0</td>\n",
       "      <td>1.0</td>\n",
       "      <td>0.122563</td>\n",
       "      <td>0.0</td>\n",
       "      <td>0.327935</td>\n",
       "      <td>2.301906e+00</td>\n",
       "      <td>3.298788</td>\n",
       "    </tr>\n",
       "  </tbody>\n",
       "</table>\n",
       "</div>"
      ],
      "text/plain": [
       "             attributes     min       max     range           mean    median  \\\n",
       "0                    id     1.0  381109.0  381108.0  190555.000000  190555.0   \n",
       "1                   age    20.0      85.0      65.0      38.822584      36.0   \n",
       "2       driving_license     0.0       1.0       1.0       0.997869       1.0   \n",
       "3           region_code     0.0      52.0      52.0      26.388807      28.0   \n",
       "4    previously_insured     0.0       1.0       1.0       0.458210       0.0   \n",
       "5        annual_premium  2630.0  540165.0  537535.0   30564.389581   31669.0   \n",
       "6  policy_sales_channel     1.0     163.0     162.0     112.034295     133.0   \n",
       "7               vintage    10.0     299.0     289.0     154.347397     154.0   \n",
       "8              response     0.0       1.0       1.0       0.122563       0.0   \n",
       "\n",
       "             std          skew    kurtosis  \n",
       "0  110016.691870  9.443274e-16   -1.200000  \n",
       "1      15.511591  6.725390e-01   -0.565655  \n",
       "2       0.046109 -2.159518e+01  464.354302  \n",
       "3      13.229871 -1.152664e-01   -0.867857  \n",
       "4       0.498251  1.677471e-01   -1.971871  \n",
       "5   17213.132474  1.766087e+00   34.004569  \n",
       "6      54.203924 -9.000081e-01   -0.970810  \n",
       "7      83.671194  3.029517e-03   -1.200688  \n",
       "8       0.327935  2.301906e+00    3.298788  "
      ]
     },
     "execution_count": 11,
     "metadata": {},
     "output_type": "execute_result"
    }
   ],
   "source": [
    "#Central tendency - mean, median\n",
    "ct1 = pd.DataFrame( num_attributes.apply( np.mean ) ).T\n",
    "ct2 = pd.DataFrame( num_attributes.apply( np.median ) ).T\n",
    "\n",
    "#Dispersion - std, min, max, range, skew, kurtosis \n",
    "d1 = pd.DataFrame( num_attributes.apply( np.std) ).T\n",
    "d2 = pd.DataFrame( num_attributes.apply( min ) ).T\n",
    "d3 = pd.DataFrame( num_attributes.apply( max ) ).T\n",
    "d4 = pd.DataFrame( num_attributes.apply( lambda x: x.max() - x.min() ) ).T\n",
    "d5 = pd.DataFrame( num_attributes.apply( lambda x: x.skew() ) ).T\n",
    "d6 = pd.DataFrame( num_attributes.apply( lambda x: x.kurtosis() ) ).T\n",
    "\n",
    "# Concatenate\n",
    "m = pd.concat( [d2, d3, d4, ct1, ct2, d1, d5, d6]).T.reset_index()\n",
    "m.columns = ['attributes', 'min', 'max', 'range', 'mean', 'median', 'std', 'skew', 'kurtosis']\n",
    "m"
   ]
  },
  {
   "cell_type": "markdown",
   "id": "a9a9cea5",
   "metadata": {
    "ExecuteTime": {
     "end_time": "2022-02-02T13:57:18.489236Z",
     "start_time": "2022-02-02T13:57:18.484478Z"
    },
    "heading_collapsed": true,
    "hidden": true
   },
   "source": [
    "### 1.5.2 Categorical Atributes"
   ]
  },
  {
   "cell_type": "code",
   "execution_count": 12,
   "id": "83e26ce5",
   "metadata": {
    "ExecuteTime": {
     "end_time": "2022-02-15T13:08:22.400426Z",
     "start_time": "2022-02-15T13:08:22.386670Z"
    },
    "hidden": true
   },
   "outputs": [
    {
     "data": {
      "text/plain": [
       "Index(['gender', 'vehicle_age', 'vehicle_damage'], dtype='object')"
      ]
     },
     "execution_count": 12,
     "metadata": {},
     "output_type": "execute_result"
    }
   ],
   "source": [
    "cat_attributes.columns"
   ]
  },
  {
   "cell_type": "code",
   "execution_count": null,
   "id": "ff208a1a",
   "metadata": {
    "ExecuteTime": {
     "end_time": "2022-02-04T13:40:18.476061Z",
     "start_time": "2022-02-04T13:39:42.368086Z"
    },
    "hidden": true,
    "scrolled": false
   },
   "outputs": [],
   "source": []
  },
  {
   "cell_type": "markdown",
   "id": "42e9281c",
   "metadata": {
    "heading_collapsed": true
   },
   "source": [
    "# 2.0. FEATURE ENGINEERING"
   ]
  },
  {
   "cell_type": "code",
   "execution_count": 13,
   "id": "c5c63fa7",
   "metadata": {
    "ExecuteTime": {
     "end_time": "2022-02-15T13:08:22.425015Z",
     "start_time": "2022-02-15T13:08:22.402146Z"
    },
    "hidden": true
   },
   "outputs": [],
   "source": [
    "df2 = df1.copy()"
   ]
  },
  {
   "cell_type": "markdown",
   "id": "6f7b4dcc",
   "metadata": {
    "hidden": true
   },
   "source": [
    "-  2.1. Mapa Mental de Hipoteses\n",
    "-  2.2. Criação das Hipotéses(Loja, Produto, tempo)\n",
    "-  2.3. Hipoteses Finais. \n",
    "-  2.4. Feature Engineering"
   ]
  },
  {
   "cell_type": "code",
   "execution_count": 14,
   "id": "3735b864",
   "metadata": {
    "ExecuteTime": {
     "end_time": "2022-02-15T13:08:22.609285Z",
     "start_time": "2022-02-15T13:08:22.427938Z"
    },
    "hidden": true
   },
   "outputs": [],
   "source": [
    "#Vehicle age\n",
    "df2['vehicle_age'] = df2['vehicle_age'].apply( lambda x: 'over_2_years' if x == '> 2 Years'\n",
    "                                               else 'between_1_2_year'  if x == '1-2 Year'\n",
    "                                               else 'below_1_year')\n",
    "#Vehicle damage\n",
    "df2['vehicle_damage'] = df2['vehicle_damage'].apply( lambda x: 1 if x == 'yes' \n",
    "                                                    else 0 )"
   ]
  },
  {
   "cell_type": "markdown",
   "id": "28ee4d7b",
   "metadata": {
    "heading_collapsed": true
   },
   "source": [
    "# 3.0. Data Filtering"
   ]
  },
  {
   "cell_type": "code",
   "execution_count": 15,
   "id": "4f4022e7",
   "metadata": {
    "ExecuteTime": {
     "end_time": "2022-02-15T13:08:22.668004Z",
     "start_time": "2022-02-15T13:08:22.612530Z"
    },
    "hidden": true
   },
   "outputs": [],
   "source": [
    "df3 = df2.copy()"
   ]
  },
  {
   "cell_type": "markdown",
   "id": "3f9e1e7f",
   "metadata": {
    "heading_collapsed": true
   },
   "source": [
    "# 4.0. EDA"
   ]
  },
  {
   "cell_type": "code",
   "execution_count": 16,
   "id": "abbf6043",
   "metadata": {
    "ExecuteTime": {
     "end_time": "2022-02-15T13:08:22.698970Z",
     "start_time": "2022-02-15T13:08:22.674040Z"
    },
    "hidden": true
   },
   "outputs": [],
   "source": [
    "df4 = df3.copy()"
   ]
  },
  {
   "cell_type": "markdown",
   "id": "ff513860",
   "metadata": {
    "hidden": true
   },
   "source": [
    "Faze univariada, bivariada, teste de hipoteses... "
   ]
  },
  {
   "cell_type": "markdown",
   "id": "b35114c5",
   "metadata": {
    "heading_collapsed": true,
    "hidden": true
   },
   "source": [
    "## 4.1. Univariate Analysis"
   ]
  },
  {
   "cell_type": "markdown",
   "id": "2be1d38e",
   "metadata": {
    "hidden": true
   },
   "source": [
    "Em um projeto de classificação o objetivo é encontrar quais features tem uma separação natural ou mais separadas naturalmente para ajudar o modelo. O modelo sempre quer descobrir um corte no espaço que consegue separe quem tem interesse no produto e quem não tem interesse no produto. \n",
    "Quando usamos variáveis unidirecional, queremos plotar uma distribuição e olha esta projeção no eixo x, para dizer se são misturadas ou não. \n",
    "Do ponto gráfico podemos analisar diferença de médias, dos quartis, sobreposição entre distribuição. Assim podemos ter uma idéia se a váriavel irá 'bagunçar' ou 'separar' o dataset. Lembrando que o interesse aqui é encontrar as variáveis separadas entre si. "
   ]
  },
  {
   "cell_type": "markdown",
   "id": "9884885f",
   "metadata": {
    "heading_collapsed": true,
    "hidden": true
   },
   "source": [
    "### - Variable \"age\"\n",
    "Possui relevância para o modelo"
   ]
  },
  {
   "cell_type": "code",
   "execution_count": 17,
   "id": "d2be0224",
   "metadata": {
    "ExecuteTime": {
     "end_time": "2022-02-15T13:08:22.906523Z",
     "start_time": "2022-02-15T13:08:22.705416Z"
    },
    "hidden": true,
    "hide_input": false,
    "scrolled": true
   },
   "outputs": [
    {
     "data": {
      "image/png": "[encoded data removed]",
      "text/plain": [
       "<Figure size 576x360 with 1 Axes>"
      ]
     },
     "metadata": {
      "needs_background": "light"
     },
     "output_type": "display_data"
    }
   ],
   "source": [
    "#age\n",
    "sns.boxplot( x= 'response' , y= 'age', data= df4 ).figure.set_size_inches(8,5);"
   ]
  },
  {
   "cell_type": "markdown",
   "id": "f8d5d160",
   "metadata": {
    "hidden": true
   },
   "source": [
    "> Interpretação do boxplot variavel ageXresponse: \n",
    "> - No grupo de pessoas que não estão interessados, temos a mediana próximo dos 35 anos, o primeiro ao terceiro >quartis estão dentro do intervalo de 25 a 50 anos.\n",
    ">- No grupo de pessoas que estão interessados, temos a mediana próxima a 45 anos, e o primeiro quartil estã acima da mediana do primeiro grupo, vemos uma concentração nos primeiro e terceiro quartis na faixa de 35 e 50.\n",
    ">- Numa primeira analise vemos que a um interesse maior das pessoas mais velhas contra as mais novas, nos indicando que esta variável pode ter importância na classificação. "
   ]
  },
  {
   "cell_type": "code",
   "execution_count": 18,
   "id": "d808c931",
   "metadata": {
    "ExecuteTime": {
     "end_time": "2022-02-15T13:08:23.552618Z",
     "start_time": "2022-02-15T13:08:22.909791Z"
    },
    "hidden": true,
    "hide_input": true
   },
   "outputs": [
    {
     "name": "stdout",
     "output_type": "stream",
     "text": [
      "Interested People: 46710 \n",
      "Not Interested People: 334399 \n"
     ]
    },
    {
     "data": {
      "image/png": "[encoded data removed]",
      "text/plain": [
       "<Figure size 1080x864 with 2 Axes>"
      ]
     },
     "metadata": {
      "needs_background": "light"
     },
     "output_type": "display_data"
    }
   ],
   "source": [
    "#Histogram not interested \n",
    "plt.subplot( 2, 1, 1 ).figure.set_size_inches(15,12);\n",
    "aux0 = df4.loc[ df4['response'] == 0, 'age' ]\n",
    "sns.histplot( aux0 );\n",
    "\n",
    "#Histogram interested \n",
    "plt.subplot( 2, 1, 2 );\n",
    "aux0 = df4.loc[ df4['response'] == 1, 'age' ]\n",
    "sns.histplot( aux0 );\n",
    "print( f\"Interested People: {len(df4.loc[ df4['response'] == 1, 'age' ])} \")\n",
    "print( f\"Not Interested People: {len(df4.loc[ df4['response'] == 0, 'age' ])} \")"
   ]
  },
  {
   "cell_type": "markdown",
   "id": "08e999be",
   "metadata": {
    "hidden": true
   },
   "source": [
    "> Ao plotarmos a distribuição: \n",
    "> - Pessoas que não possuem interesse: Temos com relação a amplitude, uma concentração de pessoas muito maior por volta dos 25 anos. A distribuição não se comporta como uma normal, se assemelha mais a uma Poison. \n",
    "> - Pessoas que possuem interese: A concentração fica em torno de 40 a 50 anos, a distribuição fica masi próxima de uma distribuição normal. Percebemos que o interesse cai bastante após a idade dos 50 anos e poucas pessoas interessadas com idades da parte superior do gráfico. \n",
    "> Obs:. Temos um número muito maior de pessoas que não possuem interesse, assim podemos ficar alerta de apesar de a idade ser representativa, temos o problema de diferença de volumes entre as classes."
   ]
  },
  {
   "cell_type": "markdown",
   "id": "62f9e1ad",
   "metadata": {
    "ExecuteTime": {
     "end_time": "2022-02-04T13:21:50.625648Z",
     "start_time": "2022-02-04T13:21:50.612707Z"
    },
    "heading_collapsed": true,
    "hidden": true
   },
   "source": [
    "### - Variable \"annual_premium\"\n",
    "Pouca relevância para o modelo"
   ]
  },
  {
   "cell_type": "code",
   "execution_count": 19,
   "id": "65ffcb88",
   "metadata": {
    "ExecuteTime": {
     "end_time": "2022-02-15T13:08:23.818842Z",
     "start_time": "2022-02-15T13:08:23.559043Z"
    },
    "hidden": true,
    "hide_input": true
   },
   "outputs": [
    {
     "data": {
      "image/png": "[encoded data removed]",
      "text/plain": [
       "<Figure size 864x720 with 1 Axes>"
      ]
     },
     "metadata": {
      "needs_background": "light"
     },
     "output_type": "display_data"
    }
   ],
   "source": [
    "#annual_premium\n",
    "aux =df4[df4['annual_premium'] < 80000 ]\n",
    "sns.boxplot( x= 'response' , y= 'annual_premium', data= aux ).figure.set_size_inches(12,10);\n"
   ]
  },
  {
   "cell_type": "markdown",
   "id": "5b3831af",
   "metadata": {
    "hidden": true
   },
   "source": [
    "> Para analisar o box-plot da 'annual_premium' foi necessário plotar diminuindo os outliers, assim plotamos com filtro de menores de 8000.\n",
    "> Ao comparamos os box-plot para as duas respostas, vemos que as medianas estão muito próximas assim como a concentração entre os quartis. Assim percebemos que esta variável sozinha não nos ajudara no nosso modelo, talvez combinada com outra variável venha a ter utilidade. "
   ]
  },
  {
   "cell_type": "code",
   "execution_count": 20,
   "id": "76221d10",
   "metadata": {
    "ExecuteTime": {
     "end_time": "2022-02-15T13:08:24.714549Z",
     "start_time": "2022-02-15T13:08:23.821176Z"
    },
    "hidden": true,
    "hide_input": true
   },
   "outputs": [
    {
     "name": "stdout",
     "output_type": "stream",
     "text": [
      "Interested People: 46710 \n",
      "Not Interested People: 334399 \n"
     ]
    },
    {
     "data": {
      "image/png": "[encoded data removed]",
      "text/plain": [
       "<Figure size 1080x864 with 2 Axes>"
      ]
     },
     "metadata": {
      "needs_background": "light"
     },
     "output_type": "display_data"
    }
   ],
   "source": [
    "aux =df4[ (df4['annual_premium'] > 10000) & (df4['annual_premium'] <80000) ]\n",
    "\n",
    "#Histogram not interessed annual_premium\n",
    "plt.subplot( 2, 1, 1 ).figure.set_size_inches(15,12);\n",
    "aux0 = aux.loc[ df4['response'] == 0, 'annual_premium' ]\n",
    "sns.histplot( aux0 );\n",
    "\n",
    "#Histogram annual_premium\n",
    "plt.subplot( 2, 1, 2 );\n",
    "aux0 = aux.loc[ df4['response'] == 1, 'annual_premium' ]\n",
    "sns.histplot( aux0 );\n",
    "print( f\"Interested People: {len(df4.loc[ df4['response'] == 1, 'age' ])} \")\n",
    "print( f\"Not Interested People: {len(df4.loc[ df4['response'] == 0, 'age' ])} \")"
   ]
  },
  {
   "cell_type": "markdown",
   "id": "1e4ebc57",
   "metadata": {
    "hidden": true
   },
   "source": [
    ">Ao plotar a distribuição sem os out-liers, podemos ver uma distribuição bem parecida, além de considearar que a diferenã de volume é bem alta. Logo, reafirmamos que esta variável tera pouco relevância de forma idependênte no nossso modelo podendo atrapalhar mais do que ajudar. "
   ]
  },
  {
   "cell_type": "markdown",
   "id": "2e2308af",
   "metadata": {
    "ExecuteTime": {
     "end_time": "2022-02-04T13:22:27.929444Z",
     "start_time": "2022-02-04T13:22:27.925584Z"
    },
    "heading_collapsed": true,
    "hidden": true
   },
   "source": [
    "### Variable \"driving_license\"\n",
    "Não conclusiva de maneira isolada"
   ]
  },
  {
   "cell_type": "code",
   "execution_count": 21,
   "id": "6186bf3b",
   "metadata": {
    "ExecuteTime": {
     "end_time": "2022-02-15T13:08:24.739375Z",
     "start_time": "2022-02-15T13:08:24.716287Z"
    },
    "hidden": true,
    "hide_input": false
   },
   "outputs": [
    {
     "data": {
      "text/html": [
       "<div>\n",
       "<style scoped>\n",
       "    .dataframe tbody tr th:only-of-type {\n",
       "        vertical-align: middle;\n",
       "    }\n",
       "\n",
       "    .dataframe tbody tr th {\n",
       "        vertical-align: top;\n",
       "    }\n",
       "\n",
       "    .dataframe thead th {\n",
       "        text-align: right;\n",
       "    }\n",
       "</style>\n",
       "<table border=\"1\" class=\"dataframe\">\n",
       "  <thead>\n",
       "    <tr style=\"text-align: right;\">\n",
       "      <th></th>\n",
       "      <th>response</th>\n",
       "      <th>driving_license</th>\n",
       "      <th>driving_license_perc</th>\n",
       "    </tr>\n",
       "  </thead>\n",
       "  <tbody>\n",
       "    <tr>\n",
       "      <th>0</th>\n",
       "      <td>0</td>\n",
       "      <td>333628</td>\n",
       "      <td>0.877283</td>\n",
       "    </tr>\n",
       "    <tr>\n",
       "      <th>1</th>\n",
       "      <td>1</td>\n",
       "      <td>46669</td>\n",
       "      <td>0.122717</td>\n",
       "    </tr>\n",
       "  </tbody>\n",
       "</table>\n",
       "</div>"
      ],
      "text/plain": [
       "   response  driving_license  driving_license_perc\n",
       "0         0           333628              0.877283\n",
       "1         1            46669              0.122717"
      ]
     },
     "execution_count": 21,
     "metadata": {},
     "output_type": "execute_result"
    }
   ],
   "source": [
    "#box-plot driving_license\n",
    "#0 = não responderam e não dirigem\n",
    "#1 = responderam e dirigem\n",
    "aux = df4[['driving_license','response']].groupby('response').sum().reset_index()\n",
    "aux['driving_license_perc'] = aux['driving_license']/aux['driving_license'].sum()\n",
    "#sns.barplot(x='response', y = 'driving_license', data = aux);\n",
    "aux"
   ]
  },
  {
   "cell_type": "markdown",
   "id": "87226ac4",
   "metadata": {
    "ExecuteTime": {
     "end_time": "2022-02-04T13:46:31.147694Z",
     "start_time": "2022-02-04T13:46:31.104748Z"
    },
    "hidden": true
   },
   "source": [
    "> Pouco conclusiva, analisando isoladamente temos que a maioria das pessoas entre as que dirigem(87%) não possuem interesse no seguro. Poŕém analisar esta variável sem levar em consideração outros fatores não esclarece muita coisa. Ou qual a propensão"
   ]
  },
  {
   "cell_type": "code",
   "execution_count": 22,
   "id": "806448d2",
   "metadata": {
    "ExecuteTime": {
     "end_time": "2022-02-15T13:08:24.795379Z",
     "start_time": "2022-02-15T13:08:24.741479Z"
    },
    "hidden": true
   },
   "outputs": [
    {
     "data": {
      "text/html": [
       "<div>\n",
       "<style scoped>\n",
       "    .dataframe tbody tr th:only-of-type {\n",
       "        vertical-align: middle;\n",
       "    }\n",
       "\n",
       "    .dataframe tbody tr th {\n",
       "        vertical-align: top;\n",
       "    }\n",
       "\n",
       "    .dataframe thead th {\n",
       "        text-align: right;\n",
       "    }\n",
       "</style>\n",
       "<table border=\"1\" class=\"dataframe\">\n",
       "  <thead>\n",
       "    <tr style=\"text-align: right;\">\n",
       "      <th>response</th>\n",
       "      <th>0</th>\n",
       "      <th>1</th>\n",
       "    </tr>\n",
       "    <tr>\n",
       "      <th>driving_license</th>\n",
       "      <th></th>\n",
       "      <th></th>\n",
       "    </tr>\n",
       "  </thead>\n",
       "  <tbody>\n",
       "    <tr>\n",
       "      <th>0</th>\n",
       "      <td>771</td>\n",
       "      <td>41</td>\n",
       "    </tr>\n",
       "    <tr>\n",
       "      <th>1</th>\n",
       "      <td>333628</td>\n",
       "      <td>46669</td>\n",
       "    </tr>\n",
       "  </tbody>\n",
       "</table>\n",
       "</div>"
      ],
      "text/plain": [
       "response              0      1\n",
       "driving_license               \n",
       "0                   771     41\n",
       "1                333628  46669"
      ]
     },
     "execution_count": 22,
     "metadata": {},
     "output_type": "execute_result"
    }
   ],
   "source": [
    "pd.crosstab( df4['driving_license'], df4['response'] )"
   ]
  },
  {
   "cell_type": "code",
   "execution_count": 23,
   "id": "3a6d3f4e",
   "metadata": {
    "ExecuteTime": {
     "end_time": "2022-02-15T13:08:24.803158Z",
     "start_time": "2022-02-15T13:08:24.797677Z"
    },
    "hidden": true
   },
   "outputs": [
    {
     "data": {
      "text/plain": [
       "5.317769130998703"
      ]
     },
     "execution_count": 23,
     "metadata": {},
     "output_type": "execute_result"
    }
   ],
   "source": [
    "41*100/771"
   ]
  },
  {
   "cell_type": "markdown",
   "id": "b2d10984",
   "metadata": {
    "hidden": true
   },
   "source": [
    "> Fazendo a tabela cruzada percebemos que o interesse das pessoas que tem licensa é maior, pois temos que entre os que não possuem licensa o interesse cai para 5,3%(41 dos 812) contra 12% dos que tem carteira de motorista. "
   ]
  },
  {
   "cell_type": "markdown",
   "id": "3296b04e",
   "metadata": {
    "heading_collapsed": true,
    "hidden": true
   },
   "source": [
    "### Variable \"region_code\"\n",
    "pouca relevância para o modelo"
   ]
  },
  {
   "cell_type": "code",
   "execution_count": 24,
   "id": "3a1eaa41",
   "metadata": {
    "ExecuteTime": {
     "end_time": "2022-02-15T13:08:25.051488Z",
     "start_time": "2022-02-15T13:08:24.805858Z"
    },
    "hidden": true,
    "hide_input": false
   },
   "outputs": [
    {
     "data": {
      "image/png": "[encoded data removed]",
      "text/plain": [
       "<Figure size 864x648 with 1 Axes>"
      ]
     },
     "metadata": {
      "needs_background": "light"
     },
     "output_type": "display_data"
    }
   ],
   "source": [
    "#plot scatterplot region_code\n",
    "aux = df4[['id', 'region_code', 'response']].groupby(['region_code', 'response']).count().reset_index()\n",
    "aux['response'] = aux['response'].map({0:'not interested', 1:'interested'})\n",
    "ax = sns.scatterplot( x='region_code', y = 'id', hue = 'response', data = aux, s=20)\n",
    "ax.set_title('interested/not interested customers per region_code\\n')\n",
    "ax.legend(title='')\n",
    "ax.set_ylabel('')\n",
    "ax.figure.set_size_inches(12,9);\n",
    "\n",
    "\n"
   ]
  },
  {
   "cell_type": "markdown",
   "id": "c4c77145",
   "metadata": {
    "hidden": true,
    "hide_input": true
   },
   "source": [
    "> Mesmo que algumas regiões isoladamente tenha uma diferença expressiva de pessoas que tiveram interesse e não tiveram interesse, podemos ver no gráfico que a grande maioria possui um comportamento parecido. Assim, de forma isolada a variável region_code possui pouca significância para o modelo. "
   ]
  },
  {
   "cell_type": "markdown",
   "id": "4a4fba6b",
   "metadata": {
    "heading_collapsed": true,
    "hidden": true
   },
   "source": [
    "### Variable \"previously_insured\"\n",
    "Possui relevância para o modelo"
   ]
  },
  {
   "cell_type": "code",
   "execution_count": 25,
   "id": "6fa51732",
   "metadata": {
    "ExecuteTime": {
     "end_time": "2022-02-15T13:08:25.108964Z",
     "start_time": "2022-02-15T13:08:25.054597Z"
    },
    "hidden": true,
    "hide_input": true
   },
   "outputs": [
    {
     "data": {
      "text/html": [
       "<div>\n",
       "<style scoped>\n",
       "    .dataframe tbody tr th:only-of-type {\n",
       "        vertical-align: middle;\n",
       "    }\n",
       "\n",
       "    .dataframe tbody tr th {\n",
       "        vertical-align: top;\n",
       "    }\n",
       "\n",
       "    .dataframe thead th {\n",
       "        text-align: right;\n",
       "    }\n",
       "</style>\n",
       "<table border=\"1\" class=\"dataframe\">\n",
       "  <thead>\n",
       "    <tr style=\"text-align: right;\">\n",
       "      <th>response</th>\n",
       "      <th>0</th>\n",
       "      <th>1</th>\n",
       "    </tr>\n",
       "    <tr>\n",
       "      <th>previously_insured</th>\n",
       "      <th></th>\n",
       "      <th></th>\n",
       "    </tr>\n",
       "  </thead>\n",
       "  <tbody>\n",
       "    <tr>\n",
       "      <th>0</th>\n",
       "      <td>0.774546</td>\n",
       "      <td>0.225454</td>\n",
       "    </tr>\n",
       "    <tr>\n",
       "      <th>1</th>\n",
       "      <td>0.999095</td>\n",
       "      <td>0.000905</td>\n",
       "    </tr>\n",
       "  </tbody>\n",
       "</table>\n",
       "</div>"
      ],
      "text/plain": [
       "response                   0         1\n",
       "previously_insured                    \n",
       "0                   0.774546  0.225454\n",
       "1                   0.999095  0.000905"
      ]
     },
     "execution_count": 25,
     "metadata": {},
     "output_type": "execute_result"
    }
   ],
   "source": [
    "#% tabela interesse X ja tem seguro\n",
    "pd.crosstab( df4['previously_insured'], df4['response'] ).apply( lambda x: x/x.sum(), axis =1)"
   ]
  },
  {
   "cell_type": "code",
   "execution_count": 26,
   "id": "4f519069",
   "metadata": {
    "ExecuteTime": {
     "end_time": "2022-02-15T13:08:25.113871Z",
     "start_time": "2022-02-15T13:08:25.110584Z"
    },
    "hidden": true,
    "hide_input": true
   },
   "outputs": [
    {
     "name": "stdout",
     "output_type": "stream",
     "text": [
      " Pocentagem dos que não tem seguro e tem interesse: 22.55%\n",
      " Pocentagem dos que tem seguro e não tem interesse: 0.0905%\n"
     ]
    }
   ],
   "source": [
    "a = (46552*100)/(159929+46552)\n",
    "b = (158*100)/(174470+158)\n",
    "print( f' Pocentagem dos que não tem seguro e tem interesse: {a:.4}%')\n",
    "print( f' Pocentagem dos que tem seguro e não tem interesse: {b:.3}%')"
   ]
  },
  {
   "cell_type": "markdown",
   "id": "d1e1442c",
   "metadata": {
    "hidden": true
   },
   "source": [
    ">Fazendo a tabela de contigência, onde nos mostra a relação quantas pessoas que já posssuem ou não seguro de automóvel e possuem ou não iteresse no seguro oferecido. \n",
    "> Entre as pessoas que não possuem seguro, o interesse foi de 29,11% contra 0.09% das que já possuem. Aqui fica claro que esta variável é importante e relevante, pois claramente os clientes que não possuem seguro tem maior propensão a querer seguro."
   ]
  },
  {
   "cell_type": "markdown",
   "id": "27f5a452",
   "metadata": {
    "ExecuteTime": {
     "end_time": "2022-02-04T15:05:09.092341Z",
     "start_time": "2022-02-04T15:05:09.086328Z"
    },
    "heading_collapsed": true,
    "hidden": true
   },
   "source": [
    "### Variable \"vehicle_age\"\n",
    "Parte relevânte para o modelo\n"
   ]
  },
  {
   "cell_type": "code",
   "execution_count": 27,
   "id": "05293fcb",
   "metadata": {
    "ExecuteTime": {
     "end_time": "2022-02-15T13:08:25.175916Z",
     "start_time": "2022-02-15T13:08:25.116571Z"
    },
    "hidden": true
   },
   "outputs": [
    {
     "data": {
      "text/html": [
       "<div>\n",
       "<style scoped>\n",
       "    .dataframe tbody tr th:only-of-type {\n",
       "        vertical-align: middle;\n",
       "    }\n",
       "\n",
       "    .dataframe tbody tr th {\n",
       "        vertical-align: top;\n",
       "    }\n",
       "\n",
       "    .dataframe thead th {\n",
       "        text-align: right;\n",
       "    }\n",
       "</style>\n",
       "<table border=\"1\" class=\"dataframe\">\n",
       "  <thead>\n",
       "    <tr style=\"text-align: right;\">\n",
       "      <th></th>\n",
       "      <th>vehicle_age</th>\n",
       "      <th>response</th>\n",
       "      <th>0</th>\n",
       "    </tr>\n",
       "  </thead>\n",
       "  <tbody>\n",
       "    <tr>\n",
       "      <th>1</th>\n",
       "      <td>below_1_year</td>\n",
       "      <td>0</td>\n",
       "      <td>0.413488</td>\n",
       "    </tr>\n",
       "    <tr>\n",
       "      <th>4</th>\n",
       "      <td>below_1_year</td>\n",
       "      <td>1</td>\n",
       "      <td>0.018897</td>\n",
       "    </tr>\n",
       "    <tr>\n",
       "      <th>0</th>\n",
       "      <td>between_1_2_year</td>\n",
       "      <td>0</td>\n",
       "      <td>0.434285</td>\n",
       "    </tr>\n",
       "    <tr>\n",
       "      <th>2</th>\n",
       "      <td>between_1_2_year</td>\n",
       "      <td>1</td>\n",
       "      <td>0.091328</td>\n",
       "    </tr>\n",
       "    <tr>\n",
       "      <th>3</th>\n",
       "      <td>over_2_years</td>\n",
       "      <td>0</td>\n",
       "      <td>0.029663</td>\n",
       "    </tr>\n",
       "    <tr>\n",
       "      <th>5</th>\n",
       "      <td>over_2_years</td>\n",
       "      <td>1</td>\n",
       "      <td>0.012338</td>\n",
       "    </tr>\n",
       "  </tbody>\n",
       "</table>\n",
       "</div>"
      ],
      "text/plain": [
       "        vehicle_age  response         0\n",
       "1      below_1_year         0  0.413488\n",
       "4      below_1_year         1  0.018897\n",
       "0  between_1_2_year         0  0.434285\n",
       "2  between_1_2_year         1  0.091328\n",
       "3      over_2_years         0  0.029663\n",
       "5      over_2_years         1  0.012338"
      ]
     },
     "execution_count": 27,
     "metadata": {},
     "output_type": "execute_result"
    }
   ],
   "source": [
    "df4[['vehicle_age', 'response']].value_counts( normalize = True ).reset_index().sort_values('vehicle_age')"
   ]
  },
  {
   "cell_type": "markdown",
   "id": "1a485876",
   "metadata": {
    "hidden": true
   },
   "source": [
    "> Notamos que com pessoas que possuem carros com mais de 2 anos, as respostas entre querer ou não seguro ficaram pareceidas 29% contra 12%, estes dados podem atrapalhar o modelo\n",
    "> Já nos casos de carros com menos de 1 ano e entre 1 e 2 houve maior discrepância nas resposta, oq faz ter uma discriminção razoável para o modelo. "
   ]
  },
  {
   "cell_type": "markdown",
   "id": "1fd0413d",
   "metadata": {
    "heading_collapsed": true,
    "hidden": true
   },
   "source": [
    "### Variable \"policy_sales_channel\"\n",
    "Não conclusiva"
   ]
  },
  {
   "cell_type": "code",
   "execution_count": 28,
   "id": "a2258c74",
   "metadata": {
    "ExecuteTime": {
     "end_time": "2022-02-15T13:08:26.210451Z",
     "start_time": "2022-02-15T13:08:25.181054Z"
    },
    "hidden": true
   },
   "outputs": [
    {
     "data": {
      "image/png": "[encoded data removed]",
      "text/plain": [
       "<Figure size 1728x864 with 1 Axes>"
      ]
     },
     "metadata": {
      "needs_background": "light"
     },
     "output_type": "display_data"
    }
   ],
   "source": [
    "aux = df4[['policy_sales_channel', 'response']].groupby( 'policy_sales_channel' ).sum().reset_index()\n",
    "sns.barplot( x='response', y='policy_sales_channel', data=aux ).figure.set_size_inches(24, 12)"
   ]
  },
  {
   "cell_type": "markdown",
   "id": "ee5415a2",
   "metadata": {
    "ExecuteTime": {
     "end_time": "2022-02-04T20:42:58.977971Z",
     "start_time": "2022-02-04T20:42:58.973997Z"
    },
    "hidden": true
   },
   "source": [
    "### Variable \"vintage\"\n",
    "Sem Relevância"
   ]
  },
  {
   "cell_type": "code",
   "execution_count": 29,
   "id": "59e782c2",
   "metadata": {
    "ExecuteTime": {
     "end_time": "2022-02-15T13:08:26.399761Z",
     "start_time": "2022-02-15T13:08:26.212090Z"
    },
    "hidden": true,
    "hide_input": true
   },
   "outputs": [
    {
     "data": {
      "image/png": "[encoded data removed]",
      "text/plain": [
       "<Figure size 864x720 with 1 Axes>"
      ]
     },
     "metadata": {
      "needs_background": "light"
     },
     "output_type": "display_data"
    }
   ],
   "source": [
    "sns.boxplot( x= 'response' , y= 'vintage', data= df4 ).figure.set_size_inches(12,10);"
   ]
  },
  {
   "cell_type": "code",
   "execution_count": 30,
   "id": "a8c08132",
   "metadata": {
    "ExecuteTime": {
     "end_time": "2022-02-15T13:08:26.917977Z",
     "start_time": "2022-02-15T13:08:26.402649Z"
    },
    "hidden": true,
    "hide_input": false
   },
   "outputs": [
    {
     "data": {
      "image/png": "[encoded data removed]",
      "text/plain": [
       "<Figure size 1080x432 with 2 Axes>"
      ]
     },
     "metadata": {
      "needs_background": "light"
     },
     "output_type": "display_data"
    }
   ],
   "source": [
    "\n",
    "plt.subplot( 1, 2, 1 )\n",
    "aux00 = df4.loc[df4['response'] == 0, 'vintage']\n",
    "sns.histplot( aux00 ).figure.set_size_inches(12,6);\n",
    "\n",
    "plt.subplot( 1, 2, 2 ).figure.set_size_inches(15,6)\n",
    "aux00 = df4.loc[df4['response'] == 1, 'vintage']\n",
    "sns.histplot( aux00 );"
   ]
  },
  {
   "cell_type": "markdown",
   "id": "b1bdc150",
   "metadata": {
    "hidden": true
   },
   "source": [
    "> Esta variável não possuí relevância, pois a maneira q foi usada o tempo de  que os clientes possuem, é renoada anualmente, o que faz com que seja praticamente linear, quanto a resposta."
   ]
  },
  {
   "cell_type": "code",
   "execution_count": 31,
   "id": "c177aa98",
   "metadata": {
    "ExecuteTime": {
     "end_time": "2022-02-15T13:08:26.923568Z",
     "start_time": "2022-02-15T13:08:26.919693Z"
    },
    "hidden": true
   },
   "outputs": [],
   "source": [
    "#vehicle_age"
   ]
  },
  {
   "cell_type": "code",
   "execution_count": 32,
   "id": "1bc71041",
   "metadata": {
    "ExecuteTime": {
     "end_time": "2022-02-15T13:08:26.930060Z",
     "start_time": "2022-02-15T13:08:26.925295Z"
    },
    "hidden": true
   },
   "outputs": [],
   "source": [
    "#vehicle_damage"
   ]
  },
  {
   "cell_type": "code",
   "execution_count": 33,
   "id": "bff75555",
   "metadata": {
    "ExecuteTime": {
     "end_time": "2022-02-15T13:08:26.940827Z",
     "start_time": "2022-02-15T13:08:26.931500Z"
    },
    "hidden": true
   },
   "outputs": [],
   "source": [
    "#policy_sales_channel"
   ]
  },
  {
   "cell_type": "code",
   "execution_count": 34,
   "id": "9572f3d4",
   "metadata": {
    "ExecuteTime": {
     "end_time": "2022-02-15T13:08:26.956028Z",
     "start_time": "2022-02-15T13:08:26.942758Z"
    },
    "hidden": true
   },
   "outputs": [],
   "source": [
    "#vintage\n"
   ]
  },
  {
   "cell_type": "code",
   "execution_count": 35,
   "id": "52423321",
   "metadata": {
    "ExecuteTime": {
     "end_time": "2022-02-15T13:08:26.966366Z",
     "start_time": "2022-02-15T13:08:26.960336Z"
    },
    "hidden": true
   },
   "outputs": [],
   "source": [
    "#response"
   ]
  },
  {
   "cell_type": "markdown",
   "id": "94ba2b7e",
   "metadata": {
    "heading_collapsed": true
   },
   "source": [
    "# 5.0. Data Preparation"
   ]
  },
  {
   "cell_type": "code",
   "execution_count": 36,
   "id": "d2177baf",
   "metadata": {
    "ExecuteTime": {
     "end_time": "2022-02-15T13:08:26.993469Z",
     "start_time": "2022-02-15T13:08:26.968295Z"
    },
    "hidden": true
   },
   "outputs": [],
   "source": [
    "df5 = df4.copy()"
   ]
  },
  {
   "cell_type": "code",
   "execution_count": 37,
   "id": "5049e42c",
   "metadata": {
    "ExecuteTime": {
     "end_time": "2022-02-15T13:08:27.138758Z",
     "start_time": "2022-02-15T13:08:27.001454Z"
    },
    "hidden": true
   },
   "outputs": [],
   "source": [
    "X = df4.drop('response', axis = 1 )\n",
    "y = df4['response'].copy()\n",
    "\n",
    "x_train, x_validation, y_train, y_validation = ms.train_test_split( X, y, test_size = 0.20 )\n",
    "\n",
    "df5 = pd.concat( [x_train, y_train], axis = 1 )"
   ]
  },
  {
   "cell_type": "markdown",
   "id": "e7010692",
   "metadata": {
    "heading_collapsed": true,
    "hidden": true
   },
   "source": [
    "## 5.1. Standardization"
   ]
  },
  {
   "cell_type": "code",
   "execution_count": 38,
   "id": "e777b5a4",
   "metadata": {
    "ExecuteTime": {
     "end_time": "2022-02-15T13:08:27.163335Z",
     "start_time": "2022-02-15T13:08:27.140211Z"
    },
    "hidden": true
   },
   "outputs": [],
   "source": [
    "ss = pp.StandardScaler()\n",
    "\n",
    "# annual_premium \n",
    "df5['annual_premium'] = ss.fit_transform( df5[['annual_premium']].values )\n",
    "\n"
   ]
  },
  {
   "cell_type": "markdown",
   "id": "dca5f692",
   "metadata": {
    "hidden": true
   },
   "source": [
    "> \"annual_premium -  Assume características próximas a normal, porém tem muito outliers\n",
    "Seria necessário fazer um tratamento destes outliers, mas pode desconhecimento de detalhes desta variável \n",
    "e influência no negócio assumiremos o risco de deixa-la inauterada no primeiro ciclo do Crisp.\n",
    "\n",
    ">StandardScalerque implementa a TransformerAPI para calcular a média e o desvio padrão em um conjunto de treinamento, de modo a poder reaplicar posteriormente a mesma transformação no conjunto de teste. "
   ]
  },
  {
   "cell_type": "markdown",
   "id": "4dc7afee",
   "metadata": {
    "ExecuteTime": {
     "end_time": "2022-02-05T19:12:25.939878Z",
     "start_time": "2022-02-05T19:12:25.931974Z"
    },
    "heading_collapsed": true,
    "hidden": true
   },
   "source": [
    "## 5.2. Rescaling"
   ]
  },
  {
   "cell_type": "code",
   "execution_count": 39,
   "id": "1885f96f",
   "metadata": {
    "ExecuteTime": {
     "end_time": "2022-02-15T13:08:27.205143Z",
     "start_time": "2022-02-15T13:08:27.165883Z"
    },
    "hidden": true
   },
   "outputs": [],
   "source": [
    "mms_age = pp.MinMaxScaler()\n",
    "mms_vintage = pp.MinMaxScaler()\n",
    "\n",
    "#Age - Não possui distribuição normal, fazer rescaling para normalização.\n",
    "df5['age'] = mms_age.fit_transform( df5[['age']].values )\n",
    "\n",
    "# vintage\n",
    "df5['vintage'] = mms_vintage.fit_transform( df5[['vintage']].values )"
   ]
  },
  {
   "cell_type": "markdown",
   "id": "3735dfcc",
   "metadata": {
    "hidden": true
   },
   "source": [
    "> MinMaxScaler do Sklearn é uma técnica de pré-processamento que coloca os dados na mesma escala. A intenção aqui é colocar os dados na mesma escala para melhorar a efinciência do nosso modelo. "
   ]
  },
  {
   "cell_type": "markdown",
   "id": "e018d0d1",
   "metadata": {
    "heading_collapsed": true,
    "hidden": true
   },
   "source": [
    "## 5.3. Encoder"
   ]
  },
  {
   "cell_type": "code",
   "execution_count": 40,
   "id": "c59a83ce",
   "metadata": {
    "ExecuteTime": {
     "end_time": "2022-02-15T13:08:27.360737Z",
     "start_time": "2022-02-15T13:08:27.207997Z"
    },
    "hidden": true
   },
   "outputs": [],
   "source": [
    "#gender - One Hot Encoding / Target Encoding\n",
    "target_ecode_gender = df5.groupby( 'gender' )['response'].mean()\n",
    "df5.loc[:, 'gender' ] = df5['gender'].map( target_ecode_gender )\n",
    "\n",
    "\n",
    "#region_code - Frequency Encoding / Target Encoding / Weighted Target Encoding\n",
    "target_encode_region_code = df5.groupby( 'region_code' )[ 'response' ].mean( )\n",
    "df5.loc[:, 'region_code' ] = df5['region_code' ].map( target_encode_region_code )\n",
    "\n",
    "#vehicle_age - one Hot Encoding / Label Encoding\n",
    "df5 = pd.get_dummies( df5, prefix = 'vehicle_age', columns = ['vehicle_age'] )\n",
    "\n",
    "#policy_sales_channel - Target Encoding / Frequency Encoding\n",
    "fe_policy_sales_channel = df5.groupby( 'policy_sales_channel' ).size() / len( df5 )\n",
    "df5.loc[:, 'policy_sales_channel' ] = df5['policy_sales_channel' ].map( fe_policy_sales_channel )\n",
    "\n",
    "\n"
   ]
  },
  {
   "cell_type": "markdown",
   "id": "b8880593",
   "metadata": {
    "hidden": true
   },
   "source": [
    "> Acima de 7 níveis na variável categórica, o uso do One Hot Encoding tornasse inviável, pois cria muitas dimensões, o Target Encoding é mais aconselhado para um primeiro ciclo nestes casos. \n",
    "\n",
    "> \"region_code\" -> Taget Econding - Dada uma variável categórica codificamos cada categoria possível com a média do alvo Y das instâncias com essa categoria. Agrupa-se as instâncias pela sua categoria/realização da variável categórica e tira-se a média de todos os targets Y dessas instâncias. Substitui-se cada categoria da variável pela média calculada para essa categoria.\n",
    "\n",
    "> \"vehicle_age\" -> one Hot Encoding - partir de uma variável categórica cria-se um vetor de features binárias onde cada feature representa o pertencimento ou não da instância à uma categoria. \n",
    "\n",
    "> \"policy_sales_channel\" -> Frequency Encoding - Conta a frequencia do que cada valor represente em relação ao total, dando peso maiores para valores que aparecem mais. "
   ]
  },
  {
   "cell_type": "markdown",
   "id": "59d89668",
   "metadata": {
    "ExecuteTime": {
     "end_time": "2022-02-07T12:27:35.094144Z",
     "start_time": "2022-02-07T12:27:35.084401Z"
    },
    "heading_collapsed": true,
    "hidden": true
   },
   "source": [
    "## 5.4 Validation Preparation"
   ]
  },
  {
   "cell_type": "code",
   "execution_count": 41,
   "id": "9a83cc5b",
   "metadata": {
    "ExecuteTime": {
     "end_time": "2022-02-15T13:08:27.441892Z",
     "start_time": "2022-02-15T13:08:27.362289Z"
    },
    "hidden": true
   },
   "outputs": [],
   "source": [
    "# gender\n",
    "x_validation.loc[:, 'gender'] = x_validation.loc[:, 'gender'].map( target_ecode_gender )\n",
    "\n",
    "#age \n",
    "x_validation.loc[:, 'age']  = mms_age.transform( x_validation[['age']].values )\n",
    "\n",
    "#region_code \n",
    "x_validation.loc[:, 'region_code' ] = x_validation.loc[:, 'region_code' ].map( target_encode_region_code )\n",
    "\n",
    "#vehicle_age \n",
    "x_validation = pd.get_dummies( x_validation, prefix = 'vehicle_age', columns = ['vehicle_age'] )\n",
    "\n",
    "# annual_premium \n",
    "x_validation.loc[:, 'annual_premium'] = ss.transform( x_validation[['annual_premium']].values )\n",
    "\n",
    "#policy_sales_channel \n",
    "x_validation.loc[:, 'policy_sales_channel' ] = x_validation['policy_sales_channel' ].map( fe_policy_sales_channel )\n",
    "\n",
    "# vintage\n",
    "x_validation.loc[:, 'vintage'] = mms_vintage.fit_transform( x_validation[['vintage']].values )\n",
    "\n",
    "#fillna\n",
    "x_validation = x_validation.fillna( 0 )\n"
   ]
  },
  {
   "cell_type": "code",
   "execution_count": null,
   "id": "55db812e",
   "metadata": {
    "hidden": true
   },
   "outputs": [],
   "source": []
  },
  {
   "cell_type": "code",
   "execution_count": null,
   "id": "fd5ed1fb",
   "metadata": {
    "hidden": true
   },
   "outputs": [],
   "source": []
  },
  {
   "cell_type": "markdown",
   "id": "a85ec06c",
   "metadata": {
    "heading_collapsed": true
   },
   "source": [
    "# 6.0. Feature Selection"
   ]
  },
  {
   "cell_type": "code",
   "execution_count": 42,
   "id": "de3845ae",
   "metadata": {
    "ExecuteTime": {
     "end_time": "2022-02-15T13:08:27.451258Z",
     "start_time": "2022-02-15T13:08:27.443377Z"
    },
    "hidden": true
   },
   "outputs": [],
   "source": [
    "df6 = df5.copy()"
   ]
  },
  {
   "cell_type": "markdown",
   "id": "44a5d58b",
   "metadata": {
    "hidden": true
   },
   "source": [
    "## 6.2 Boruta"
   ]
  },
  {
   "cell_type": "markdown",
   "id": "60630fc3",
   "metadata": {
    "ExecuteTime": {
     "end_time": "2022-02-07T12:47:03.316418Z",
     "start_time": "2022-02-07T12:47:03.312366Z"
    },
    "hidden": true
   },
   "source": [
    "## 6.2 Features Importance"
   ]
  },
  {
   "cell_type": "code",
   "execution_count": 43,
   "id": "910f185a",
   "metadata": {
    "ExecuteTime": {
     "end_time": "2022-02-15T13:08:33.912615Z",
     "start_time": "2022-02-15T13:08:27.453068Z"
    },
    "hidden": true
   },
   "outputs": [
    {
     "data": {
      "text/plain": [
       "ExtraTreesClassifier(max_depth=6, n_jobs=-1, random_state=0)"
      ]
     },
     "execution_count": 43,
     "metadata": {},
     "output_type": "execute_result"
    }
   ],
   "source": [
    "#model definition\n",
    "forest = en.ExtraTreesClassifier( n_estimators = 100, random_state = 0, n_jobs = -1, max_depth = 6 )\n",
    "\n",
    "#data preparation\n",
    "x_train_n = df6.drop( ['id', 'response'], axis = 1)\n",
    "y_train_n = y_train.values\n",
    "forest.fit( x_train_n, y_train_n )"
   ]
  },
  {
   "cell_type": "markdown",
   "id": "fa23c453",
   "metadata": {
    "hidden": true
   },
   "source": [
    "> Usamos o ExtratreesClassifier, para rodar um modelo com todos nossas features, separadas em treino e após usaremos o metodo \"feature_importances_\" para termos a classificação das features em termos de importância para nosso modelo"
   ]
  },
  {
   "cell_type": "code",
   "execution_count": 44,
   "id": "6cecec6c",
   "metadata": {
    "ExecuteTime": {
     "end_time": "2022-02-15T13:08:34.172708Z",
     "start_time": "2022-02-15T13:08:33.923561Z"
    },
    "hidden": true,
    "scrolled": true
   },
   "outputs": [
    {
     "name": "stdout",
     "output_type": "stream",
     "text": [
      "Feature ranking:\n",
      "                        feature  importance\n",
      "0            previously_insured    0.609841\n",
      "0      vehicle_age_below_1_year    0.144681\n",
      "0          policy_sales_channel    0.074244\n",
      "0  vehicle_age_between_1_2_year    0.053397\n",
      "0                           age    0.048840\n",
      "0                   region_code    0.031151\n",
      "0      vehicle_age_over_2_years    0.030508\n",
      "0                        gender    0.005053\n",
      "0               driving_license    0.001376\n",
      "0                annual_premium    0.000727\n",
      "0                       vintage    0.000183\n",
      "0                vehicle_damage    0.000000\n"
     ]
    },
    {
     "data": {
      "image/png": "[encoded data removed]",
      "text/plain": [
       "<Figure size 432x288 with 1 Axes>"
      ]
     },
     "metadata": {
      "needs_background": "light"
     },
     "output_type": "display_data"
    }
   ],
   "source": [
    "importances = forest.feature_importances_\n",
    "std = np.std([tree.feature_importances_ for tree in forest.estimators_], axis=0)\n",
    "indices = np.argsort(importances)[::-1]#importanica das arvores ordenada pelo maior valor.\n",
    "\n",
    "# Print the feature ranking\n",
    "print(\"Feature ranking:\")\n",
    "df = pd.DataFrame()\n",
    "for i, j in zip( x_train_n, forest.feature_importances_ ):\n",
    "    aux = pd.DataFrame( {'feature': i, 'importance': j}, index=[0] )\n",
    "    df = pd.concat( [df, aux], axis=0 )\n",
    "    \n",
    "print( df.sort_values( 'importance', ascending=False ) )\n",
    "\n",
    "# Plot the impurity-based feature importances of the forest\n",
    "plt.figure()\n",
    "plt.title(\"Feature importances\")\n",
    "plt.bar(range(x_train_n.shape[1]), importances[indices], color=\"r\", yerr=std[indices], align=\"center\")\n",
    "plt.xticks(range(x_train_n.shape[1]), indices)\n",
    "plt.xlim([-1, x_train_n.shape[1]])\n",
    "plt.show()"
   ]
  },
  {
   "cell_type": "markdown",
   "id": "97de1bb5",
   "metadata": {
    "hidden": true
   },
   "source": [
    "> Vamos usar as 7 primeiras features do ranking, pois a partir da setima, a importancia ja cai para menos de 2%. Para um primeiro ciclo de crsping"
   ]
  },
  {
   "cell_type": "code",
   "execution_count": 45,
   "id": "7491a648",
   "metadata": {
    "ExecuteTime": {
     "end_time": "2022-02-15T13:08:34.190950Z",
     "start_time": "2022-02-15T13:08:34.175376Z"
    },
    "hidden": true
   },
   "outputs": [],
   "source": [
    "cols_selected = [ 'vintage', 'annual_premium', 'age', 'region_code', 'previously_insured','policy_sales_channel' ]\n",
    "\n",
    "x_train = df6[ cols_selected ]\n",
    "x_val = x_validation[ cols_selected ]\n",
    "y_val = y_validation.copy()"
   ]
  },
  {
   "cell_type": "markdown",
   "id": "b0d6a52d",
   "metadata": {
    "heading_collapsed": true
   },
   "source": [
    "# 7.0. Machine Learning"
   ]
  },
  {
   "cell_type": "markdown",
   "id": "fc6a71da",
   "metadata": {
    "hidden": true
   },
   "source": [
    "> Para medir a performance, usaremos a metrica Precision top k e Recall top . \n",
    "> - Precision top k: Conta quantas predições foram corretas até k e dividi por todas as predições realizada pelo modelo até k. \n",
    "> - Recall Top K: Conta quantas predições foram corretas até k e dividi por todos os exemplos verdadeiros. "
   ]
  },
  {
   "cell_type": "code",
   "execution_count": 198,
   "id": "b857f423",
   "metadata": {
    "ExecuteTime": {
     "end_time": "2022-02-15T17:32:21.028361Z",
     "start_time": "2022-02-15T17:32:21.015376Z"
    },
    "hidden": true
   },
   "outputs": [],
   "source": [
    "#copy data\n",
    "df7 = x_validation.copy()\n",
    "df7['response'] = y_validation.copy()"
   ]
  },
  {
   "cell_type": "markdown",
   "id": "3f43cae3",
   "metadata": {
    "heading_collapsed": true,
    "hidden": true
   },
   "source": [
    "## 7.1. KNN(K-Nearest Neighbors)"
   ]
  },
  {
   "cell_type": "markdown",
   "id": "db34c096",
   "metadata": {
    "hidden": true
   },
   "source": [
    "> KNN: Algoritmo de aprendizadgem supervisionada, classificador onde o aprendizado é baseado “no quão similar” é um dado (um vetor) do outro. O treinamento é formado por vetores de n dimensões."
   ]
  },
  {
   "cell_type": "markdown",
   "id": "1fa2f9fd",
   "metadata": {
    "heading_collapsed": true,
    "hidden": true
   },
   "source": [
    "### 7.1.1. Gain Curve "
   ]
  },
  {
   "cell_type": "code",
   "execution_count": 47,
   "id": "27e9a27b",
   "metadata": {
    "ExecuteTime": {
     "end_time": "2022-02-15T13:08:38.930488Z",
     "start_time": "2022-02-15T13:08:34.211523Z"
    },
    "hidden": true,
    "hide_input": true
   },
   "outputs": [
    {
     "data": {
      "image/png": "[encoded data removed]",
      "text/plain": [
       "<Figure size 864x576 with 1 Axes>"
      ]
     },
     "metadata": {
      "needs_background": "light"
     },
     "output_type": "display_data"
    },
    {
     "data": {
      "image/png": "[encoded data removed]",
      "text/plain": [
       "<Figure size 864x576 with 1 Axes>"
      ]
     },
     "metadata": {
      "needs_background": "light"
     },
     "output_type": "display_data"
    }
   ],
   "source": [
    "# model definition\n",
    "knn_model = ng.KNeighborsClassifier( n_neighbors = 7 )\n",
    "\n",
    "# model training\n",
    "knn_model.fit( x_train, y_train )\n",
    "\n",
    "# model prediction - Poder de generalização do modelo. \n",
    "yhat_knn = knn_model.predict_proba( x_val )\n",
    "\n",
    "# Accumulative Gain - metrica de ordenação de lista, plot\n",
    "skplt.metrics.plot_cumulative_gain( y_val, yhat_knn).figure.set_size_inches(12, 8);\n",
    "\n",
    "#Scikitplot library is therre to help \n",
    "skplt.metrics.plot_lift_curve( y_val, yhat_knn ).figure.set_size_inches(12, 8);"
   ]
  },
  {
   "cell_type": "markdown",
   "id": "32182083",
   "metadata": {
    "hidden": true
   },
   "source": [
    "> Significado deste plot, (Linha laranja) é a % de pessoas contactadas da lista 'percentage of sample' são necessárias para obter a % de pessoas interessadas 'gain.  Exemplificando, se contatarmos 20% de nossa amostra, alcancaremos pouco mais de 40% das pessoas interessadas. Linha azul é base desordenada e laranja base ordenada."
   ]
  },
  {
   "cell_type": "markdown",
   "id": "060c3a6a",
   "metadata": {
    "ExecuteTime": {
     "end_time": "2022-02-14T15:31:56.697392Z",
     "start_time": "2022-02-14T15:31:56.689912Z"
    },
    "heading_collapsed": true,
    "hidden": true
   },
   "source": [
    "### 7.1.2. Ranking Top k Performance"
   ]
  },
  {
   "cell_type": "code",
   "execution_count": 181,
   "id": "df56915c",
   "metadata": {
    "ExecuteTime": {
     "end_time": "2022-02-15T14:44:14.982533Z",
     "start_time": "2022-02-15T14:44:14.833036Z"
    },
    "hidden": true,
    "hide_input": true
   },
   "outputs": [
    {
     "data": {
      "text/html": [
       "<div>\n",
       "<style scoped>\n",
       "    .dataframe tbody tr th:only-of-type {\n",
       "        vertical-align: middle;\n",
       "    }\n",
       "\n",
       "    .dataframe tbody tr th {\n",
       "        vertical-align: top;\n",
       "    }\n",
       "\n",
       "    .dataframe thead th {\n",
       "        text-align: right;\n",
       "    }\n",
       "</style>\n",
       "<table border=\"1\" class=\"dataframe\">\n",
       "  <thead>\n",
       "    <tr style=\"text-align: right;\">\n",
       "      <th></th>\n",
       "      <th>Precision k</th>\n",
       "      <th>Recall K</th>\n",
       "    </tr>\n",
       "  </thead>\n",
       "  <tbody>\n",
       "    <tr>\n",
       "      <th>5%</th>\n",
       "      <td>0.320304</td>\n",
       "      <td>0.129894</td>\n",
       "    </tr>\n",
       "    <tr>\n",
       "      <th>15%</th>\n",
       "      <td>0.294035</td>\n",
       "      <td>0.357660</td>\n",
       "    </tr>\n",
       "    <tr>\n",
       "      <th>25%</th>\n",
       "      <td>0.279163</td>\n",
       "      <td>0.565957</td>\n",
       "    </tr>\n",
       "    <tr>\n",
       "      <th>40%</th>\n",
       "      <td>0.253821</td>\n",
       "      <td>0.823298</td>\n",
       "    </tr>\n",
       "    <tr>\n",
       "      <th>60%</th>\n",
       "      <td>0.185180</td>\n",
       "      <td>0.900957</td>\n",
       "    </tr>\n",
       "    <tr>\n",
       "      <th>80%</th>\n",
       "      <td>0.146591</td>\n",
       "      <td>0.950957</td>\n",
       "    </tr>\n",
       "  </tbody>\n",
       "</table>\n",
       "</div>"
      ],
      "text/plain": [
       "     Precision k  Recall K\n",
       "5%      0.320304  0.129894\n",
       "15%     0.294035  0.357660\n",
       "25%     0.279163  0.565957\n",
       "40%     0.253821  0.823298\n",
       "60%     0.185180  0.900957\n",
       "80%     0.146591  0.950957"
      ]
     },
     "execution_count": 181,
     "metadata": {},
     "output_type": "execute_result"
    }
   ],
   "source": [
    " # copy dataframe\n",
    "dfknn = x_validation.copy()\n",
    "dfknn['response'] = y_validation.copy()\n",
    "\n",
    "# propensity score\n",
    "dfknn['score'] = yhat_knn[:, 1].tolist()\n",
    "\n",
    "# sort clients by propensity score\n",
    "dfknn = dfknn.sort_values( 'score', ascending=False )\n",
    "\n",
    "#Compute precision at k \n",
    "precision_at_knn_5percent, data = precision_at_k( dfknn, k=round(len(df7) * 0.05) )\n",
    "precision_at_knn_15percent, data = precision_at_k( dfknn, k=round(len(df7) * 0.15) )\n",
    "precision_at_knn_25percent, data = precision_at_k( dfknn, k=round(len(df7) * 0.25) )\n",
    "precision_at_knn_40percent, data = precision_at_k( dfknn, k=round(len(df7) * 0.40) )\n",
    "precision_at_knn_60percent, data = precision_at_k( dfknn, k=round(len(df7) * 0.60) )\n",
    "precision_at_knn_80percent, data = precision_at_k( dfknn, k=round(len(df7) * 0.80) )\n",
    "\n",
    "#precision k table\n",
    "precision_at_knn = [precision_at_knn_5percent, precision_at_knn_15percent, precision_at_knn_25percent,\n",
    "                   precision_at_knn_40percent, precision_at_knn_60percent, precision_at_knn_80percent]\n",
    "\n",
    "percent_k ={0: '5%', 1: '15%', 2: '25%', 3: '40%', 4: '60%', 5: '80%'}\n",
    "\n",
    "#Compute recall at k \n",
    "recall_5percent,  data = recall_at_k( dfknn, k=round(len(df7) * 0.05) )\n",
    "recall_15percent, data = recall_at_k( dfknn, k=round(len(df7) * 0.15) )\n",
    "recall_25percent, data = recall_at_k( dfknn, k=round(len(df7) * 0.25) )\n",
    "recall_40percent, data = recall_at_k( dfknn, k=round(len(df7) * 0.40) )\n",
    "recall_60percent, data = recall_at_k( dfknn, k=round(len(df7) * 0.60) )\n",
    "recall_80percent, data = recall_at_k( dfknn, k=round(len(df7) * 0.80) )\n",
    "\n",
    "#recall k table\n",
    "recall_knn = [recall_5percent, recall_15percent, recall_25percent,\n",
    "                   recall_40percent, recall_60percent, recall_80percent]\n",
    "df_knn_rank_k = pd.DataFrame({'Precision k': precision_at_knn, 'Recall K': recall_knn }).rename(index = percent_k)\n",
    "df_knn_rank_k"
   ]
  },
  {
   "cell_type": "markdown",
   "id": "f39ce274",
   "metadata": {
    "heading_collapsed": true,
    "hidden": true,
    "hide_input": true
   },
   "source": [
    "## 7.2 Logistic Regression"
   ]
  },
  {
   "cell_type": "markdown",
   "id": "4e86b698",
   "metadata": {
    "ExecuteTime": {
     "end_time": "2022-02-14T15:24:56.860846Z",
     "start_time": "2022-02-14T15:24:56.858123Z"
    },
    "heading_collapsed": true,
    "hidden": true
   },
   "source": [
    "### 7.2.1. Gain Curve "
   ]
  },
  {
   "cell_type": "code",
   "execution_count": 51,
   "id": "894d4f4c",
   "metadata": {
    "ExecuteTime": {
     "end_time": "2022-02-15T13:09:15.376366Z",
     "start_time": "2022-02-15T13:09:13.496853Z"
    },
    "hidden": true,
    "hide_input": true
   },
   "outputs": [
    {
     "data": {
      "image/png": "[encoded data removed]",
      "text/plain": [
       "<Figure size 864x576 with 1 Axes>"
      ]
     },
     "metadata": {
      "needs_background": "light"
     },
     "output_type": "display_data"
    },
    {
     "data": {
      "image/png": "[encoded data removed]",
      "text/plain": [
       "<Figure size 864x576 with 1 Axes>"
      ]
     },
     "metadata": {
      "needs_background": "light"
     },
     "output_type": "display_data"
    }
   ],
   "source": [
    "# model definition\n",
    "lr_model = lm.LogisticRegression( random_state = 42 )\n",
    "\n",
    "# model training\n",
    "lr_model.fit( x_train, y_train )\n",
    "\n",
    "# model prediction - Poder de generalização do modelo. \n",
    "yhat_lr = lr_model.predict_proba( x_val )\n",
    "\n",
    "# Accumulative Gain - metrica de ordenação de lista, plot\n",
    "skplt.metrics.plot_cumulative_gain( y_val, yhat_lr).figure.set_size_inches(12, 8);\n",
    "\n",
    "#Scikitplot library is therre to help \n",
    "skplt.metrics.plot_lift_curve( y_val, yhat_lr ).figure.set_size_inches(12, 8);"
   ]
  },
  {
   "cell_type": "markdown",
   "id": "63aa0234",
   "metadata": {
    "hidden": true
   },
   "source": [
    "> Os resultados é parecido, porém consegue alcançar 100% da lista com menos pessoas. "
   ]
  },
  {
   "cell_type": "markdown",
   "id": "7b78c72c",
   "metadata": {
    "ExecuteTime": {
     "end_time": "2022-02-14T15:26:47.315090Z",
     "start_time": "2022-02-14T15:26:47.309849Z"
    },
    "heading_collapsed": true,
    "hidden": true
   },
   "source": [
    "### 7.2.2. Ranking Top k Performance"
   ]
  },
  {
   "cell_type": "code",
   "execution_count": 187,
   "id": "d85205fd",
   "metadata": {
    "ExecuteTime": {
     "end_time": "2022-02-15T14:55:43.595739Z",
     "start_time": "2022-02-15T14:55:43.426575Z"
    },
    "hidden": true,
    "hide_input": true
   },
   "outputs": [
    {
     "data": {
      "text/html": [
       "<div>\n",
       "<style scoped>\n",
       "    .dataframe tbody tr th:only-of-type {\n",
       "        vertical-align: middle;\n",
       "    }\n",
       "\n",
       "    .dataframe tbody tr th {\n",
       "        vertical-align: top;\n",
       "    }\n",
       "\n",
       "    .dataframe thead th {\n",
       "        text-align: right;\n",
       "    }\n",
       "</style>\n",
       "<table border=\"1\" class=\"dataframe\">\n",
       "  <thead>\n",
       "    <tr style=\"text-align: right;\">\n",
       "      <th></th>\n",
       "      <th>Precision k</th>\n",
       "      <th>Recall K</th>\n",
       "    </tr>\n",
       "  </thead>\n",
       "  <tbody>\n",
       "    <tr>\n",
       "      <th>5%</th>\n",
       "      <td>0.254984</td>\n",
       "      <td>0.103404</td>\n",
       "    </tr>\n",
       "    <tr>\n",
       "      <th>15%</th>\n",
       "      <td>0.281616</td>\n",
       "      <td>0.342553</td>\n",
       "    </tr>\n",
       "    <tr>\n",
       "      <th>25%</th>\n",
       "      <td>0.270557</td>\n",
       "      <td>0.548511</td>\n",
       "    </tr>\n",
       "    <tr>\n",
       "      <th>40%</th>\n",
       "      <td>0.253624</td>\n",
       "      <td>0.822660</td>\n",
       "    </tr>\n",
       "    <tr>\n",
       "      <th>60%</th>\n",
       "      <td>0.205099</td>\n",
       "      <td>0.997872</td>\n",
       "    </tr>\n",
       "    <tr>\n",
       "      <th>80%</th>\n",
       "      <td>0.154053</td>\n",
       "      <td>0.999362</td>\n",
       "    </tr>\n",
       "  </tbody>\n",
       "</table>\n",
       "</div>"
      ],
      "text/plain": [
       "     Precision k  Recall K\n",
       "5%      0.254984  0.103404\n",
       "15%     0.281616  0.342553\n",
       "25%     0.270557  0.548511\n",
       "40%     0.253624  0.822660\n",
       "60%     0.205099  0.997872\n",
       "80%     0.154053  0.999362"
      ]
     },
     "execution_count": 187,
     "metadata": {},
     "output_type": "execute_result"
    }
   ],
   "source": [
    " # copy dataframe\n",
    "dflr = x_validation.copy()\n",
    "dflr['response'] = y_validation.copy()\n",
    "\n",
    "# propensity score\n",
    "dflr['score'] = yhat_lr[:, 1].tolist()\n",
    "\n",
    "# sort clients by propensity score\n",
    "dflr = dflr.sort_values( 'score', ascending=False )\n",
    "\n",
    "#Compute precision at k \n",
    "precision_at_lr_5percent, data =  precision_at_k( dflr, k=round(len(df7) * 0.05) )\n",
    "precision_at_lr_15percent, data = precision_at_k( dflr, k=round(len(df7) * 0.15) )\n",
    "precision_at_lr_25percent, data = precision_at_k( dflr, k=round(len(df7) * 0.25) )\n",
    "precision_at_lr_40percent, data = precision_at_k( dflr, k=round(len(df7) * 0.40) )\n",
    "precision_at_lr_60percent, data = precision_at_k( dflr, k=round(len(df7) * 0.60) )\n",
    "precision_at_lr_80percent, data = precision_at_k( dflr, k=round(len(df7) * 0.80) )\n",
    "\n",
    "#precision k table\n",
    "precision_at_lr = [precision_at_lr_5percent, precision_at_lr_15percent, precision_at_lr_25percent,\n",
    "                   precision_at_lr_40percent, precision_at_lr_60percent, precision_at_lr_80percent]\n",
    "\n",
    "percent_k ={0: '5%', 1: '15%', 2: '25%', 3: '40%', 4: '60%', 5: '80%'}\n",
    "\n",
    "#Compute recall at k \n",
    "recall_5percent,  data = recall_at_k( dflr, k=round(len(df7) * 0.05) )\n",
    "recall_15percent, data = recall_at_k( dflr, k=round(len(df7) * 0.15) )\n",
    "recall_25percent, data = recall_at_k( dflr, k=round(len(df7) * 0.25) )\n",
    "recall_40percent, data = recall_at_k( dflr, k=round(len(df7) * 0.40) )\n",
    "recall_60percent, data = recall_at_k( dflr, k=round(len(df7) * 0.60) )\n",
    "recall_80percent, data = recall_at_k( dflr, k=round(len(df7) * 0.80) )\n",
    "\n",
    "#recall k table\n",
    "recall_lr = [recall_5percent, recall_15percent, recall_25percent,\n",
    "                   recall_40percent, recall_60percent, recall_80percent]\n",
    "df_lr_rank_k = pd.DataFrame({'Precision k': precision_at_lr, 'Recall K': recall_lr }).rename(index = percent_k)\n",
    "df_lr_rank_k"
   ]
  },
  {
   "cell_type": "markdown",
   "id": "aa31fd0c",
   "metadata": {
    "heading_collapsed": true,
    "hidden": true
   },
   "source": [
    "## 7.3 Extra Trees"
   ]
  },
  {
   "cell_type": "markdown",
   "id": "7a89a63e",
   "metadata": {
    "heading_collapsed": true,
    "hidden": true
   },
   "source": [
    "### 7.3.1. Gain Curve "
   ]
  },
  {
   "cell_type": "code",
   "execution_count": 52,
   "id": "0e05c014",
   "metadata": {
    "ExecuteTime": {
     "end_time": "2022-02-15T13:10:15.292660Z",
     "start_time": "2022-02-15T13:09:15.384214Z"
    },
    "hidden": true,
    "hide_input": true
   },
   "outputs": [
    {
     "data": {
      "image/png": "[encoded data removed]",
      "text/plain": [
       "<Figure size 864x576 with 1 Axes>"
      ]
     },
     "metadata": {
      "needs_background": "light"
     },
     "output_type": "display_data"
    },
    {
     "data": {
      "image/png": "[encoded data removed]",
      "text/plain": [
       "<Figure size 864x576 with 1 Axes>"
      ]
     },
     "metadata": {
      "needs_background": "light"
     },
     "output_type": "display_data"
    }
   ],
   "source": [
    "#model definition\n",
    "et = en.ExtraTreesClassifier( n_estimators = 1000, n_jobs = -1, random_state = 42, max_depth =6 )\n",
    "\n",
    "#model fit\n",
    "et.fit( x_train, y_train )\n",
    "\n",
    "#model predict\n",
    "yhat_et = et.predict_proba( x_val )\n",
    "\n",
    "# Accumulative Gain\n",
    "skplt.metrics.plot_cumulative_gain( y_val, yhat_et ).figure.set_size_inches(12, 8);\n",
    "\n",
    "#Scikitplot library is therre to help \n",
    "skplt.metrics.plot_lift_curve( y_val, yhat_et ).figure.set_size_inches(12, 8);"
   ]
  },
  {
   "cell_type": "markdown",
   "id": "63d33eb3",
   "metadata": {
    "heading_collapsed": true,
    "hidden": true
   },
   "source": [
    "### 7.3.2. Ranking Top k Performance"
   ]
  },
  {
   "cell_type": "code",
   "execution_count": 189,
   "id": "3c426283",
   "metadata": {
    "ExecuteTime": {
     "end_time": "2022-02-15T15:06:35.188790Z",
     "start_time": "2022-02-15T15:06:35.054522Z"
    },
    "hidden": true,
    "hide_input": true
   },
   "outputs": [
    {
     "data": {
      "text/html": [
       "<div>\n",
       "<style scoped>\n",
       "    .dataframe tbody tr th:only-of-type {\n",
       "        vertical-align: middle;\n",
       "    }\n",
       "\n",
       "    .dataframe tbody tr th {\n",
       "        vertical-align: top;\n",
       "    }\n",
       "\n",
       "    .dataframe thead th {\n",
       "        text-align: right;\n",
       "    }\n",
       "</style>\n",
       "<table border=\"1\" class=\"dataframe\">\n",
       "  <thead>\n",
       "    <tr style=\"text-align: right;\">\n",
       "      <th></th>\n",
       "      <th>Precision k</th>\n",
       "      <th>Recall K</th>\n",
       "    </tr>\n",
       "  </thead>\n",
       "  <tbody>\n",
       "    <tr>\n",
       "      <th>5%</th>\n",
       "      <td>0.354932</td>\n",
       "      <td>0.143936</td>\n",
       "    </tr>\n",
       "    <tr>\n",
       "      <th>15%</th>\n",
       "      <td>0.334354</td>\n",
       "      <td>0.406702</td>\n",
       "    </tr>\n",
       "    <tr>\n",
       "      <th>25%</th>\n",
       "      <td>0.312379</td>\n",
       "      <td>0.633298</td>\n",
       "    </tr>\n",
       "    <tr>\n",
       "      <th>40%</th>\n",
       "      <td>0.273008</td>\n",
       "      <td>0.885532</td>\n",
       "    </tr>\n",
       "    <tr>\n",
       "      <th>60%</th>\n",
       "      <td>0.205208</td>\n",
       "      <td>0.998404</td>\n",
       "    </tr>\n",
       "    <tr>\n",
       "      <th>80%</th>\n",
       "      <td>0.154053</td>\n",
       "      <td>0.999362</td>\n",
       "    </tr>\n",
       "  </tbody>\n",
       "</table>\n",
       "</div>"
      ],
      "text/plain": [
       "     Precision k  Recall K\n",
       "5%      0.354932  0.143936\n",
       "15%     0.334354  0.406702\n",
       "25%     0.312379  0.633298\n",
       "40%     0.273008  0.885532\n",
       "60%     0.205208  0.998404\n",
       "80%     0.154053  0.999362"
      ]
     },
     "execution_count": 189,
     "metadata": {},
     "output_type": "execute_result"
    }
   ],
   "source": [
    " # copy dataframe\n",
    "dfet = x_validation.copy()\n",
    "dfet['response'] = y_validation.copy()\n",
    "\n",
    "# propensity score\n",
    "dfet['score'] = yhat_et[:, 1].tolist()\n",
    "\n",
    "# sort clients by propensity score\n",
    "dfet = dfet.sort_values( 'score', ascending=False )\n",
    "\n",
    "#Compute precision at k \n",
    "precision_at_et_5percent, data =  precision_at_k( dfet, k=round(len(df7) * 0.05) )\n",
    "precision_at_et_15percent, data = precision_at_k( dfet, k=round(len(df7) * 0.15) )\n",
    "precision_at_et_25percent, data = precision_at_k( dfet, k=round(len(df7) * 0.25) )\n",
    "precision_at_et_40percent, data = precision_at_k( dfet, k=round(len(df7) * 0.40) )\n",
    "precision_at_et_60percent, data = precision_at_k( dfet, k=round(len(df7) * 0.60) )\n",
    "precision_at_et_80percent, data = precision_at_k( dfet, k=round(len(df7) * 0.80) )\n",
    "\n",
    "#precision k table\n",
    "precision_at_et = [precision_at_et_5percent, precision_at_et_15percent, precision_at_et_25percent,\n",
    "                   precision_at_et_40percent, precision_at_et_60percent, precision_at_et_80percent]\n",
    "\n",
    "percent_k ={0: '5%', 1: '15%', 2: '25%', 3: '40%', 4: '60%', 5: '80%'}\n",
    "\n",
    "#Compute recall at k \n",
    "recall_5percent,  data = recall_at_k( dfet, k=round(len(df7) * 0.05) )\n",
    "recall_15percent, data = recall_at_k( dfet, k=round(len(df7) * 0.15) )\n",
    "recall_25percent, data = recall_at_k( dfet, k=round(len(df7) * 0.25) )\n",
    "recall_40percent, data = recall_at_k( dfet, k=round(len(df7) * 0.40) )\n",
    "recall_60percent, data = recall_at_k( dfet, k=round(len(df7) * 0.60) )\n",
    "recall_80percent, data = recall_at_k( dfet, k=round(len(df7) * 0.80) )\n",
    "\n",
    "#recall k table\n",
    "recall_et = [recall_5percent, recall_15percent, recall_25percent,\n",
    "                   recall_40percent, recall_60percent, recall_80percent]\n",
    "\n",
    "df_et_rank_k = pd.DataFrame({'Precision k': precision_at_et, 'Recall K': recall_et }).rename(index = percent_k)\n",
    "df_et_rank_k"
   ]
  },
  {
   "cell_type": "markdown",
   "id": "eff4f59b",
   "metadata": {
    "heading_collapsed": true,
    "hidden": true
   },
   "source": [
    "## 7.4 Random Forest"
   ]
  },
  {
   "cell_type": "markdown",
   "id": "aaf22d7e",
   "metadata": {
    "heading_collapsed": true,
    "hidden": true
   },
   "source": [
    "### 7.4.1. Gain Curve "
   ]
  },
  {
   "cell_type": "code",
   "execution_count": 53,
   "id": "86095765",
   "metadata": {
    "ExecuteTime": {
     "end_time": "2022-02-15T13:12:20.437223Z",
     "start_time": "2022-02-15T13:10:15.294776Z"
    },
    "hidden": true,
    "hide_input": true
   },
   "outputs": [
    {
     "data": {
      "image/png": "[encoded data removed]",
      "text/plain": [
       "<Figure size 864x576 with 1 Axes>"
      ]
     },
     "metadata": {
      "needs_background": "light"
     },
     "output_type": "display_data"
    },
    {
     "data": {
      "image/png": "[encoded data removed]",
      "text/plain": [
       "<Figure size 864x576 with 1 Axes>"
      ]
     },
     "metadata": {
      "needs_background": "light"
     },
     "output_type": "display_data"
    }
   ],
   "source": [
    "#model definition\n",
    "rf = en.RandomForestClassifier( n_estimators = 1000, n_jobs=-1, random_state = 42, max_depth = 6 )\n",
    "\n",
    "# model training\n",
    "rf.fit( x_train, y_train )\n",
    "\n",
    "#model prediction\n",
    "yhat_rf = rf.predict_proba( x_val )\n",
    "\n",
    "# Accumulative Gain\n",
    "skplt.metrics.plot_cumulative_gain( y_val, yhat_rf ).figure.set_size_inches(12, 8);\n",
    "\n",
    "#Scikitplot library is therre to help \n",
    "skplt.metrics.plot_lift_curve( y_val, yhat_rf ).figure.set_size_inches(12, 8);"
   ]
  },
  {
   "cell_type": "markdown",
   "id": "e1b24ca7",
   "metadata": {
    "ExecuteTime": {
     "end_time": "2022-02-15T17:15:08.208453Z",
     "start_time": "2022-02-15T17:15:08.201503Z"
    },
    "heading_collapsed": true,
    "hidden": true
   },
   "source": [
    "### 7.4.2. Ranking Top k Performance"
   ]
  },
  {
   "cell_type": "code",
   "execution_count": 195,
   "id": "023fddf4",
   "metadata": {
    "ExecuteTime": {
     "end_time": "2022-02-15T17:28:11.943183Z",
     "start_time": "2022-02-15T17:28:11.788830Z"
    },
    "hidden": true,
    "hide_input": true
   },
   "outputs": [
    {
     "data": {
      "text/html": [
       "<div>\n",
       "<style scoped>\n",
       "    .dataframe tbody tr th:only-of-type {\n",
       "        vertical-align: middle;\n",
       "    }\n",
       "\n",
       "    .dataframe tbody tr th {\n",
       "        vertical-align: top;\n",
       "    }\n",
       "\n",
       "    .dataframe thead th {\n",
       "        text-align: right;\n",
       "    }\n",
       "</style>\n",
       "<table border=\"1\" class=\"dataframe\">\n",
       "  <thead>\n",
       "    <tr style=\"text-align: right;\">\n",
       "      <th></th>\n",
       "      <th>Precision k</th>\n",
       "      <th>Recall K</th>\n",
       "    </tr>\n",
       "  </thead>\n",
       "  <tbody>\n",
       "    <tr>\n",
       "      <th>5%</th>\n",
       "      <td>0.369622</td>\n",
       "      <td>0.149894</td>\n",
       "    </tr>\n",
       "    <tr>\n",
       "      <th>15%</th>\n",
       "      <td>0.337590</td>\n",
       "      <td>0.410638</td>\n",
       "    </tr>\n",
       "    <tr>\n",
       "      <th>25%</th>\n",
       "      <td>0.317679</td>\n",
       "      <td>0.644043</td>\n",
       "    </tr>\n",
       "    <tr>\n",
       "      <th>40%</th>\n",
       "      <td>0.273172</td>\n",
       "      <td>0.886064</td>\n",
       "    </tr>\n",
       "    <tr>\n",
       "      <th>60%</th>\n",
       "      <td>0.205143</td>\n",
       "      <td>0.998085</td>\n",
       "    </tr>\n",
       "    <tr>\n",
       "      <th>80%</th>\n",
       "      <td>0.154037</td>\n",
       "      <td>0.999255</td>\n",
       "    </tr>\n",
       "  </tbody>\n",
       "</table>\n",
       "</div>"
      ],
      "text/plain": [
       "     Precision k  Recall K\n",
       "5%      0.369622  0.149894\n",
       "15%     0.337590  0.410638\n",
       "25%     0.317679  0.644043\n",
       "40%     0.273172  0.886064\n",
       "60%     0.205143  0.998085\n",
       "80%     0.154037  0.999255"
      ]
     },
     "execution_count": 195,
     "metadata": {},
     "output_type": "execute_result"
    }
   ],
   "source": [
    " # copy dataframe\n",
    "dfk = x_validation.copy()\n",
    "dfk['response'] = y_validation.copy()\n",
    "\n",
    "# propensity score\n",
    "dfk['score'] = yhat_rf[:, 1].tolist()\n",
    "\n",
    "# sort clients by propensity score\n",
    "dfk = dfk.sort_values( 'score', ascending=False )\n",
    "\n",
    "#Compute precision at k \n",
    "precision_5percent, data =  precision_at_k( dfk, k=round(len(df7) * 0.05) )\n",
    "precision_15percent, data = precision_at_k( dfk, k=round(len(df7) * 0.15) )\n",
    "precision_25percent, data = precision_at_k( dfk, k=round(len(df7) * 0.25) )\n",
    "precision_40percent, data = precision_at_k( dfk, k=round(len(df7) * 0.40) )\n",
    "precision_60percent, data = precision_at_k( dfk, k=round(len(df7) * 0.60) )\n",
    "precision_80percent, data = precision_at_k( dfk, k=round(len(df7) * 0.80) )\n",
    "\n",
    "#precision k table\n",
    "precision_at_rf = [precision_5percent, precision_15percent, precision_25percent,\n",
    "                   precision_40percent, precision_60percent, precision_80percent]\n",
    "\n",
    "percent_k ={0: '5%', 1: '15%', 2: '25%', 3: '40%', 4: '60%', 5: '80%'}\n",
    "\n",
    "#Compute recall at k \n",
    "recall_5percent,  data = recall_at_k( dfk, k=round(len(df7) * 0.05) )\n",
    "recall_15percent, data = recall_at_k( dfk, k=round(len(df7) * 0.15) )\n",
    "recall_25percent, data = recall_at_k( dfk, k=round(len(df7) * 0.25) )\n",
    "recall_40percent, data = recall_at_k( dfk, k=round(len(df7) * 0.40) )\n",
    "recall_60percent, data = recall_at_k( dfk, k=round(len(df7) * 0.60) )\n",
    "recall_80percent, data = recall_at_k( dfk, k=round(len(df7) * 0.80) )\n",
    "\n",
    "#recall k table\n",
    "recall_rf = [recall_5percent, recall_15percent, recall_25percent,\n",
    "                   recall_40percent, recall_60percent, recall_80percent]\n",
    "\n",
    "df_rf_rank_k = pd.DataFrame({'Precision k': precision_at_rf, 'Recall K': recall_rf }).rename(index = percent_k)\n",
    "df_rf_rank_k"
   ]
  },
  {
   "cell_type": "markdown",
   "id": "f581041c",
   "metadata": {
    "heading_collapsed": true,
    "hidden": true
   },
   "source": [
    "## 7.5. Xgboost Classifier"
   ]
  },
  {
   "cell_type": "markdown",
   "id": "28158e64",
   "metadata": {
    "ExecuteTime": {
     "end_time": "2022-02-15T17:30:19.965044Z",
     "start_time": "2022-02-15T17:30:19.956895Z"
    },
    "heading_collapsed": true,
    "hidden": true
   },
   "source": [
    "### 7.5.1. Gain Curve "
   ]
  },
  {
   "cell_type": "code",
   "execution_count": 54,
   "id": "337fd371",
   "metadata": {
    "ExecuteTime": {
     "end_time": "2022-02-15T13:12:50.019502Z",
     "start_time": "2022-02-15T13:12:20.438810Z"
    },
    "hidden": true,
    "hide_input": true
   },
   "outputs": [
    {
     "name": "stderr",
     "output_type": "stream",
     "text": [
      "/home/lucasas/anaconda3/envs/pa04healthinsurance-env/lib/python3.8/site-packages/xgboost/sklearn.py:1224: UserWarning: The use of label encoder in XGBClassifier is deprecated and will be removed in a future release. To remove this warning, do the following: 1) Pass option use_label_encoder=False when constructing XGBClassifier object; and 2) Encode your labels (y) as integers starting with 0, i.e. 0, 1, 2, ..., [num_class - 1].\n",
      "  warnings.warn(label_encoder_deprecation_msg, UserWarning)\n",
      "/home/lucasas/anaconda3/envs/pa04healthinsurance-env/lib/python3.8/site-packages/xgboost/data.py:262: FutureWarning: pandas.Int64Index is deprecated and will be removed from pandas in a future version. Use pandas.Index with the appropriate dtype instead.\n",
      "  elif isinstance(data.columns, (pd.Int64Index, pd.RangeIndex)):\n"
     ]
    },
    {
     "name": "stdout",
     "output_type": "stream",
     "text": [
      "[10:12:20] WARNING: ../src/learner.cc:1115: Starting in XGBoost 1.3.0, the default evaluation metric used with the objective 'binary:logistic' was changed from 'error' to 'logloss'. Explicitly set eval_metric if you'd like to restore the old behavior.\n"
     ]
    },
    {
     "data": {
      "image/png": "[encoded data removed]",
      "text/plain": [
       "<Figure size 864x576 with 1 Axes>"
      ]
     },
     "metadata": {
      "needs_background": "light"
     },
     "output_type": "display_data"
    },
    {
     "data": {
      "image/png": "[encoded data removed]",
      "text/plain": [
       "<Figure size 864x576 with 1 Axes>"
      ]
     },
     "metadata": {
      "needs_background": "light"
     },
     "output_type": "display_data"
    }
   ],
   "source": [
    "#model definition\n",
    "xgb = XGBClassifier(n_estimators = 200,\n",
    "                              max_depth = 6,\n",
    "                              scale_pos_weight = 1,\n",
    "                              n_jobs = -1 )\n",
    "\n",
    "# model training\n",
    "xgb.fit( x_train, y_train )\n",
    "\n",
    "#model prediction\n",
    "yhat_xgb = xgb.predict_proba( x_val )\n",
    "\n",
    "# Accumulative Gain\n",
    "skplt.metrics.plot_cumulative_gain( y_val, yhat_xgb).figure.set_size_inches(12, 8);\n",
    "\n",
    "#Scikitplot library is therre to help \n",
    "skplt.metrics.plot_lift_curve( y_val, yhat_xgb ).figure.set_size_inches(12, 8);"
   ]
  },
  {
   "cell_type": "markdown",
   "id": "07670114",
   "metadata": {
    "heading_collapsed": true,
    "hidden": true
   },
   "source": [
    "### 7.5.2. Ranking Top k Performance"
   ]
  },
  {
   "cell_type": "code",
   "execution_count": 196,
   "id": "f8615d1b",
   "metadata": {
    "ExecuteTime": {
     "end_time": "2022-02-15T17:29:35.353575Z",
     "start_time": "2022-02-15T17:29:35.188214Z"
    },
    "hidden": true,
    "hide_input": true
   },
   "outputs": [
    {
     "data": {
      "text/html": [
       "<div>\n",
       "<style scoped>\n",
       "    .dataframe tbody tr th:only-of-type {\n",
       "        vertical-align: middle;\n",
       "    }\n",
       "\n",
       "    .dataframe tbody tr th {\n",
       "        vertical-align: top;\n",
       "    }\n",
       "\n",
       "    .dataframe thead th {\n",
       "        text-align: right;\n",
       "    }\n",
       "</style>\n",
       "<table border=\"1\" class=\"dataframe\">\n",
       "  <thead>\n",
       "    <tr style=\"text-align: right;\">\n",
       "      <th></th>\n",
       "      <th>Precision k</th>\n",
       "      <th>Recall K</th>\n",
       "    </tr>\n",
       "  </thead>\n",
       "  <tbody>\n",
       "    <tr>\n",
       "      <th>5%</th>\n",
       "      <td>0.371196</td>\n",
       "      <td>0.150532</td>\n",
       "    </tr>\n",
       "    <tr>\n",
       "      <th>15%</th>\n",
       "      <td>0.348347</td>\n",
       "      <td>0.423723</td>\n",
       "    </tr>\n",
       "    <tr>\n",
       "      <th>25%</th>\n",
       "      <td>0.319515</td>\n",
       "      <td>0.647766</td>\n",
       "    </tr>\n",
       "    <tr>\n",
       "      <th>40%</th>\n",
       "      <td>0.276123</td>\n",
       "      <td>0.895638</td>\n",
       "    </tr>\n",
       "    <tr>\n",
       "      <th>60%</th>\n",
       "      <td>0.205077</td>\n",
       "      <td>0.997766</td>\n",
       "    </tr>\n",
       "    <tr>\n",
       "      <th>80%</th>\n",
       "      <td>0.154004</td>\n",
       "      <td>0.999043</td>\n",
       "    </tr>\n",
       "  </tbody>\n",
       "</table>\n",
       "</div>"
      ],
      "text/plain": [
       "     Precision k  Recall K\n",
       "5%      0.371196  0.150532\n",
       "15%     0.348347  0.423723\n",
       "25%     0.319515  0.647766\n",
       "40%     0.276123  0.895638\n",
       "60%     0.205077  0.997766\n",
       "80%     0.154004  0.999043"
      ]
     },
     "execution_count": 196,
     "metadata": {},
     "output_type": "execute_result"
    }
   ],
   "source": [
    " # copy dataframe\n",
    "dfk = x_validation.copy()\n",
    "dfk['response'] = y_validation.copy()\n",
    "\n",
    "# propensity score\n",
    "dfk['score'] = yhat_xgb[:, 1].tolist()\n",
    "\n",
    "# sort clients by propensity score\n",
    "dfk = dfk.sort_values( 'score', ascending=False )\n",
    "\n",
    "#Compute precision at k \n",
    "precision_5percent, data =  precision_at_k( dfk, k=round(len(df7) * 0.05) )\n",
    "precision_15percent, data = precision_at_k( dfk, k=round(len(df7) * 0.15) )\n",
    "precision_25percent, data = precision_at_k( dfk, k=round(len(df7) * 0.25) )\n",
    "precision_40percent, data = precision_at_k( dfk, k=round(len(df7) * 0.40) )\n",
    "precision_60percent, data = precision_at_k( dfk, k=round(len(df7) * 0.60) )\n",
    "precision_80percent, data = precision_at_k( dfk, k=round(len(df7) * 0.80) )\n",
    "\n",
    "#precision k table\n",
    "precision_at_xgb = [precision_5percent, precision_15percent, precision_25percent,\n",
    "                   precision_40percent, precision_60percent, precision_80percent]\n",
    "\n",
    "percent_k ={0: '5%', 1: '15%', 2: '25%', 3: '40%', 4: '60%', 5: '80%'}\n",
    "\n",
    "#Compute recall at k \n",
    "recall_5percent,  data = recall_at_k( dfk, k=round(len(df7) * 0.05) )\n",
    "recall_15percent, data = recall_at_k( dfk, k=round(len(df7) * 0.15) )\n",
    "recall_25percent, data = recall_at_k( dfk, k=round(len(df7) * 0.25) )\n",
    "recall_40percent, data = recall_at_k( dfk, k=round(len(df7) * 0.40) )\n",
    "recall_60percent, data = recall_at_k( dfk, k=round(len(df7) * 0.60) )\n",
    "recall_80percent, data = recall_at_k( dfk, k=round(len(df7) * 0.80) )\n",
    "\n",
    "#recall k table\n",
    "recall_xgb = [recall_5percent, recall_15percent, recall_25percent,\n",
    "                   recall_40percent, recall_60percent, recall_80percent]\n",
    "\n",
    "df_xgb_rank_k = pd.DataFrame({'Precision k': precision_at_xgb, 'Recall K': recall_xgb }).rename(index = percent_k)\n",
    "df_xgb_rank_k"
   ]
  },
  {
   "cell_type": "markdown",
   "id": "72e85287",
   "metadata": {
    "heading_collapsed": true
   },
   "source": [
    "# 8.0 Model performance"
   ]
  },
  {
   "cell_type": "code",
   "execution_count": 55,
   "id": "17bf1727",
   "metadata": {
    "ExecuteTime": {
     "end_time": "2022-02-15T13:12:50.028723Z",
     "start_time": "2022-02-15T13:12:50.021182Z"
    },
    "hidden": true
   },
   "outputs": [],
   "source": [
    "#copy data\n",
    "df8 = x_validation.copy()\n",
    "df8['response'] = y_validation.copy()"
   ]
  },
  {
   "cell_type": "code",
   "execution_count": 82,
   "id": "d1eb607e",
   "metadata": {
    "ExecuteTime": {
     "end_time": "2022-02-15T13:54:14.082718Z",
     "start_time": "2022-02-15T13:54:14.027430Z"
    },
    "hidden": true
   },
   "outputs": [
    {
     "data": {
      "text/plain": [
       "0.1228146197563374"
      ]
     },
     "execution_count": 82,
     "metadata": {},
     "output_type": "execute_result"
    }
   ],
   "source": [
    "#propensity score\n",
    "df8['score'] = yhat_lr[:,1].tolist()\n",
    "\n",
    "#sorte clientes by porpensity score\n",
    "df8 = df8.sort_values('score', ascending = False )\n",
    "\n",
    "#Compute precision at k - De todos os K que a predição estimou como verdadeiro, proporção dos que são\n",
    "precision_at_lr = precision_at_k( df8, k=60000 )\n",
    "\n",
    "\n",
    "#Compute recall at k - De todos os exemplos que realmente são verdadeiros, quantso eu prdisse ser verdadeiro\n",
    "recall_at_lr = recall_at_k(df8, k=20000 )\n",
    "precision_at_lr"
   ]
  },
  {
   "cell_type": "code",
   "execution_count": 83,
   "id": "db668cf4",
   "metadata": {
    "ExecuteTime": {
     "end_time": "2022-02-15T13:54:58.707826Z",
     "start_time": "2022-02-15T13:54:58.693569Z"
    },
    "hidden": true
   },
   "outputs": [
    {
     "data": {
      "text/plain": [
       "<bound method NDFrame.head of             id    gender       age  driving_license  region_code  \\\n",
       "26561    26562  0.138435  0.076923                1     0.186386   \n",
       "149816  149817  0.138435  0.107692                1     0.102409   \n",
       "366429  366430  0.103437  0.153846                1     0.081433   \n",
       "314896  314897  0.138435  0.446154                1     0.120826   \n",
       "263273  263274  0.103437  0.076923                1     0.075483   \n",
       "...        ...       ...       ...              ...          ...   \n",
       "53099    53100  0.103437  0.030769                1     0.072378   \n",
       "254568  254569  0.138435  0.169231                1     0.096817   \n",
       "258206  258207  0.138435  0.369231                1     0.129025   \n",
       "132196  132197  0.138435  0.461538                1     0.186386   \n",
       "296599  296600  0.138435  0.061538                1     0.087584   \n",
       "\n",
       "        previously_insured  vehicle_damage  annual_premium  \\\n",
       "26561                    1               0        0.449149   \n",
       "149816                   1               0        0.251310   \n",
       "366429                   0               0        0.270622   \n",
       "314896                   0               0       -1.624643   \n",
       "263273                   1               0       -0.599963   \n",
       "...                    ...             ...             ...   \n",
       "53099                    0               0       -0.127441   \n",
       "254568                   1               0       -0.384731   \n",
       "258206                   0               0       -1.624643   \n",
       "132196                   0               0       -1.624643   \n",
       "296599                   1               0        0.529076   \n",
       "\n",
       "        policy_sales_channel   vintage  vehicle_age_below_1_year  \\\n",
       "26561               0.353859  0.899654                         1   \n",
       "149816              0.057267  0.193772                         1   \n",
       "366429              0.353859  0.017301                         1   \n",
       "314896              0.209261  0.020761                         0   \n",
       "263273              0.209261  1.000000                         1   \n",
       "...                      ...       ...                       ...   \n",
       "53099               0.353859  0.214533                         1   \n",
       "254568              0.015665  0.411765                         1   \n",
       "258206              0.209261  0.626298                         0   \n",
       "132196              0.209261  0.847751                         0   \n",
       "296599              0.353859  0.584775                         1   \n",
       "\n",
       "        vehicle_age_between_1_2_year  vehicle_age_over_2_years  response  \\\n",
       "26561                              0                         0         0   \n",
       "149816                             0                         0         0   \n",
       "366429                             0                         0         0   \n",
       "314896                             1                         0         0   \n",
       "263273                             0                         0         0   \n",
       "...                              ...                       ...       ...   \n",
       "53099                              0                         0         0   \n",
       "254568                             0                         0         0   \n",
       "258206                             1                         0         1   \n",
       "132196                             1                         0         1   \n",
       "296599                             0                         0         0   \n",
       "\n",
       "           score  \n",
       "26561   0.492804  \n",
       "149816  0.467069  \n",
       "366429  0.433155  \n",
       "314896  0.374792  \n",
       "263273  0.370993  \n",
       "...          ...  \n",
       "53099   0.000563  \n",
       "254568  0.000563  \n",
       "258206  0.000563  \n",
       "132196  0.000562  \n",
       "296599  0.000553  \n",
       "\n",
       "[76222 rows x 15 columns]>"
      ]
     },
     "execution_count": 83,
     "metadata": {},
     "output_type": "execute_result"
    }
   ],
   "source": [
    "df8.head"
   ]
  },
  {
   "cell_type": "markdown",
   "id": "e60859dd",
   "metadata": {
    "ExecuteTime": {
     "end_time": "2022-02-14T15:06:19.021973Z",
     "start_time": "2022-02-14T15:06:19.009516Z"
    },
    "hidden": true
   },
   "source": [
    "> Para medir a performance, usaremos a metrica Precision top k e Recall top . \n",
    "- Precision top k: Conta quantas prdições foram corretas até k e dividi por todas as predições realizada peo modelo até k. \n",
    "- Recall Top K: Conta quantas predições forma corretas até k e dividi pro todo os exemplos verdadeiros. \n",
    "> O k usado sera o de valor 20000, pois nosso problema inicial tem como parametro 20000 ligações, então queremos a melhor precisão para os 20000 primeiros classificados na ordem de predição usada, afim de usar o melhor modelo que atenda este requesito.     "
   ]
  },
  {
   "cell_type": "code",
   "execution_count": 56,
   "id": "fa7d4148",
   "metadata": {
    "ExecuteTime": {
     "end_time": "2022-02-15T13:12:50.358275Z",
     "start_time": "2022-02-15T13:12:50.032193Z"
    },
    "hidden": true,
    "hide_input": false
   },
   "outputs": [
    {
     "ename": "NameError",
     "evalue": "name 'precision_at_2k_et' is not defined",
     "output_type": "error",
     "traceback": [
      "\u001b[0;31m---------------------------------------------------------------------------\u001b[0m",
      "\u001b[0;31mNameError\u001b[0m                                 Traceback (most recent call last)",
      "Input \u001b[0;32mIn [56]\u001b[0m, in \u001b[0;36m<module>\u001b[0;34m\u001b[0m\n\u001b[1;32m     65\u001b[0m \u001b[38;5;124m'\u001b[39m\u001b[38;5;124m=============================================================================================================\u001b[39m\u001b[38;5;124m'\u001b[39m\n\u001b[1;32m     66\u001b[0m \u001b[38;5;66;03m#comparation model performance\u001b[39;00m\n\u001b[1;32m     67\u001b[0m data_model_performance \u001b[38;5;241m=\u001b[39m ([[precision_at_knn, recall_at_knn],\n\u001b[1;32m     68\u001b[0m                         [precision_at_lr , recall_at_lr ],\n\u001b[0;32m---> 69\u001b[0m                         [\u001b[43mprecision_at_2k_et\u001b[49m , recall_at_et ],\n\u001b[1;32m     70\u001b[0m                         [precision_at_rf, recall_at_rf]])\n\u001b[1;32m     73\u001b[0m df_model_performance \u001b[38;5;241m=\u001b[39m pd\u001b[38;5;241m.\u001b[39mDataFrame(data_model_performance,\n\u001b[1;32m     74\u001b[0m                                     index\u001b[38;5;241m=\u001b[39m(\u001b[38;5;124m'\u001b[39m\u001b[38;5;124mknn\u001b[39m\u001b[38;5;124m'\u001b[39m,\u001b[38;5;124m'\u001b[39m\u001b[38;5;124mLogistic Regression\u001b[39m\u001b[38;5;124m'\u001b[39m, \u001b[38;5;124m'\u001b[39m\u001b[38;5;124mExtra Tree\u001b[39m\u001b[38;5;124m'\u001b[39m, \u001b[38;5;124m'\u001b[39m\u001b[38;5;124mRadom Forest\u001b[39m\u001b[38;5;124m'\u001b[39m),columns\u001b[38;5;241m=\u001b[39m[\u001b[38;5;124m'\u001b[39m\u001b[38;5;124mPrecision k\u001b[39m\u001b[38;5;124m'\u001b[39m, \u001b[38;5;124m'\u001b[39m\u001b[38;5;124mRecall k\u001b[39m\u001b[38;5;124m'\u001b[39m])\n\u001b[1;32m     75\u001b[0m df_model_performance\n",
      "\u001b[0;31mNameError\u001b[0m: name 'precision_at_2k_et' is not defined"
     ]
    }
   ],
   "source": [
    "#KNN performance Model\n",
    "\n",
    "#propensity score\n",
    "df8['score'] = yhat_knn[:,1].tolist()\n",
    "\n",
    "#sorte clientes by porpensity score\n",
    "df8 = df8.sort_values('score', ascending = False )\n",
    "\n",
    "#Compute precision at k - De todos os K que a predição estimou como verdadeiro, proporção dos que são\n",
    "precision_at_knn = precision_at_k( df8, k=20000 )\n",
    "\n",
    "\n",
    "#Compute recall at k - De todos os exemplos que realmente são verdadeiros, quantso eu prdisse ser verdadeiro\n",
    "recall_at_knn = recall_at_k(df8, k=20000 )\n",
    "\n",
    "'============================================================================================================'\n",
    "#Logistic Regression performance model\n",
    "\n",
    "#propensity score\n",
    "df8['score'] = yhat_lr[:,1].tolist()\n",
    "\n",
    "#sorte clientes by porpensity score\n",
    "df8 = df8.sort_values('score', ascending = False )\n",
    "\n",
    "#Compute precision at k - De todos os K que a predição estimou como verdadeiro, proporção dos que são\n",
    "precision_at_lr = precision_at_k( df8, k=20000 )\n",
    "\n",
    "\n",
    "#Compute recall at k - De todos os exemplos que realmente são verdadeiros, quantso eu prdisse ser verdadeiro\n",
    "recall_at_lr = recall_at_k(df8, k=20000 )\n",
    "\n",
    "'============================================================================================================'\n",
    "#Extra tree performance model\n",
    "\n",
    "#propensity score\n",
    "df8['score'] = yhat_et[:,1].tolist()\n",
    "\n",
    "#sorte clientes by porpensity score\n",
    "df8 = df8.sort_values('score', ascending = False )\n",
    "\n",
    "#Compute precision at k - De todos os K que a predição estimou como verdadeiro, proporção dos que são\n",
    "precision_at_et = precision_at_k( df8, k=20000 )\n",
    "\n",
    "\n",
    "#Compute recall at k - De todos os exemplos que realmente são verdadeiros, quantso eu prdisse ser verdadeiro\n",
    "recall_at_et = recall_at_k(df8, k=20000 )\n",
    "\n",
    "'============================================================================================================'\n",
    "\n",
    "#Random Forest performance model\n",
    "\n",
    "#propensity score\n",
    "df8['score'] = yhat_rf[:,1].tolist()\n",
    "\n",
    "#sorte clientes by porpensity score\n",
    "df8 = df8.sort_values('score', ascending = False )\n",
    "\n",
    "#Compute precision at k - De todos os K que a predição estimou como verdadeiro, proporção dos que são\n",
    "precision_at_rf = precision_at_k( df8, k=20000 )\n",
    "\n",
    "\n",
    "#Compute recall at k - De todos os exemplos que realmente são verdadeiros, quantso eu prdisse ser verdadeiro\n",
    "recall_at_rf = recall_at_k(df8, k=20000 )\n",
    "\n",
    "'============================================================================================================='\n",
    "#comparation model performance\n",
    "data_model_performance = ([[precision_at_knn, recall_at_knn],\n",
    "                        [precision_at_lr , recall_at_lr ],\n",
    "                        [precision_at_2k_et , recall_at_et ],\n",
    "                        [precision_at_rf, recall_at_rf]])\n",
    "\n",
    "\n",
    "df_model_performance = pd.DataFrame(data_model_performance,\n",
    "                                    index=('knn','Logistic Regression', 'Extra Tree', 'Radom Forest'),columns=['Precision k', 'Recall k'])\n",
    "df_model_performance "
   ]
  },
  {
   "cell_type": "code",
   "execution_count": null,
   "id": "38e72300",
   "metadata": {
    "hidden": true
   },
   "outputs": [],
   "source": []
  },
  {
   "cell_type": "markdown",
   "id": "9c0eaf1d",
   "metadata": {
    "heading_collapsed": true
   },
   "source": [
    "# 9.0 Model Performance"
   ]
  },
  {
   "cell_type": "code",
   "execution_count": 84,
   "id": "fe83f80c",
   "metadata": {
    "ExecuteTime": {
     "end_time": "2022-02-15T13:59:27.845152Z",
     "start_time": "2022-02-15T13:59:27.834384Z"
    },
    "hidden": true
   },
   "outputs": [],
   "source": [
    "def precision_at_k( data, k=10 ):\n",
    "    data = data.reset_index( drop=True )\n",
    "    data['ranking'] = data.index + 1\n",
    "    \n",
    "    data['precision_at_k'] = data['response'].cumsum() / data['ranking']\n",
    "    \n",
    "    return ( data.loc[ k, 'precision_at_k'], data )\n",
    "\n",
    "def recall_at_k( data, k=15 ):\n",
    "    data = data.reset_index( drop=True )\n",
    "    data['ranking'] = data.index + 1\n",
    "    \n",
    "    data['recall_at_k'] = data['response'].cumsum() / data['response'].sum()\n",
    "    \n",
    "    return ( data.loc[ k, 'recall_at_k'], data )"
   ]
  },
  {
   "cell_type": "code",
   "execution_count": 89,
   "id": "7e9722bb",
   "metadata": {
    "ExecuteTime": {
     "end_time": "2022-02-15T14:01:52.203246Z",
     "start_time": "2022-02-15T14:01:52.150207Z"
    },
    "hidden": true
   },
   "outputs": [],
   "source": [
    " # copy dataframe\n",
    "df8 = x_validation.copy()\n",
    "df8['response'] = y_validation.copy()\n",
    "\n",
    "# propensity score\n",
    "df8['score'] = yhat_knn[:, 1].tolist()\n",
    "\n",
    "# sort clients by propensity score\n",
    "df8 = df8.sort_values( 'score', ascending=False )\n",
    "\n",
    "# compute precision at k \n",
    "precision_at_20, data = precision_at_k( df8, k=200 )\n",
    "\n",
    "# compute recall at k\n",
    "recall_at_15, data = recall_at_k( df8, k=15 )"
   ]
  },
  {
   "cell_type": "code",
   "execution_count": 90,
   "id": "890ab422",
   "metadata": {
    "ExecuteTime": {
     "end_time": "2022-02-15T14:01:52.832849Z",
     "start_time": "2022-02-15T14:01:52.812893Z"
    },
    "hidden": true
   },
   "outputs": [
    {
     "data": {
      "text/plain": [
       "0.3034825870646766"
      ]
     },
     "execution_count": 90,
     "metadata": {},
     "output_type": "execute_result"
    }
   ],
   "source": [
    "precision_at_20"
   ]
  },
  {
   "cell_type": "code",
   "execution_count": null,
   "id": "c1b3bdf1",
   "metadata": {
    "hidden": true
   },
   "outputs": [],
   "source": []
  },
  {
   "cell_type": "code",
   "execution_count": null,
   "id": "edfad3ce",
   "metadata": {
    "hidden": true
   },
   "outputs": [],
   "source": []
  },
  {
   "cell_type": "code",
   "execution_count": null,
   "id": "23121e0d",
   "metadata": {
    "hidden": true
   },
   "outputs": [],
   "source": []
  },
  {
   "cell_type": "code",
   "execution_count": null,
   "id": "69fc9e95",
   "metadata": {
    "hidden": true
   },
   "outputs": [],
   "source": []
  }
 ],
 "metadata": {
  "kernelspec": {
   "display_name": "Python 3 (ipykernel)",
   "language": "python",
   "name": "python3"
  },
  "language_info": {
   "codemirror_mode": {
    "name": "ipython",
    "version": 3
   },
   "file_extension": ".py",
   "mimetype": "text/x-python",
   "name": "python",
   "nbconvert_exporter": "python",
   "pygments_lexer": "ipython3",
   "version": "3.8.12"
  }
 },
 "nbformat": 4,
 "nbformat_minor": 5
}
