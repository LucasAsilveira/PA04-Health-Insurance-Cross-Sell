{
 "cells": [
  {
   "cell_type": "markdown",
   "id": "05aacdd0",
   "metadata": {},
   "source": [
    "# 0.0. IMPORTS "
   ]
  },
  {
   "cell_type": "markdown",
   "id": "3a26d20b",
   "metadata": {},
   "source": [
    "## 0.1. Libries"
   ]
  },
  {
   "cell_type": "code",
   "execution_count": 36,
   "id": "ea5d33a8",
   "metadata": {
    "ExecuteTime": {
     "end_time": "2022-02-07T14:36:23.644297Z",
     "start_time": "2022-02-07T14:36:23.635987Z"
    }
   },
   "outputs": [],
   "source": [
    "import psycopg2          as pg\n",
    "import pandas            as pd\n",
    "import pandas.io.sql     as psql\n",
    "import numpy             as np\n",
    "import seaborn           as sns\n",
    "import matplotlib.pyplot as plt\n",
    "import scikitplot        as skplt\n",
    "\n",
    "from sklearn import preprocessing   as pp\n",
    "from sklearn import model_selection as ms\n",
    "from sklearn import ensemble        as en\n",
    "from sklearn import neighbors       as nh\n",
    "from sklearn import linear_model    as lm\n"
   ]
  },
  {
   "cell_type": "markdown",
   "id": "3ff3b142",
   "metadata": {
    "heading_collapsed": true
   },
   "source": [
    "## 0.2. Helper Functions"
   ]
  },
  {
   "cell_type": "code",
   "execution_count": null,
   "id": "177a01b9",
   "metadata": {
    "hidden": true
   },
   "outputs": [],
   "source": []
  },
  {
   "cell_type": "markdown",
   "id": "c8979c83",
   "metadata": {},
   "source": [
    "## 0.3.  Loading Data"
   ]
  },
  {
   "cell_type": "markdown",
   "id": "1d109dca",
   "metadata": {
    "heading_collapsed": true
   },
   "source": [
    "### 0.3.1 Data Import from Data Base"
   ]
  },
  {
   "cell_type": "code",
   "execution_count": 4,
   "id": "f29a707d",
   "metadata": {
    "ExecuteTime": {
     "end_time": "2022-02-02T13:42:34.872318Z",
     "start_time": "2022-02-02T13:39:22.602171Z"
    },
    "hidden": true
   },
   "outputs": [
    {
     "name": "stderr",
     "output_type": "stream",
     "text": [
      "/home/lucasas/anaconda3/envs/pa04healthinsurance-env/lib/python3.8/site-packages/pandas/io/sql.py:758: UserWarning: pandas only support SQLAlchemy connectable(engine/connection) ordatabase string URI or sqlite3 DBAPI2 connectionother DBAPI2 objects are not tested, please consider using SQLAlchemy\n",
      "  warnings.warn(\n"
     ]
    },
    {
     "data": {
      "text/html": [
       "<div>\n",
       "<style scoped>\n",
       "    .dataframe tbody tr th:only-of-type {\n",
       "        vertical-align: middle;\n",
       "    }\n",
       "\n",
       "    .dataframe tbody tr th {\n",
       "        vertical-align: top;\n",
       "    }\n",
       "\n",
       "    .dataframe thead th {\n",
       "        text-align: right;\n",
       "    }\n",
       "</style>\n",
       "<table border=\"1\" class=\"dataframe\">\n",
       "  <thead>\n",
       "    <tr style=\"text-align: right;\">\n",
       "      <th></th>\n",
       "      <th>gender</th>\n",
       "      <th>age</th>\n",
       "      <th>region_code</th>\n",
       "      <th>policy_sales_channel</th>\n",
       "      <th>driving_license</th>\n",
       "      <th>vehicle_age</th>\n",
       "      <th>vehicle_damage</th>\n",
       "      <th>previously_insured</th>\n",
       "      <th>annual_premium</th>\n",
       "      <th>vintage</th>\n",
       "      <th>response</th>\n",
       "    </tr>\n",
       "  </thead>\n",
       "  <tbody>\n",
       "    <tr>\n",
       "      <th>0</th>\n",
       "      <td>Female</td>\n",
       "      <td>56</td>\n",
       "      <td>28.0</td>\n",
       "      <td>26.0</td>\n",
       "      <td>1</td>\n",
       "      <td>1-2 Year</td>\n",
       "      <td>Yes</td>\n",
       "      <td>0</td>\n",
       "      <td>32031.0</td>\n",
       "      <td>72</td>\n",
       "      <td>1</td>\n",
       "    </tr>\n",
       "    <tr>\n",
       "      <th>1</th>\n",
       "      <td>Female</td>\n",
       "      <td>47</td>\n",
       "      <td>35.0</td>\n",
       "      <td>124.0</td>\n",
       "      <td>1</td>\n",
       "      <td>1-2 Year</td>\n",
       "      <td>Yes</td>\n",
       "      <td>0</td>\n",
       "      <td>47576.0</td>\n",
       "      <td>46</td>\n",
       "      <td>1</td>\n",
       "    </tr>\n",
       "    <tr>\n",
       "      <th>2</th>\n",
       "      <td>Male</td>\n",
       "      <td>45</td>\n",
       "      <td>8.0</td>\n",
       "      <td>124.0</td>\n",
       "      <td>1</td>\n",
       "      <td>1-2 Year</td>\n",
       "      <td>Yes</td>\n",
       "      <td>0</td>\n",
       "      <td>42297.0</td>\n",
       "      <td>264</td>\n",
       "      <td>0</td>\n",
       "    </tr>\n",
       "    <tr>\n",
       "      <th>3</th>\n",
       "      <td>Female</td>\n",
       "      <td>54</td>\n",
       "      <td>28.0</td>\n",
       "      <td>122.0</td>\n",
       "      <td>1</td>\n",
       "      <td>1-2 Year</td>\n",
       "      <td>No</td>\n",
       "      <td>0</td>\n",
       "      <td>38560.0</td>\n",
       "      <td>184</td>\n",
       "      <td>0</td>\n",
       "    </tr>\n",
       "    <tr>\n",
       "      <th>4</th>\n",
       "      <td>Female</td>\n",
       "      <td>49</td>\n",
       "      <td>3.0</td>\n",
       "      <td>152.0</td>\n",
       "      <td>1</td>\n",
       "      <td>1-2 Year</td>\n",
       "      <td>No</td>\n",
       "      <td>1</td>\n",
       "      <td>25553.0</td>\n",
       "      <td>130</td>\n",
       "      <td>0</td>\n",
       "    </tr>\n",
       "  </tbody>\n",
       "</table>\n",
       "</div>"
      ],
      "text/plain": [
       "   gender  age  region_code  policy_sales_channel  driving_license  \\\n",
       "0  Female   56         28.0                  26.0                1   \n",
       "1  Female   47         35.0                 124.0                1   \n",
       "2    Male   45          8.0                 124.0                1   \n",
       "3  Female   54         28.0                 122.0                1   \n",
       "4  Female   49          3.0                 152.0                1   \n",
       "\n",
       "  vehicle_age vehicle_damage  previously_insured  annual_premium  vintage  \\\n",
       "0    1-2 Year            Yes                   0         32031.0       72   \n",
       "1    1-2 Year            Yes                   0         47576.0       46   \n",
       "2    1-2 Year            Yes                   0         42297.0      264   \n",
       "3    1-2 Year             No                   0         38560.0      184   \n",
       "4    1-2 Year             No                   1         25553.0      130   \n",
       "\n",
       "   response  \n",
       "0         1  \n",
       "1         1  \n",
       "2         0  \n",
       "3         0  \n",
       "4         0  "
      ]
     },
     "execution_count": 4,
     "metadata": {},
     "output_type": "execute_result"
    }
   ],
   "source": [
    "# Credentials BD\n",
    "#host = 'comunidade-ds-postgres.c50pcakiuwi3.us-east-1.rds.amazonaws.com'\n",
    "#port = 5432\n",
    "#database = 'comunidadedsdb'\n",
    "#user = 'member'\n",
    "#pwd = 'cdspa'\n",
    "\n",
    "##Create conection BD\n",
    "#conn = pg.connect( user=user,\n",
    "#            password=pwd,\n",
    "#            host=host,\n",
    "#            port=port,\n",
    "#            database=database )\n",
    "\n",
    "##Join tables\n",
    "#query_tables_users = \"\"\"\n",
    "#    SELECT *\n",
    "#    FROM pa004.users u LEFT JOIN pa004.vehicle   v ON ( u.id = v.id )\n",
    "#                       LEFT JOIN pa004.insurance i ON ( u.id = i.id )  \n",
    "#    WHERE u.age > 44\n",
    "#    \n",
    "#\"\"\"\n",
    "#\n",
    "#df_raw = pd.read_sql( query_tables_users, conn )\n",
    "#\n",
    "##Drop duplicates id's \n",
    "#\n",
    "#df_raw = df_raw.drop( df_raw.columns[[5,9]], axis = 1)\n",
    "#\n",
    "##csv generate\n",
    "#df_raw.to_csv('data/BD_emerge.csv', encoding='utf-8', index=False)"
   ]
  },
  {
   "cell_type": "markdown",
   "id": "e02a3a50",
   "metadata": {
    "ExecuteTime": {
     "end_time": "2022-02-02T13:49:31.771256Z",
     "start_time": "2022-02-02T13:49:31.295176Z"
    },
    "heading_collapsed": true
   },
   "source": [
    "### 0.3.2 Loading Data"
   ]
  },
  {
   "cell_type": "code",
   "execution_count": 2,
   "id": "d1b567d5",
   "metadata": {
    "ExecuteTime": {
     "end_time": "2022-02-07T13:48:34.560976Z",
     "start_time": "2022-02-07T13:48:34.016408Z"
    },
    "hidden": true
   },
   "outputs": [],
   "source": [
    "df_bd = pd.read_csv('data/BD_emerge.csv')\n",
    "df_raw = pd.read_csv('data/train.csv')"
   ]
  },
  {
   "cell_type": "markdown",
   "id": "7791b420",
   "metadata": {},
   "source": [
    "# 1. DATA DESCRIPTION"
   ]
  },
  {
   "cell_type": "code",
   "execution_count": 3,
   "id": "afcd4e44",
   "metadata": {
    "ExecuteTime": {
     "end_time": "2022-02-07T13:48:37.826341Z",
     "start_time": "2022-02-07T13:48:37.802069Z"
    }
   },
   "outputs": [],
   "source": [
    "df1 = df_raw.copy()"
   ]
  },
  {
   "cell_type": "markdown",
   "id": "173ec0bb",
   "metadata": {
    "heading_collapsed": true
   },
   "source": [
    "## Description Columns:"
   ]
  },
  {
   "cell_type": "markdown",
   "id": "c6d083f6",
   "metadata": {
    "hidden": true
   },
   "source": [
    "- Id: identificador único do cliente.\n",
    "\n",
    "- Gender: gênero do cliente.\n",
    "\n",
    "- Age: idade do cliente.\n",
    "\n",
    "- Driving License: 0, o cliente não tem permissão para dirigir e 1, o cliente tem para dirigir ( CNH – Carteira\n",
    "Nacional de Habilitação )\n",
    "\n",
    "- Region Code: código da região do cliente.\n",
    "\n",
    "- Previously Insured: 0, o cliente não tem seguro de automóvel e 1, o cliente já tem seguro de automóvel.\n",
    "\n",
    "- vehicle Age: idade do veículo.\n",
    "\n",
    "- Vehicle Damage: 0, cliente nunca teve seu veículo danificado no passado e 1, cliente já teve seu veículo\n",
    "danificado no passado.\n",
    "\n",
    "- Anual Premium: quantidade que o cliente pagou à empresa pelo seguro de saúde anual.\n",
    "\n",
    "- Policy sales channel: código anônimo para o canal de contato com o cliente.\n",
    "\n",
    "- Vintage: número de dias que o cliente se associou à empresa através da compra do seguro de saúde.\n",
    "\n",
    "- Response: 0, o cliente não tem interesse e 1, o cliente tem interesse."
   ]
  },
  {
   "cell_type": "markdown",
   "id": "45a84adc",
   "metadata": {
    "heading_collapsed": true
   },
   "source": [
    "## 1.1. Rename Columns "
   ]
  },
  {
   "cell_type": "code",
   "execution_count": 4,
   "id": "057feef6",
   "metadata": {
    "ExecuteTime": {
     "end_time": "2022-02-07T13:48:43.378915Z",
     "start_time": "2022-02-07T13:48:43.368504Z"
    },
    "hidden": true
   },
   "outputs": [],
   "source": [
    " cols_new = ['id', 'gender', 'age', 'driving_license', 'region_code', 'previously_insured', 'vehicle_age', \n",
    "            'vehicle_damage', 'annual_premium', 'policy_sales_channel', 'vintage', 'response']\n",
    "\n",
    "# rename \n",
    "df1.columns = cols_new"
   ]
  },
  {
   "cell_type": "markdown",
   "id": "9d208a8d",
   "metadata": {
    "heading_collapsed": true
   },
   "source": [
    "## 1.2. Data Dimensions "
   ]
  },
  {
   "cell_type": "code",
   "execution_count": 31,
   "id": "f0b09bcf",
   "metadata": {
    "ExecuteTime": {
     "end_time": "2022-02-02T14:22:35.901307Z",
     "start_time": "2022-02-02T14:22:35.898089Z"
    },
    "hidden": true,
    "hide_input": true
   },
   "outputs": [
    {
     "name": "stdout",
     "output_type": "stream",
     "text": [
      "Number of Rows: 381109\n",
      "Number of cols: 12\n"
     ]
    }
   ],
   "source": [
    "print( 'Number of Rows: {}'.format( df1.shape[0] ) )\n",
    "print( 'Number of cols: {}'.format( df1.shape[1] ) )\n"
   ]
  },
  {
   "cell_type": "markdown",
   "id": "ae97956c",
   "metadata": {
    "heading_collapsed": true
   },
   "source": [
    "## 1.3. Data Types"
   ]
  },
  {
   "cell_type": "code",
   "execution_count": 32,
   "id": "7499e232",
   "metadata": {
    "ExecuteTime": {
     "end_time": "2022-02-02T14:22:37.062951Z",
     "start_time": "2022-02-02T14:22:37.056249Z"
    },
    "hidden": true,
    "hide_input": true
   },
   "outputs": [
    {
     "data": {
      "text/plain": [
       "id                        int64\n",
       "gender                   object\n",
       "age                       int64\n",
       "driving_license           int64\n",
       "region_code             float64\n",
       "previously_insured        int64\n",
       "vehicle_age              object\n",
       "vehicle_damage           object\n",
       "annual_premium          float64\n",
       "policy_sales_channel    float64\n",
       "vintage                   int64\n",
       "response                  int64\n",
       "dtype: object"
      ]
     },
     "execution_count": 32,
     "metadata": {},
     "output_type": "execute_result"
    }
   ],
   "source": [
    "df1.dtypes"
   ]
  },
  {
   "cell_type": "markdown",
   "id": "9900e789",
   "metadata": {
    "heading_collapsed": true
   },
   "source": [
    "## 1.4. Check NA"
   ]
  },
  {
   "cell_type": "code",
   "execution_count": 33,
   "id": "94d620ee",
   "metadata": {
    "ExecuteTime": {
     "end_time": "2022-02-02T14:22:39.029339Z",
     "start_time": "2022-02-02T14:22:38.797559Z"
    },
    "hidden": true,
    "hide_input": true
   },
   "outputs": [
    {
     "data": {
      "text/plain": [
       "id                      0\n",
       "gender                  0\n",
       "age                     0\n",
       "driving_license         0\n",
       "region_code             0\n",
       "previously_insured      0\n",
       "vehicle_age             0\n",
       "vehicle_damage          0\n",
       "annual_premium          0\n",
       "policy_sales_channel    0\n",
       "vintage                 0\n",
       "response                0\n",
       "dtype: int64"
      ]
     },
     "execution_count": 33,
     "metadata": {},
     "output_type": "execute_result"
    }
   ],
   "source": [
    "df1.isna().sum()"
   ]
  },
  {
   "cell_type": "markdown",
   "id": "6858fa85",
   "metadata": {
    "heading_collapsed": true
   },
   "source": [
    "## 1.5. Desctiptive Statistical"
   ]
  },
  {
   "cell_type": "code",
   "execution_count": 5,
   "id": "fb2ca2d3",
   "metadata": {
    "ExecuteTime": {
     "end_time": "2022-02-04T12:55:30.388603Z",
     "start_time": "2022-02-04T12:55:30.380649Z"
    },
    "hidden": true
   },
   "outputs": [],
   "source": [
    "#Separate into numeric and categorical\n",
    "num_attributes = df1.select_dtypes(include =['int64', 'float64'])\n",
    "cat_attributes = df1.select_dtypes( include = ['object'])\n"
   ]
  },
  {
   "cell_type": "markdown",
   "id": "85f733ef",
   "metadata": {
    "heading_collapsed": true,
    "hidden": true
   },
   "source": [
    "### 1.5.1. Numerical Atributes"
   ]
  },
  {
   "cell_type": "code",
   "execution_count": 35,
   "id": "e79cc86c",
   "metadata": {
    "ExecuteTime": {
     "end_time": "2022-02-02T14:22:44.540571Z",
     "start_time": "2022-02-02T14:22:43.856436Z"
    },
    "hidden": true,
    "hide_input": true
   },
   "outputs": [
    {
     "data": {
      "text/html": [
       "<div>\n",
       "<style scoped>\n",
       "    .dataframe tbody tr th:only-of-type {\n",
       "        vertical-align: middle;\n",
       "    }\n",
       "\n",
       "    .dataframe tbody tr th {\n",
       "        vertical-align: top;\n",
       "    }\n",
       "\n",
       "    .dataframe thead th {\n",
       "        text-align: right;\n",
       "    }\n",
       "</style>\n",
       "<table border=\"1\" class=\"dataframe\">\n",
       "  <thead>\n",
       "    <tr style=\"text-align: right;\">\n",
       "      <th></th>\n",
       "      <th>attributes</th>\n",
       "      <th>min</th>\n",
       "      <th>max</th>\n",
       "      <th>range</th>\n",
       "      <th>mean</th>\n",
       "      <th>median</th>\n",
       "      <th>std</th>\n",
       "      <th>skew</th>\n",
       "      <th>kurtosis</th>\n",
       "    </tr>\n",
       "  </thead>\n",
       "  <tbody>\n",
       "    <tr>\n",
       "      <th>0</th>\n",
       "      <td>id</td>\n",
       "      <td>1.0</td>\n",
       "      <td>381109.0</td>\n",
       "      <td>381108.0</td>\n",
       "      <td>190555.000000</td>\n",
       "      <td>190555.0</td>\n",
       "      <td>110016.691870</td>\n",
       "      <td>9.443274e-16</td>\n",
       "      <td>-1.200000</td>\n",
       "    </tr>\n",
       "    <tr>\n",
       "      <th>1</th>\n",
       "      <td>age</td>\n",
       "      <td>20.0</td>\n",
       "      <td>85.0</td>\n",
       "      <td>65.0</td>\n",
       "      <td>38.822584</td>\n",
       "      <td>36.0</td>\n",
       "      <td>15.511591</td>\n",
       "      <td>6.725390e-01</td>\n",
       "      <td>-0.565655</td>\n",
       "    </tr>\n",
       "    <tr>\n",
       "      <th>2</th>\n",
       "      <td>driving_license</td>\n",
       "      <td>0.0</td>\n",
       "      <td>1.0</td>\n",
       "      <td>1.0</td>\n",
       "      <td>0.997869</td>\n",
       "      <td>1.0</td>\n",
       "      <td>0.046109</td>\n",
       "      <td>-2.159518e+01</td>\n",
       "      <td>464.354302</td>\n",
       "    </tr>\n",
       "    <tr>\n",
       "      <th>3</th>\n",
       "      <td>region_code</td>\n",
       "      <td>0.0</td>\n",
       "      <td>52.0</td>\n",
       "      <td>52.0</td>\n",
       "      <td>26.388807</td>\n",
       "      <td>28.0</td>\n",
       "      <td>13.229871</td>\n",
       "      <td>-1.152664e-01</td>\n",
       "      <td>-0.867857</td>\n",
       "    </tr>\n",
       "    <tr>\n",
       "      <th>4</th>\n",
       "      <td>previously_insured</td>\n",
       "      <td>0.0</td>\n",
       "      <td>1.0</td>\n",
       "      <td>1.0</td>\n",
       "      <td>0.458210</td>\n",
       "      <td>0.0</td>\n",
       "      <td>0.498251</td>\n",
       "      <td>1.677471e-01</td>\n",
       "      <td>-1.971871</td>\n",
       "    </tr>\n",
       "    <tr>\n",
       "      <th>5</th>\n",
       "      <td>annual_premium</td>\n",
       "      <td>2630.0</td>\n",
       "      <td>540165.0</td>\n",
       "      <td>537535.0</td>\n",
       "      <td>30564.389581</td>\n",
       "      <td>31669.0</td>\n",
       "      <td>17213.132474</td>\n",
       "      <td>1.766087e+00</td>\n",
       "      <td>34.004569</td>\n",
       "    </tr>\n",
       "    <tr>\n",
       "      <th>6</th>\n",
       "      <td>policy_sales_channel</td>\n",
       "      <td>1.0</td>\n",
       "      <td>163.0</td>\n",
       "      <td>162.0</td>\n",
       "      <td>112.034295</td>\n",
       "      <td>133.0</td>\n",
       "      <td>54.203924</td>\n",
       "      <td>-9.000081e-01</td>\n",
       "      <td>-0.970810</td>\n",
       "    </tr>\n",
       "    <tr>\n",
       "      <th>7</th>\n",
       "      <td>vintage</td>\n",
       "      <td>10.0</td>\n",
       "      <td>299.0</td>\n",
       "      <td>289.0</td>\n",
       "      <td>154.347397</td>\n",
       "      <td>154.0</td>\n",
       "      <td>83.671194</td>\n",
       "      <td>3.029517e-03</td>\n",
       "      <td>-1.200688</td>\n",
       "    </tr>\n",
       "    <tr>\n",
       "      <th>8</th>\n",
       "      <td>response</td>\n",
       "      <td>0.0</td>\n",
       "      <td>1.0</td>\n",
       "      <td>1.0</td>\n",
       "      <td>0.122563</td>\n",
       "      <td>0.0</td>\n",
       "      <td>0.327935</td>\n",
       "      <td>2.301906e+00</td>\n",
       "      <td>3.298788</td>\n",
       "    </tr>\n",
       "  </tbody>\n",
       "</table>\n",
       "</div>"
      ],
      "text/plain": [
       "             attributes     min       max     range           mean    median  \\\n",
       "0                    id     1.0  381109.0  381108.0  190555.000000  190555.0   \n",
       "1                   age    20.0      85.0      65.0      38.822584      36.0   \n",
       "2       driving_license     0.0       1.0       1.0       0.997869       1.0   \n",
       "3           region_code     0.0      52.0      52.0      26.388807      28.0   \n",
       "4    previously_insured     0.0       1.0       1.0       0.458210       0.0   \n",
       "5        annual_premium  2630.0  540165.0  537535.0   30564.389581   31669.0   \n",
       "6  policy_sales_channel     1.0     163.0     162.0     112.034295     133.0   \n",
       "7               vintage    10.0     299.0     289.0     154.347397     154.0   \n",
       "8              response     0.0       1.0       1.0       0.122563       0.0   \n",
       "\n",
       "             std          skew    kurtosis  \n",
       "0  110016.691870  9.443274e-16   -1.200000  \n",
       "1      15.511591  6.725390e-01   -0.565655  \n",
       "2       0.046109 -2.159518e+01  464.354302  \n",
       "3      13.229871 -1.152664e-01   -0.867857  \n",
       "4       0.498251  1.677471e-01   -1.971871  \n",
       "5   17213.132474  1.766087e+00   34.004569  \n",
       "6      54.203924 -9.000081e-01   -0.970810  \n",
       "7      83.671194  3.029517e-03   -1.200688  \n",
       "8       0.327935  2.301906e+00    3.298788  "
      ]
     },
     "execution_count": 35,
     "metadata": {},
     "output_type": "execute_result"
    }
   ],
   "source": [
    "#Central tendency - mean, median\n",
    "ct1 = pd.DataFrame( num_attributes.apply( np.mean ) ).T\n",
    "ct2 = pd.DataFrame( num_attributes.apply( np.median ) ).T\n",
    "\n",
    "#Dispersion - std, min, max, range, skew, kurtosis \n",
    "d1 = pd.DataFrame( num_attributes.apply( np.std) ).T\n",
    "d2 = pd.DataFrame( num_attributes.apply( min ) ).T\n",
    "d3 = pd.DataFrame( num_attributes.apply( max ) ).T\n",
    "d4 = pd.DataFrame( num_attributes.apply( lambda x: x.max() - x.min() ) ).T\n",
    "d5 = pd.DataFrame( num_attributes.apply( lambda x: x.skew() ) ).T\n",
    "d6 = pd.DataFrame( num_attributes.apply( lambda x: x.kurtosis() ) ).T\n",
    "\n",
    "# Concatenate\n",
    "m = pd.concat( [d2, d3, d4, ct1, ct2, d1, d5, d6]).T.reset_index()\n",
    "m.columns = ['attributes', 'min', 'max', 'range', 'mean', 'median', 'std', 'skew', 'kurtosis']\n",
    "m"
   ]
  },
  {
   "cell_type": "markdown",
   "id": "a9a9cea5",
   "metadata": {
    "ExecuteTime": {
     "end_time": "2022-02-02T13:57:18.489236Z",
     "start_time": "2022-02-02T13:57:18.484478Z"
    },
    "heading_collapsed": true,
    "hidden": true
   },
   "source": [
    "### 1.5.2 Categorical Atributes"
   ]
  },
  {
   "cell_type": "code",
   "execution_count": 32,
   "id": "83e26ce5",
   "metadata": {
    "ExecuteTime": {
     "end_time": "2022-02-04T13:38:15.718325Z",
     "start_time": "2022-02-04T13:38:15.698628Z"
    },
    "hidden": true
   },
   "outputs": [
    {
     "data": {
      "text/plain": [
       "Index(['gender', 'vehicle_age', 'vehicle_damage'], dtype='object')"
      ]
     },
     "execution_count": 32,
     "metadata": {},
     "output_type": "execute_result"
    }
   ],
   "source": [
    "cat_attributes.columns"
   ]
  },
  {
   "cell_type": "code",
   "execution_count": 34,
   "id": "ff208a1a",
   "metadata": {
    "ExecuteTime": {
     "end_time": "2022-02-04T13:40:18.476061Z",
     "start_time": "2022-02-04T13:39:42.368086Z"
    },
    "hidden": true,
    "scrolled": false
   },
   "outputs": [
    {
     "data": {
      "image/png": "[encoded data removed]",
      "text/plain": [
       "<Figure size 432x288 with 1 Axes>"
      ]
     },
     "metadata": {
      "needs_background": "light"
     },
     "output_type": "display_data"
    }
   ],
   "source": []
  },
  {
   "cell_type": "markdown",
   "id": "42e9281c",
   "metadata": {
    "heading_collapsed": true
   },
   "source": [
    "# 2.0. FEATURE ENGINEERING"
   ]
  },
  {
   "cell_type": "code",
   "execution_count": 5,
   "id": "c5c63fa7",
   "metadata": {
    "ExecuteTime": {
     "end_time": "2022-02-07T13:49:00.667604Z",
     "start_time": "2022-02-07T13:49:00.641580Z"
    },
    "hidden": true
   },
   "outputs": [],
   "source": [
    "df2 = df1.copy()"
   ]
  },
  {
   "cell_type": "markdown",
   "id": "6f7b4dcc",
   "metadata": {
    "hidden": true
   },
   "source": [
    "-  2.1. Mapa Mental de Hipoteses\n",
    "-  2.2. Criação das Hipotéses(Loja, Produto, tempo)\n",
    "-  2.3. Hipoteses Finais. \n",
    "-  2.4. Feature Engineering"
   ]
  },
  {
   "cell_type": "code",
   "execution_count": 6,
   "id": "3735b864",
   "metadata": {
    "ExecuteTime": {
     "end_time": "2022-02-07T13:49:01.913930Z",
     "start_time": "2022-02-07T13:49:01.692814Z"
    },
    "hidden": true
   },
   "outputs": [],
   "source": [
    "#Vehicle age\n",
    "df2['vehicle_age'] = df2['vehicle_age'].apply( lambda x: 'over_2_years' if x == '> 2 Years'\n",
    "                                               else 'between_1_2_year'  if x == '1-2 Year'\n",
    "                                               else 'below_1_year')\n",
    "#Vehicle damage\n",
    "df2['vehicle_damage'] = df2['vehicle_damage'].apply( lambda x: 1 if x == 'yes' \n",
    "                                                    else 0 )"
   ]
  },
  {
   "cell_type": "markdown",
   "id": "28ee4d7b",
   "metadata": {
    "heading_collapsed": true
   },
   "source": [
    "# 3.0. Data Filtering"
   ]
  },
  {
   "cell_type": "code",
   "execution_count": 7,
   "id": "4f4022e7",
   "metadata": {
    "ExecuteTime": {
     "end_time": "2022-02-07T13:49:05.531668Z",
     "start_time": "2022-02-07T13:49:05.424642Z"
    },
    "hidden": true
   },
   "outputs": [],
   "source": [
    "df3 = df2.copy()"
   ]
  },
  {
   "cell_type": "markdown",
   "id": "3f9e1e7f",
   "metadata": {},
   "source": [
    "# 4.0. EDA"
   ]
  },
  {
   "cell_type": "code",
   "execution_count": 8,
   "id": "abbf6043",
   "metadata": {
    "ExecuteTime": {
     "end_time": "2022-02-07T13:49:08.739896Z",
     "start_time": "2022-02-07T13:49:08.698026Z"
    }
   },
   "outputs": [],
   "source": [
    "df4 = df3.copy()"
   ]
  },
  {
   "cell_type": "markdown",
   "id": "ff513860",
   "metadata": {},
   "source": [
    "Faze univariada, bivariada, teste de hipoteses... "
   ]
  },
  {
   "cell_type": "markdown",
   "id": "b35114c5",
   "metadata": {},
   "source": [
    "## 4.1. Univariate Analysis"
   ]
  },
  {
   "cell_type": "markdown",
   "id": "2be1d38e",
   "metadata": {},
   "source": [
    "Em um projeto de classificação o objetivo é encontrar quais features tem uma separação natural ou mais separadas naturalmente para ajudar o modelo. O modelo sempre quer descobrir um corte no espaço que consegue separe quem tem interesse no produto e quem não tem interesse no produto. \n",
    "Quando usamos variáveis unidirecional, queremos plotar uma distribuição e olha esta projeção no eixo x, para dizer se são misturadas ou não. \n",
    "Do ponto gráfico podemos analisar diferença de médias, dos quartis, sobreposição entre distribuição. Assim podemos ter uma idéia se a váriavel irá 'bagunçar' ou 'separar' o dataset. Lembrando que o interesse aqui é encontrar as variáveis separadas entre si. "
   ]
  },
  {
   "cell_type": "markdown",
   "id": "9884885f",
   "metadata": {
    "heading_collapsed": true
   },
   "source": [
    "### - Variable \"age\"\n",
    "Possui relevância para o modelo"
   ]
  },
  {
   "cell_type": "code",
   "execution_count": 115,
   "id": "d2be0224",
   "metadata": {
    "ExecuteTime": {
     "end_time": "2022-02-03T19:46:42.158321Z",
     "start_time": "2022-02-03T19:46:41.962939Z"
    },
    "hidden": true,
    "hide_input": false,
    "scrolled": true
   },
   "outputs": [
    {
     "data": {
      "image/png": "[encoded data removed]",
      "text/plain": [
       "<Figure size 576x360 with 1 Axes>"
      ]
     },
     "metadata": {
      "needs_background": "light"
     },
     "output_type": "display_data"
    }
   ],
   "source": [
    "#age\n",
    "sns.boxplot( x= 'response' , y= 'age', data= df4 ).figure.set_size_inches(8,5);"
   ]
  },
  {
   "cell_type": "markdown",
   "id": "f8d5d160",
   "metadata": {
    "hidden": true
   },
   "source": [
    "> Interpretação do boxplot variavel ageXresponse: \n",
    "> - No grupo de pessoas que não estão interessados, temos a mediana próximo dos 35 anos, o primeiro ao terceiro >quartis estão dentro do intervalo de 25 a 50 anos.\n",
    ">- No grupo de pessoas que estão interessados, temos a mediana próxima a 45 anos, e o primeiro quartil estã acima da mediana do primeiro grupo, vemos uma concentração nos primeiro e terceiro quartis na faixa de 35 e 50.\n",
    ">- Numa primeira analise vemos que a um interesse maior das pessoas mais velhas contra as mais novas, nos indicando que esta variável pode ter importância na classificação. "
   ]
  },
  {
   "cell_type": "code",
   "execution_count": 153,
   "id": "d808c931",
   "metadata": {
    "ExecuteTime": {
     "end_time": "2022-02-03T20:28:04.548735Z",
     "start_time": "2022-02-03T20:28:03.908297Z"
    },
    "hidden": true,
    "hide_input": true
   },
   "outputs": [
    {
     "name": "stdout",
     "output_type": "stream",
     "text": [
      "Interested People: 46710 \n",
      "Not Interested People: 334399 \n"
     ]
    },
    {
     "data": {
      "image/png": "[encoded data removed]",
      "text/plain": [
       "<Figure size 1080x864 with 2 Axes>"
      ]
     },
     "metadata": {
      "needs_background": "light"
     },
     "output_type": "display_data"
    }
   ],
   "source": [
    "#Histogram not interested \n",
    "plt.subplot( 2, 1, 1 ).figure.set_size_inches(15,12);\n",
    "aux0 = df4.loc[ df4['response'] == 0, 'age' ]\n",
    "sns.histplot( aux0 );\n",
    "\n",
    "#Histogram interested \n",
    "plt.subplot( 2, 1, 2 );\n",
    "aux0 = df4.loc[ df4['response'] == 1, 'age' ]\n",
    "sns.histplot( aux0 );\n",
    "print( f\"Interested People: {len(df4.loc[ df4['response'] == 1, 'age' ])} \")\n",
    "print( f\"Not Interested People: {len(df4.loc[ df4['response'] == 0, 'age' ])} \")"
   ]
  },
  {
   "cell_type": "markdown",
   "id": "08e999be",
   "metadata": {
    "hidden": true
   },
   "source": [
    "> Ao plotarmos a distribuição: \n",
    "> - Pessoas que não possuem interesse: Temos com relação a amplitude, uma concentração de pessoas muito maior por volta dos 25 anos. A distribuição não se comporta como uma normal, se assemelha mais a uma Poison. \n",
    "> - Pessoas que possuem interese: A concentração fica em torno de 40 a 50 anos, a distribuição fica masi próxima de uma distribuição normal. Percebemos que o interesse cai bastante após a idade dos 50 anos e poucas pessoas interessadas com idades da parte superior do gráfico. \n",
    "> Obs:. Temos um número muito maior de pessoas que não possuem interesse, assim podemos ficar alerta de apesar de a idade ser representativa, temos o problema de diferença de volumes entre as classes."
   ]
  },
  {
   "cell_type": "markdown",
   "id": "62f9e1ad",
   "metadata": {
    "ExecuteTime": {
     "end_time": "2022-02-04T13:21:50.625648Z",
     "start_time": "2022-02-04T13:21:50.612707Z"
    },
    "heading_collapsed": true
   },
   "source": [
    "### - Variable \"annual_premium\"\n",
    "Pouca relevância para o modelo"
   ]
  },
  {
   "cell_type": "code",
   "execution_count": 20,
   "id": "65ffcb88",
   "metadata": {
    "ExecuteTime": {
     "end_time": "2022-02-04T13:07:37.715200Z",
     "start_time": "2022-02-04T13:07:37.478663Z"
    },
    "hidden": true,
    "hide_input": true
   },
   "outputs": [
    {
     "data": {
      "image/png": "[encoded data removed]",
      "text/plain": [
       "<Figure size 864x720 with 1 Axes>"
      ]
     },
     "metadata": {
      "needs_background": "light"
     },
     "output_type": "display_data"
    }
   ],
   "source": [
    "#annual_premium\n",
    "aux =df4[df4['annual_premium'] < 80000 ]\n",
    "sns.boxplot( x= 'response' , y= 'annual_premium', data= aux ).figure.set_size_inches(12,10);\n"
   ]
  },
  {
   "cell_type": "markdown",
   "id": "5b3831af",
   "metadata": {
    "hidden": true
   },
   "source": [
    "> Para analisar o box-plot da 'annual_premium' foi necessário plotar diminuindo os outliers, assim plotamos com filtro de menores de 8000.\n",
    "> Ao comparamos os box-plot para as duas respostas, vemos que as medianas estão muito próximas assim como a concentração entre os quartis. Assim percebemos que esta variável sozinha não nos ajudara no nosso modelo, talvez combinada com outra variável venha a ter utilidade. "
   ]
  },
  {
   "cell_type": "code",
   "execution_count": 23,
   "id": "76221d10",
   "metadata": {
    "ExecuteTime": {
     "end_time": "2022-02-04T13:15:11.980791Z",
     "start_time": "2022-02-04T13:15:11.071484Z"
    },
    "hidden": true,
    "hide_input": true
   },
   "outputs": [
    {
     "name": "stdout",
     "output_type": "stream",
     "text": [
      "Interested People: 46710 \n",
      "Not Interested People: 334399 \n"
     ]
    },
    {
     "data": {
      "image/png": "[encoded data removed]",
      "text/plain": [
       "<Figure size 1080x864 with 2 Axes>"
      ]
     },
     "metadata": {
      "needs_background": "light"
     },
     "output_type": "display_data"
    }
   ],
   "source": [
    "aux =df4[ (df4['annual_premium'] > 10000) & (df4['annual_premium'] <80000) ]\n",
    "\n",
    "#Histogram not interessed annual_premium\n",
    "plt.subplot( 2, 1, 1 ).figure.set_size_inches(15,12);\n",
    "aux0 = aux.loc[ df4['response'] == 0, 'annual_premium' ]\n",
    "sns.histplot( aux0 );\n",
    "\n",
    "#Histogram annual_premium\n",
    "plt.subplot( 2, 1, 2 );\n",
    "aux0 = aux.loc[ df4['response'] == 1, 'annual_premium' ]\n",
    "sns.histplot( aux0 );\n",
    "print( f\"Interested People: {len(df4.loc[ df4['response'] == 1, 'age' ])} \")\n",
    "print( f\"Not Interested People: {len(df4.loc[ df4['response'] == 0, 'age' ])} \")"
   ]
  },
  {
   "cell_type": "markdown",
   "id": "1e4ebc57",
   "metadata": {
    "hidden": true
   },
   "source": [
    ">Ao plotar a distribuição sem os out-liers, podemos ver uma distribuição bem parecida, além de considearar que a diferenã de volume é bem alta. Logo, reafirmamos que esta variável tera pouco relevância de forma idependênte no nossso modelo podendo atrapalhar mais do que ajudar. "
   ]
  },
  {
   "cell_type": "markdown",
   "id": "2e2308af",
   "metadata": {
    "ExecuteTime": {
     "end_time": "2022-02-04T13:22:27.929444Z",
     "start_time": "2022-02-04T13:22:27.925584Z"
    },
    "heading_collapsed": true
   },
   "source": [
    "### Variable \"driving_license\"\n",
    "Não conclusiva de maneira isolada"
   ]
  },
  {
   "cell_type": "code",
   "execution_count": 48,
   "id": "6186bf3b",
   "metadata": {
    "ExecuteTime": {
     "end_time": "2022-02-04T13:56:53.094466Z",
     "start_time": "2022-02-04T13:56:53.057168Z"
    },
    "hidden": true,
    "hide_input": false
   },
   "outputs": [
    {
     "data": {
      "text/html": [
       "<div>\n",
       "<style scoped>\n",
       "    .dataframe tbody tr th:only-of-type {\n",
       "        vertical-align: middle;\n",
       "    }\n",
       "\n",
       "    .dataframe tbody tr th {\n",
       "        vertical-align: top;\n",
       "    }\n",
       "\n",
       "    .dataframe thead th {\n",
       "        text-align: right;\n",
       "    }\n",
       "</style>\n",
       "<table border=\"1\" class=\"dataframe\">\n",
       "  <thead>\n",
       "    <tr style=\"text-align: right;\">\n",
       "      <th></th>\n",
       "      <th>response</th>\n",
       "      <th>driving_license</th>\n",
       "      <th>driving_license_perc</th>\n",
       "    </tr>\n",
       "  </thead>\n",
       "  <tbody>\n",
       "    <tr>\n",
       "      <th>0</th>\n",
       "      <td>0</td>\n",
       "      <td>333628</td>\n",
       "      <td>0.877283</td>\n",
       "    </tr>\n",
       "    <tr>\n",
       "      <th>1</th>\n",
       "      <td>1</td>\n",
       "      <td>46669</td>\n",
       "      <td>0.122717</td>\n",
       "    </tr>\n",
       "  </tbody>\n",
       "</table>\n",
       "</div>"
      ],
      "text/plain": [
       "   response  driving_license  driving_license_perc\n",
       "0         0           333628              0.877283\n",
       "1         1            46669              0.122717"
      ]
     },
     "execution_count": 48,
     "metadata": {},
     "output_type": "execute_result"
    }
   ],
   "source": [
    "#box-plot driving_license\n",
    "#0 = não responderam e não dirigem\n",
    "#1 = responderam e dirigem\n",
    "aux = df4[['driving_license','response']].groupby('response').sum().reset_index()\n",
    "aux['driving_license_perc'] = aux['driving_license']/aux['driving_license'].sum()\n",
    "#sns.barplot(x='response', y = 'driving_license', data = aux);\n",
    "aux"
   ]
  },
  {
   "cell_type": "markdown",
   "id": "87226ac4",
   "metadata": {
    "ExecuteTime": {
     "end_time": "2022-02-04T13:46:31.147694Z",
     "start_time": "2022-02-04T13:46:31.104748Z"
    },
    "hidden": true
   },
   "source": [
    "> Pouco conclusiva, analisando isoladamente temos que a maioria das pessoas entre as que dirigem(87%) não possuem interesse no seguro. Poŕém analisar esta variável sem levar em consideração outros fatores não esclarece muita coisa. Ou qual a propensão"
   ]
  },
  {
   "cell_type": "code",
   "execution_count": 90,
   "id": "806448d2",
   "metadata": {
    "ExecuteTime": {
     "end_time": "2022-02-04T15:15:29.516397Z",
     "start_time": "2022-02-04T15:15:29.467593Z"
    },
    "hidden": true
   },
   "outputs": [
    {
     "data": {
      "text/html": [
       "<div>\n",
       "<style scoped>\n",
       "    .dataframe tbody tr th:only-of-type {\n",
       "        vertical-align: middle;\n",
       "    }\n",
       "\n",
       "    .dataframe tbody tr th {\n",
       "        vertical-align: top;\n",
       "    }\n",
       "\n",
       "    .dataframe thead th {\n",
       "        text-align: right;\n",
       "    }\n",
       "</style>\n",
       "<table border=\"1\" class=\"dataframe\">\n",
       "  <thead>\n",
       "    <tr style=\"text-align: right;\">\n",
       "      <th>response</th>\n",
       "      <th>0</th>\n",
       "      <th>1</th>\n",
       "    </tr>\n",
       "    <tr>\n",
       "      <th>driving_license</th>\n",
       "      <th></th>\n",
       "      <th></th>\n",
       "    </tr>\n",
       "  </thead>\n",
       "  <tbody>\n",
       "    <tr>\n",
       "      <th>0</th>\n",
       "      <td>771</td>\n",
       "      <td>41</td>\n",
       "    </tr>\n",
       "    <tr>\n",
       "      <th>1</th>\n",
       "      <td>333628</td>\n",
       "      <td>46669</td>\n",
       "    </tr>\n",
       "  </tbody>\n",
       "</table>\n",
       "</div>"
      ],
      "text/plain": [
       "response              0      1\n",
       "driving_license               \n",
       "0                   771     41\n",
       "1                333628  46669"
      ]
     },
     "execution_count": 90,
     "metadata": {},
     "output_type": "execute_result"
    }
   ],
   "source": [
    "pd.crosstab( df4['driving_license'], df4['response'] )"
   ]
  },
  {
   "cell_type": "code",
   "execution_count": 91,
   "id": "3a6d3f4e",
   "metadata": {
    "ExecuteTime": {
     "end_time": "2022-02-04T15:19:20.769404Z",
     "start_time": "2022-02-04T15:19:20.752633Z"
    },
    "hidden": true
   },
   "outputs": [
    {
     "data": {
      "text/plain": [
       "5.317769130998703"
      ]
     },
     "execution_count": 91,
     "metadata": {},
     "output_type": "execute_result"
    }
   ],
   "source": [
    "41*100/771"
   ]
  },
  {
   "cell_type": "markdown",
   "id": "b2d10984",
   "metadata": {
    "hidden": true
   },
   "source": [
    "> Fazendo a tabela cruzada percebemos que o interesse das pessoas que tem licensa é maior, pois temos que entre os que não possuem licensa o interesse cai para 5,3%(41 dos 812) contra 12% dos que tem carteira de motorista. "
   ]
  },
  {
   "cell_type": "markdown",
   "id": "3296b04e",
   "metadata": {
    "heading_collapsed": true
   },
   "source": [
    "### Variable \"region_code\"\n",
    "pouca relevância para o modelo"
   ]
  },
  {
   "cell_type": "code",
   "execution_count": 84,
   "id": "3a1eaa41",
   "metadata": {
    "ExecuteTime": {
     "end_time": "2022-02-04T14:57:28.120814Z",
     "start_time": "2022-02-04T14:57:27.889712Z"
    },
    "hidden": true,
    "hide_input": false
   },
   "outputs": [
    {
     "data": {
      "image/png": "[encoded data removed]",
      "text/plain": [
       "<Figure size 864x648 with 1 Axes>"
      ]
     },
     "metadata": {
      "needs_background": "light"
     },
     "output_type": "display_data"
    }
   ],
   "source": [
    "#plot scatterplot region_code\n",
    "aux = df4[['id', 'region_code', 'response']].groupby(['region_code', 'response']).count().reset_index()\n",
    "aux['response'] = aux['response'].map({0:'not interested', 1:'interested'})\n",
    "ax = sns.scatterplot( x='region_code', y = 'id', hue = 'response', data = aux, s=20)\n",
    "ax.set_title('interested/not interested customers per region_code\\n')\n",
    "ax.legend(title='')\n",
    "ax.set_ylabel('')\n",
    "ax.figure.set_size_inches(12,9);\n",
    "\n",
    "\n"
   ]
  },
  {
   "cell_type": "markdown",
   "id": "c4c77145",
   "metadata": {
    "hidden": true,
    "hide_input": true
   },
   "source": [
    "> Mesmo que algumas regiões isoladamente tenha uma diferença expressiva de pessoas que tiveram interesse e não tiveram interesse, podemos ver no gráfico que a grande maioria possui um comportamento parecido. Assim, de forma isolada a variável region_code possui pouca significância para o modelo. "
   ]
  },
  {
   "cell_type": "markdown",
   "id": "4a4fba6b",
   "metadata": {
    "heading_collapsed": true
   },
   "source": [
    "### Variable \"previously_insured\"\n",
    "Possui relevância para o modelo"
   ]
  },
  {
   "cell_type": "code",
   "execution_count": 107,
   "id": "6fa51732",
   "metadata": {
    "ExecuteTime": {
     "end_time": "2022-02-04T20:12:36.112163Z",
     "start_time": "2022-02-04T20:12:36.065342Z"
    },
    "hidden": true,
    "hide_input": true
   },
   "outputs": [
    {
     "data": {
      "text/html": [
       "<div>\n",
       "<style scoped>\n",
       "    .dataframe tbody tr th:only-of-type {\n",
       "        vertical-align: middle;\n",
       "    }\n",
       "\n",
       "    .dataframe tbody tr th {\n",
       "        vertical-align: top;\n",
       "    }\n",
       "\n",
       "    .dataframe thead th {\n",
       "        text-align: right;\n",
       "    }\n",
       "</style>\n",
       "<table border=\"1\" class=\"dataframe\">\n",
       "  <thead>\n",
       "    <tr style=\"text-align: right;\">\n",
       "      <th>response</th>\n",
       "      <th>0</th>\n",
       "      <th>1</th>\n",
       "    </tr>\n",
       "    <tr>\n",
       "      <th>previously_insured</th>\n",
       "      <th></th>\n",
       "      <th></th>\n",
       "    </tr>\n",
       "  </thead>\n",
       "  <tbody>\n",
       "    <tr>\n",
       "      <th>0</th>\n",
       "      <td>0.774546</td>\n",
       "      <td>0.225454</td>\n",
       "    </tr>\n",
       "    <tr>\n",
       "      <th>1</th>\n",
       "      <td>0.999095</td>\n",
       "      <td>0.000905</td>\n",
       "    </tr>\n",
       "  </tbody>\n",
       "</table>\n",
       "</div>"
      ],
      "text/plain": [
       "response                   0         1\n",
       "previously_insured                    \n",
       "0                   0.774546  0.225454\n",
       "1                   0.999095  0.000905"
      ]
     },
     "execution_count": 107,
     "metadata": {},
     "output_type": "execute_result"
    }
   ],
   "source": [
    "#% tabela interesse X ja tem seguro\n",
    "pd.crosstab( df4['previously_insured'], df4['response'] ).apply( lambda x: x/x.sum(), axis =1)"
   ]
  },
  {
   "cell_type": "code",
   "execution_count": 105,
   "id": "4f519069",
   "metadata": {
    "ExecuteTime": {
     "end_time": "2022-02-04T20:11:05.537636Z",
     "start_time": "2022-02-04T20:11:05.522162Z"
    },
    "hidden": true,
    "hide_input": true
   },
   "outputs": [
    {
     "name": "stdout",
     "output_type": "stream",
     "text": [
      " Pocentagem dos que não tem seguro e tem interesse: 22.55%\n",
      " Pocentagem dos que tem seguro e não tem interesse: 0.0905%\n"
     ]
    }
   ],
   "source": [
    "a = (46552*100)/(159929+46552)\n",
    "b = (158*100)/(174470+158)\n",
    "print( f' Pocentagem dos que não tem seguro e tem interesse: {a:.4}%')\n",
    "print( f' Pocentagem dos que tem seguro e não tem interesse: {b:.3}%')"
   ]
  },
  {
   "cell_type": "markdown",
   "id": "d1e1442c",
   "metadata": {
    "hidden": true
   },
   "source": [
    ">Fazendo a tabela de contigência, onde nos mostra a relação quantas pessoas que já posssuem ou não seguro de automóvel e possuem ou não iteresse no seguro oferecido. \n",
    "> Entre as pessoas que não possuem seguro, o interesse foi de 29,11% contra 0.09% das que já possuem. Aqui fica claro que esta variável é importante e relevante, pois claramente os clientes que não possuem seguro tem maior propensão a querer seguro."
   ]
  },
  {
   "cell_type": "markdown",
   "id": "27f5a452",
   "metadata": {
    "ExecuteTime": {
     "end_time": "2022-02-04T15:05:09.092341Z",
     "start_time": "2022-02-04T15:05:09.086328Z"
    },
    "heading_collapsed": true
   },
   "source": [
    "### Variable \"vehicle_age\"\n",
    "Parte relevânte para o modelo\n"
   ]
  },
  {
   "cell_type": "code",
   "execution_count": 117,
   "id": "05293fcb",
   "metadata": {
    "ExecuteTime": {
     "end_time": "2022-02-04T20:25:29.502125Z",
     "start_time": "2022-02-04T20:25:29.426630Z"
    },
    "hidden": true
   },
   "outputs": [
    {
     "data": {
      "text/html": [
       "<div>\n",
       "<style scoped>\n",
       "    .dataframe tbody tr th:only-of-type {\n",
       "        vertical-align: middle;\n",
       "    }\n",
       "\n",
       "    .dataframe tbody tr th {\n",
       "        vertical-align: top;\n",
       "    }\n",
       "\n",
       "    .dataframe thead th {\n",
       "        text-align: right;\n",
       "    }\n",
       "</style>\n",
       "<table border=\"1\" class=\"dataframe\">\n",
       "  <thead>\n",
       "    <tr style=\"text-align: right;\">\n",
       "      <th></th>\n",
       "      <th>vehicle_age</th>\n",
       "      <th>response</th>\n",
       "      <th>0</th>\n",
       "    </tr>\n",
       "  </thead>\n",
       "  <tbody>\n",
       "    <tr>\n",
       "      <th>1</th>\n",
       "      <td>below_1_year</td>\n",
       "      <td>0</td>\n",
       "      <td>0.413488</td>\n",
       "    </tr>\n",
       "    <tr>\n",
       "      <th>4</th>\n",
       "      <td>below_1_year</td>\n",
       "      <td>1</td>\n",
       "      <td>0.018897</td>\n",
       "    </tr>\n",
       "    <tr>\n",
       "      <th>0</th>\n",
       "      <td>between_1_2_year</td>\n",
       "      <td>0</td>\n",
       "      <td>0.434285</td>\n",
       "    </tr>\n",
       "    <tr>\n",
       "      <th>2</th>\n",
       "      <td>between_1_2_year</td>\n",
       "      <td>1</td>\n",
       "      <td>0.091328</td>\n",
       "    </tr>\n",
       "    <tr>\n",
       "      <th>3</th>\n",
       "      <td>over_2_years</td>\n",
       "      <td>0</td>\n",
       "      <td>0.029663</td>\n",
       "    </tr>\n",
       "    <tr>\n",
       "      <th>5</th>\n",
       "      <td>over_2_years</td>\n",
       "      <td>1</td>\n",
       "      <td>0.012338</td>\n",
       "    </tr>\n",
       "  </tbody>\n",
       "</table>\n",
       "</div>"
      ],
      "text/plain": [
       "        vehicle_age  response         0\n",
       "1      below_1_year         0  0.413488\n",
       "4      below_1_year         1  0.018897\n",
       "0  between_1_2_year         0  0.434285\n",
       "2  between_1_2_year         1  0.091328\n",
       "3      over_2_years         0  0.029663\n",
       "5      over_2_years         1  0.012338"
      ]
     },
     "execution_count": 117,
     "metadata": {},
     "output_type": "execute_result"
    }
   ],
   "source": [
    "df4[['vehicle_age', 'response']].value_counts( normalize = True ).reset_index().sort_values('vehicle_age')"
   ]
  },
  {
   "cell_type": "markdown",
   "id": "1a485876",
   "metadata": {
    "hidden": true
   },
   "source": [
    "> Notamos que com pessoas que possuem carros com mais de 2 anos, as respostas entre querer ou não seguro ficaram pareceidas 29% contra 12%, estes dados podem atrapalhar o modelo\n",
    "> Já nos casos de carros com menos de 1 ano e entre 1 e 2 houve maior discrepância nas resposta, oq faz ter uma discriminção razoável para o modelo. "
   ]
  },
  {
   "cell_type": "markdown",
   "id": "1fd0413d",
   "metadata": {
    "heading_collapsed": true
   },
   "source": [
    "### Variable \"policy_sales_channel\"\n",
    "Não conclusiva"
   ]
  },
  {
   "cell_type": "code",
   "execution_count": 135,
   "id": "a2258c74",
   "metadata": {
    "ExecuteTime": {
     "end_time": "2022-02-04T20:39:59.295993Z",
     "start_time": "2022-02-04T20:39:58.272767Z"
    },
    "hidden": true
   },
   "outputs": [
    {
     "data": {
      "image/png": "[encoded data removed]",
      "text/plain": [
       "<Figure size 1728x864 with 1 Axes>"
      ]
     },
     "metadata": {
      "needs_background": "light"
     },
     "output_type": "display_data"
    }
   ],
   "source": [
    "aux = df4[['policy_sales_channel', 'response']].groupby( 'policy_sales_channel' ).sum().reset_index()\n",
    "sns.barplot( x='response', y='policy_sales_channel', data=aux ).figure.set_size_inches(24, 12)"
   ]
  },
  {
   "cell_type": "markdown",
   "id": "ee5415a2",
   "metadata": {
    "ExecuteTime": {
     "end_time": "2022-02-04T20:42:58.977971Z",
     "start_time": "2022-02-04T20:42:58.973997Z"
    },
    "heading_collapsed": true
   },
   "source": [
    "### Variable \"vintage\"\n",
    "Sem Relevância"
   ]
  },
  {
   "cell_type": "code",
   "execution_count": 137,
   "id": "59e782c2",
   "metadata": {
    "ExecuteTime": {
     "end_time": "2022-02-04T20:44:40.227855Z",
     "start_time": "2022-02-04T20:44:40.032892Z"
    },
    "hidden": true,
    "hide_input": true
   },
   "outputs": [
    {
     "data": {
      "image/png": "[encoded data removed]",
      "text/plain": [
       "<Figure size 864x720 with 1 Axes>"
      ]
     },
     "metadata": {
      "needs_background": "light"
     },
     "output_type": "display_data"
    }
   ],
   "source": [
    "sns.boxplot( x= 'response' , y= 'vintage', data= df4 ).figure.set_size_inches(12,10);"
   ]
  },
  {
   "cell_type": "code",
   "execution_count": 150,
   "id": "a8c08132",
   "metadata": {
    "ExecuteTime": {
     "end_time": "2022-02-04T20:51:30.978251Z",
     "start_time": "2022-02-04T20:51:30.458292Z"
    },
    "hidden": true,
    "hide_input": true
   },
   "outputs": [
    {
     "data": {
      "image/png": "[encoded data removed]",
      "text/plain": [
       "<Figure size 1080x432 with 2 Axes>"
      ]
     },
     "metadata": {
      "needs_background": "light"
     },
     "output_type": "display_data"
    }
   ],
   "source": [
    "\n",
    "plt.subplot( 1, 2, 1 )\n",
    "aux00 = df4.loc[df4['response'] == 0, 'vintage']\n",
    "sns.histplot( aux00 ).figure.set_size_inches(12,6);\n",
    "\n",
    "plt.subplot( 1, 2, 2 ).figure.set_size_inches(15,6)\n",
    "aux00 = df4.loc[df4['response'] == 1, 'vintage']\n",
    "sns.histplot( aux00 );"
   ]
  },
  {
   "cell_type": "markdown",
   "id": "b1bdc150",
   "metadata": {
    "hidden": true
   },
   "source": [
    "> Esta variável não possuí relevância, pois a maneira q foi usada o tempo de  que os clientes possuem, é renoada anualmente, o que faz com que seja praticamente linear, quanto a resposta."
   ]
  },
  {
   "cell_type": "code",
   "execution_count": null,
   "id": "c177aa98",
   "metadata": {
    "hidden": true
   },
   "outputs": [],
   "source": [
    "#vehicle_age"
   ]
  },
  {
   "cell_type": "code",
   "execution_count": null,
   "id": "1bc71041",
   "metadata": {
    "hidden": true
   },
   "outputs": [],
   "source": [
    "#vehicle_damage"
   ]
  },
  {
   "cell_type": "code",
   "execution_count": null,
   "id": "bff75555",
   "metadata": {
    "hidden": true
   },
   "outputs": [],
   "source": [
    "#policy_sales_channel"
   ]
  },
  {
   "cell_type": "code",
   "execution_count": null,
   "id": "9572f3d4",
   "metadata": {
    "hidden": true
   },
   "outputs": [],
   "source": [
    "#vintage\n"
   ]
  },
  {
   "cell_type": "code",
   "execution_count": null,
   "id": "52423321",
   "metadata": {
    "hidden": true
   },
   "outputs": [],
   "source": [
    "#response"
   ]
  },
  {
   "cell_type": "markdown",
   "id": "94ba2b7e",
   "metadata": {},
   "source": [
    "# 5.0. Data Preparation"
   ]
  },
  {
   "cell_type": "code",
   "execution_count": 9,
   "id": "d2177baf",
   "metadata": {
    "ExecuteTime": {
     "end_time": "2022-02-07T13:49:21.012151Z",
     "start_time": "2022-02-07T13:49:20.993431Z"
    }
   },
   "outputs": [],
   "source": [
    "df5 = df4.copy()"
   ]
  },
  {
   "cell_type": "code",
   "execution_count": 10,
   "id": "5049e42c",
   "metadata": {
    "ExecuteTime": {
     "end_time": "2022-02-07T13:49:26.506652Z",
     "start_time": "2022-02-07T13:49:26.353631Z"
    }
   },
   "outputs": [],
   "source": [
    "X = df4.drop('response', axis = 1 )\n",
    "y = df4['response'].copy()\n",
    "\n",
    "x_train, x_val, y_train, y_val = ms.train_test_split( X, y, test_size = 0.20 )\n",
    "\n",
    "df5 = pd.concat( [x_train, y_train], axis = 1 )"
   ]
  },
  {
   "cell_type": "markdown",
   "id": "e7010692",
   "metadata": {
    "heading_collapsed": true
   },
   "source": [
    "## 5.1. Standardization"
   ]
  },
  {
   "cell_type": "code",
   "execution_count": 11,
   "id": "e777b5a4",
   "metadata": {
    "ExecuteTime": {
     "end_time": "2022-02-07T13:49:31.855324Z",
     "start_time": "2022-02-07T13:49:31.822137Z"
    },
    "hidden": true
   },
   "outputs": [],
   "source": [
    "ss = pp.StandardScaler()\n",
    "\n",
    "# annual_premium \n",
    "df5['annual_premium'] = ss.fit_transform( df5[['annual_premium']].values )\n",
    "\n"
   ]
  },
  {
   "cell_type": "markdown",
   "id": "dca5f692",
   "metadata": {
    "hidden": true
   },
   "source": [
    "> \"annual_premium -  Assume características próximas a normal, porém tem muito outliers\n",
    "Seria necessário fazer um tratamento destes outliers, mas pode desconhecimento de detalhes desta variável \n",
    "e influência no negócio assumiremos o risco de deixa-la inauterada no primeiro ciclo do Crisp.\n",
    "\n",
    ">StandardScalerque implementa a TransformerAPI para calcular a média e o desvio padrão em um conjunto de treinamento, de modo a poder reaplicar posteriormente a mesma transformação no conjunto de teste. "
   ]
  },
  {
   "cell_type": "markdown",
   "id": "4dc7afee",
   "metadata": {
    "ExecuteTime": {
     "end_time": "2022-02-05T19:12:25.939878Z",
     "start_time": "2022-02-05T19:12:25.931974Z"
    },
    "heading_collapsed": true
   },
   "source": [
    "## 5.2. Rescaling"
   ]
  },
  {
   "cell_type": "code",
   "execution_count": 12,
   "id": "1885f96f",
   "metadata": {
    "ExecuteTime": {
     "end_time": "2022-02-07T13:49:35.230842Z",
     "start_time": "2022-02-07T13:49:35.187428Z"
    },
    "hidden": true
   },
   "outputs": [],
   "source": [
    "mms_age = pp.MinMaxScaler()\n",
    "mms_vintage = pp.MinMaxScaler()\n",
    "\n",
    "#Age - Não possui distribuição normal, fazer rescaling para normalização.\n",
    "df5['age'] = mms_age.fit_transform( df5[['age']].values )\n",
    "\n",
    "# vintage\n",
    "df5['vintage'] = mms_vintage.fit_transform( df5[['vintage']].values )"
   ]
  },
  {
   "cell_type": "markdown",
   "id": "3735dfcc",
   "metadata": {
    "hidden": true
   },
   "source": [
    "> MinMaxScaler do Sklearn é uma técnica de pré-processamento que coloca os dados na mesma escala. A intenção aqui é colocar os dados na mesma escala para melhorar a efinciência do nosso modelo. "
   ]
  },
  {
   "cell_type": "markdown",
   "id": "e018d0d1",
   "metadata": {
    "heading_collapsed": true
   },
   "source": [
    "## 5.3. Encoder"
   ]
  },
  {
   "cell_type": "code",
   "execution_count": 13,
   "id": "c59a83ce",
   "metadata": {
    "ExecuteTime": {
     "end_time": "2022-02-07T13:49:38.166271Z",
     "start_time": "2022-02-07T13:49:37.939000Z"
    },
    "hidden": true
   },
   "outputs": [],
   "source": [
    "#gender - One Hot Encoding / Target Encoding\n",
    "target_ecode_gender = df5.groupby( 'gender' )['response'].mean()\n",
    "df5.loc[:, 'gender' ] = df5['gender'].map( target_ecode_gender )\n",
    "\n",
    "\n",
    "#region_code - Frequency Encoding / Target Encoding / Weighted Target Encoding\n",
    "target_encode_region_code = df5.groupby( 'region_code' )[ 'response' ].mean( )\n",
    "df5.loc[:, 'region_code' ] = df5['region_code' ].map( target_encode_region_code )\n",
    "\n",
    "#vehicle_age - one Hot Encoding / Label Encoding\n",
    "df5 = pd.get_dummies( df5, prefix = 'vehicle_age', columns = ['vehicle_age'] )\n",
    "\n",
    "#policy_sales_channel - Target Encoding / Frequency Encoding\n",
    "fe_policy_sales_channel = df5.groupby( 'policy_sales_channel' ).size() / len( df5 )\n",
    "df5.loc[:, 'policy_sales_channel' ] = df5['policy_sales_channel' ].map( fe_policy_sales_channel )\n",
    "\n",
    "\n"
   ]
  },
  {
   "cell_type": "markdown",
   "id": "b8880593",
   "metadata": {
    "hidden": true
   },
   "source": [
    "> Acima de 7 níveis na variável categórica, o uso do One Hot Encoding tornasse inviável, pois cria muitas dimensões, o Target Encoding é mais aconselhado para um primeiro ciclo nestes casos. \n",
    "\n",
    "> \"region_code\" -> Taget Econding - Dada uma variável categórica codificamos cada categoria possível com a média do alvo Y das instâncias com essa categoria. Agrupa-se as instâncias pela sua categoria/realização da variável categórica e tira-se a média de todos os targets Y dessas instâncias. Substitui-se cada categoria da variável pela média calculada para essa categoria.\n",
    "\n",
    "> \"vehicle_age\" -> one Hot Encoding - partir de uma variável categórica cria-se um vetor de features binárias onde cada feature representa o pertencimento ou não da instância à uma categoria. \n",
    "\n",
    "> \"policy_sales_channel\" -> Frequency Encoding - Conta a frequencia do que cada valor represente em relação ao total, dando peso maiores para valores que aparecem mais. "
   ]
  },
  {
   "cell_type": "markdown",
   "id": "59d89668",
   "metadata": {
    "ExecuteTime": {
     "end_time": "2022-02-07T12:27:35.094144Z",
     "start_time": "2022-02-07T12:27:35.084401Z"
    },
    "heading_collapsed": true
   },
   "source": [
    "## 5.4 Validation Preparation"
   ]
  },
  {
   "cell_type": "code",
   "execution_count": 14,
   "id": "9a83cc5b",
   "metadata": {
    "ExecuteTime": {
     "end_time": "2022-02-07T13:49:42.718424Z",
     "start_time": "2022-02-07T13:49:42.547333Z"
    },
    "hidden": true
   },
   "outputs": [],
   "source": [
    "# gender\n",
    "x_val.loc[:, 'gender'] = x_val.loc[:, 'gender'].map( target_ecode_gender )\n",
    "\n",
    "#age \n",
    "x_val.loc[:, 'age']  = mms_age.transform( x_val[['age']].values )\n",
    "\n",
    "#region_code \n",
    "x_val.loc[:, 'region_code' ] = x_val.loc[:, 'region_code' ].map( target_encode_region_code )\n",
    "\n",
    "#vehicle_age \n",
    "x_val = pd.get_dummies( x_val, prefix = 'vehicle_age', columns = ['vehicle_age'] )\n",
    "\n",
    "# annual_premium \n",
    "x_val.loc[:, 'annual_premium'] = ss.transform( x_val[['annual_premium']].values )\n",
    "\n",
    "#policy_sales_channel \n",
    "x_val.loc[:, 'policy_sales_channel' ] = x_val['policy_sales_channel' ].map( fe_policy_sales_channel )\n",
    "\n",
    "# vintage\n",
    "x_val.loc[:, 'vintage'] = mms_vintage.fit_transform( x_val[['vintage']].values )\n",
    "\n",
    "#fillna\n",
    "x_val = x_val.fillna( 0 )\n"
   ]
  },
  {
   "cell_type": "code",
   "execution_count": null,
   "id": "55db812e",
   "metadata": {
    "hidden": true
   },
   "outputs": [],
   "source": []
  },
  {
   "cell_type": "code",
   "execution_count": null,
   "id": "fd5ed1fb",
   "metadata": {
    "hidden": true
   },
   "outputs": [],
   "source": []
  },
  {
   "cell_type": "markdown",
   "id": "a85ec06c",
   "metadata": {},
   "source": [
    "# 6.0. Feature Selection"
   ]
  },
  {
   "cell_type": "code",
   "execution_count": 15,
   "id": "de3845ae",
   "metadata": {
    "ExecuteTime": {
     "end_time": "2022-02-07T13:49:45.129531Z",
     "start_time": "2022-02-07T13:49:45.117194Z"
    }
   },
   "outputs": [],
   "source": [
    "df6 = df5.copy()"
   ]
  },
  {
   "cell_type": "markdown",
   "id": "44a5d58b",
   "metadata": {},
   "source": [
    "## 6.2 Boruta"
   ]
  },
  {
   "cell_type": "markdown",
   "id": "60630fc3",
   "metadata": {
    "ExecuteTime": {
     "end_time": "2022-02-07T12:47:03.316418Z",
     "start_time": "2022-02-07T12:47:03.312366Z"
    }
   },
   "source": [
    "## 6.2 Features Importance"
   ]
  },
  {
   "cell_type": "code",
   "execution_count": 16,
   "id": "910f185a",
   "metadata": {
    "ExecuteTime": {
     "end_time": "2022-02-07T13:50:22.459429Z",
     "start_time": "2022-02-07T13:49:49.076416Z"
    }
   },
   "outputs": [
    {
     "data": {
      "text/plain": [
       "ExtraTreesClassifier(n_estimators=250, n_jobs=-1, random_state=0)"
      ]
     },
     "execution_count": 16,
     "metadata": {},
     "output_type": "execute_result"
    }
   ],
   "source": [
    "#model definition\n",
    "forest = en.ExtraTreesClassifier( n_estimators = 250, random_state = 0, n_jobs = -1 )\n",
    "\n",
    "#data preparation\n",
    "x_train_n = df6.drop( ['id', 'response'], axis = 1)\n",
    "y_train_n = y_train.values\n",
    "forest.fit( x_train_n, y_train_n )"
   ]
  },
  {
   "cell_type": "markdown",
   "id": "fa23c453",
   "metadata": {},
   "source": [
    "> Usamos o ExtratreesClassifier, para rodar um modelo com todos nossas features, separadas em treino e após usaremos o metodo \"feature_importances_\" para termos a classificação das features em termos de importância para nosso modelo"
   ]
  },
  {
   "cell_type": "code",
   "execution_count": 17,
   "id": "6cecec6c",
   "metadata": {
    "ExecuteTime": {
     "end_time": "2022-02-07T13:54:09.773983Z",
     "start_time": "2022-02-07T13:54:08.665344Z"
    }
   },
   "outputs": [
    {
     "name": "stdout",
     "output_type": "stream",
     "text": [
      "Feature ranking:\n",
      "                        feature  importance\n",
      "0                       vintage    0.280370\n",
      "0                annual_premium    0.251369\n",
      "0                           age    0.168601\n",
      "0                   region_code    0.105492\n",
      "0            previously_insured    0.097307\n",
      "0          policy_sales_channel    0.064391\n",
      "0      vehicle_age_below_1_year    0.016109\n",
      "0  vehicle_age_between_1_2_year    0.007740\n",
      "0                        gender    0.004491\n",
      "0      vehicle_age_over_2_years    0.003674\n",
      "0               driving_license    0.000455\n",
      "0                vehicle_damage    0.000000\n"
     ]
    },
    {
     "data": {
      "image/png": "[encoded data removed]",
      "text/plain": [
       "<Figure size 432x288 with 1 Axes>"
      ]
     },
     "metadata": {
      "needs_background": "light"
     },
     "output_type": "display_data"
    }
   ],
   "source": [
    "importances = forest.feature_importances_\n",
    "std = np.std([tree.feature_importances_ for tree in forest.estimators_], axis=0)\n",
    "indices = np.argsort(importances)[::-1]#importanica das arvores ordenada pelo maior valor.\n",
    "\n",
    "# Print the feature ranking\n",
    "print(\"Feature ranking:\")\n",
    "df = pd.DataFrame()\n",
    "for i, j in zip( x_train_n, forest.feature_importances_ ):\n",
    "    aux = pd.DataFrame( {'feature': i, 'importance': j}, index=[0] )\n",
    "    df = pd.concat( [df, aux], axis=0 )\n",
    "    \n",
    "print( df.sort_values( 'importance', ascending=False ) )\n",
    "\n",
    "# Plot the impurity-based feature importances of the forest\n",
    "plt.figure()\n",
    "plt.title(\"Feature importances\")\n",
    "plt.bar(range(x_train_n.shape[1]), importances[indices], color=\"r\", yerr=std[indices], align=\"center\")\n",
    "plt.xticks(range(x_train_n.shape[1]), indices)\n",
    "plt.xlim([-1, x_train_n.shape[1]])\n",
    "plt.show()"
   ]
  },
  {
   "cell_type": "markdown",
   "id": "97de1bb5",
   "metadata": {},
   "source": [
    "> Vamos usar as 7 primeiras features do ranking, pois a partir da setima, a importancia ja cai para menos de 2%. Para um primeiro ciclo de crsping"
   ]
  },
  {
   "cell_type": "code",
   "execution_count": 20,
   "id": "7491a648",
   "metadata": {
    "ExecuteTime": {
     "end_time": "2022-02-07T14:01:34.444251Z",
     "start_time": "2022-02-07T14:01:34.422471Z"
    }
   },
   "outputs": [],
   "source": [
    "cols_selected = [ 'vintage', 'annual_premium', 'age', 'region_code', 'previously_insured','policy_sales_channel' ]\n",
    "\n",
    "x_train = df6[ cols_selected ]\n",
    "x_val = x_val[ cols_selected ]"
   ]
  },
  {
   "cell_type": "markdown",
   "id": "b0d6a52d",
   "metadata": {},
   "source": [
    "# 7.0. Machine Learning"
   ]
  },
  {
   "cell_type": "markdown",
   "id": "3f43cae3",
   "metadata": {},
   "source": [
    "## 7.1. KNN(K-Nearest Neighbors)"
   ]
  },
  {
   "cell_type": "markdown",
   "id": "db34c096",
   "metadata": {},
   "source": [
    "> KNN: Algoritmo de aprendizadgem supervisionada, classificador onde o aprendizado é baseado “no quão similar” é um dado (um vetor) do outro. O treinamento é formado por vetores de n dimensões."
   ]
  },
  {
   "cell_type": "code",
   "execution_count": 34,
   "id": "27e9a27b",
   "metadata": {
    "ExecuteTime": {
     "end_time": "2022-02-07T14:33:23.514908Z",
     "start_time": "2022-02-07T14:33:18.734989Z"
    }
   },
   "outputs": [
    {
     "data": {
      "image/png": "[encoded data removed]",
      "text/plain": [
       "<Figure size 864x576 with 1 Axes>"
      ]
     },
     "metadata": {
      "needs_background": "light"
     },
     "output_type": "display_data"
    }
   ],
   "source": [
    "# model definition\n",
    "knn_model = ng.KNeighborsClassifier( n_neighbors = 10 )\n",
    "\n",
    "# model training\n",
    "knn_model.fit( x_train, y_train )\n",
    "\n",
    "# model prediction - Poder de generalização do modelo. \n",
    "yhat_knn = knn_model.predict_proba( x_val )\n",
    "\n",
    "# Accumulative Gain - metrica de ordenação de lista, plot\n",
    "skplt.metrics.plot_cumulative_gain( y_val, yhat_knn).figure.set_size_inches(12, 8);"
   ]
  },
  {
   "cell_type": "markdown",
   "id": "32182083",
   "metadata": {},
   "source": [
    "> Significado deste plot, (Linha laranja) é a % de pessoas contactadas da lista 'percentage of sample' são necessárias para obter a % de pessoas interessadas 'gain.  Exemplificando, se contatarmos 20% de nossa amostra, alcancaremos pouco mais de 40% das pessoas interessadas. Linha azul é base desordenada e laranja base ordenada."
   ]
  },
  {
   "cell_type": "markdown",
   "id": "f39ce274",
   "metadata": {},
   "source": [
    "## 7.2 Logistic Regression"
   ]
  },
  {
   "cell_type": "code",
   "execution_count": 38,
   "id": "894d4f4c",
   "metadata": {
    "ExecuteTime": {
     "end_time": "2022-02-07T14:36:56.270792Z",
     "start_time": "2022-02-07T14:36:55.342057Z"
    }
   },
   "outputs": [
    {
     "data": {
      "image/png": "[encoded data removed]",
      "text/plain": [
       "<Figure size 864x576 with 1 Axes>"
      ]
     },
     "metadata": {
      "needs_background": "light"
     },
     "output_type": "display_data"
    }
   ],
   "source": [
    "# model definition\n",
    "lr_model = lm.LogisticRegression( random_state = 42 )\n",
    "\n",
    "# model training\n",
    "lr_model.fit( x_train, y_train )\n",
    "\n",
    "# model prediction - Poder de generalização do modelo. \n",
    "yhat_lr = lr_model.predict_proba( x_val )\n",
    "\n",
    "# Accumulative Gain - metrica de ordenação de lista, plot\n",
    "skplt.metrics.plot_cumulative_gain( y_val, yhat_lr).figure.set_size_inches(12, 8);"
   ]
  },
  {
   "cell_type": "markdown",
   "id": "63aa0234",
   "metadata": {},
   "source": [
    "> Os resultados é parecido, porém consegue alcançar 100% da lista com menos pessoas. "
   ]
  },
  {
   "cell_type": "code",
   "execution_count": null,
   "id": "715ca729",
   "metadata": {},
   "outputs": [],
   "source": []
  },
  {
   "cell_type": "code",
   "execution_count": null,
   "id": "0e05c014",
   "metadata": {},
   "outputs": [],
   "source": []
  },
  {
   "cell_type": "code",
   "execution_count": null,
   "id": "cc31c288",
   "metadata": {},
   "outputs": [],
   "source": []
  },
  {
   "cell_type": "code",
   "execution_count": null,
   "id": "ad755426",
   "metadata": {},
   "outputs": [],
   "source": []
  },
  {
   "cell_type": "code",
   "execution_count": null,
   "id": "d40f4404",
   "metadata": {},
   "outputs": [],
   "source": [
    "#sdfg\n",
    "\n",
    "#ffff"
   ]
  },
  {
   "cell_type": "code",
   "execution_count": null,
   "id": "fa7d4148",
   "metadata": {},
   "outputs": [],
   "source": []
  },
  {
   "cell_type": "code",
   "execution_count": null,
   "id": "69fc9e95",
   "metadata": {},
   "outputs": [],
   "source": []
  }
 ],
 "metadata": {
  "kernelspec": {
   "display_name": "Python 3 (ipykernel)",
   "language": "python",
   "name": "python3"
  },
  "language_info": {
   "codemirror_mode": {
    "name": "ipython",
    "version": 3
   },
   "file_extension": ".py",
   "mimetype": "text/x-python",
   "name": "python",
   "nbconvert_exporter": "python",
   "pygments_lexer": "ipython3",
   "version": "3.8.12"
  }
 },
 "nbformat": 4,
 "nbformat_minor": 5
}
