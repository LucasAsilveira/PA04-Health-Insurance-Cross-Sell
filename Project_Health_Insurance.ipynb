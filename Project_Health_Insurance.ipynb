{
 "cells": [
  {
   "cell_type": "markdown",
   "id": "05aacdd0",
   "metadata": {
    "heading_collapsed": true
   },
   "source": [
    "# 0.0. IMPORTS "
   ]
  },
  {
   "cell_type": "markdown",
   "id": "3a26d20b",
   "metadata": {
    "heading_collapsed": true,
    "hidden": true
   },
   "source": [
    "## 0.1. Libries"
   ]
  },
  {
   "cell_type": "code",
   "execution_count": 360,
   "id": "ea5d33a8",
   "metadata": {
    "ExecuteTime": {
     "end_time": "2022-02-18T18:25:21.166319Z",
     "start_time": "2022-02-18T18:25:21.158911Z"
    },
    "hidden": true
   },
   "outputs": [],
   "source": [
    "import psycopg2          as pg\n",
    "import pandas            as pd\n",
    "import pandas.io.sql     as psql\n",
    "import numpy             as np\n",
    "import seaborn           as sns\n",
    "import matplotlib.pyplot as plt\n",
    "import scikitplot        as skplt\n",
    "import random\n",
    "import pickle\n",
    "import warnings\n",
    "warnings.filterwarnings('ignore')\n",
    "import requests\n",
    "import json \n",
    "\n",
    "from xgboost import XGBClassifier\n",
    "from sklearn import preprocessing   as pp\n",
    "from sklearn import model_selection as ms\n",
    "from sklearn import ensemble        as en\n",
    "from sklearn import neighbors       as ng\n",
    "from sklearn import linear_model    as lm\n"
   ]
  },
  {
   "cell_type": "markdown",
   "id": "3ff3b142",
   "metadata": {
    "heading_collapsed": true,
    "hidden": true
   },
   "source": [
    "## 0.2. Helper Functions"
   ]
  },
  {
   "cell_type": "code",
   "execution_count": 361,
   "id": "177a01b9",
   "metadata": {
    "ExecuteTime": {
     "end_time": "2022-02-18T18:25:21.181128Z",
     "start_time": "2022-02-18T18:25:21.173897Z"
    },
    "hidden": true
   },
   "outputs": [],
   "source": [
    "def precision_at_k( data, k=10 ):\n",
    "    data = data.reset_index( drop=True )\n",
    "    data['ranking'] = data.index + 1\n",
    "    \n",
    "    data['precision_at_k'] = data['response'].cumsum() / data['ranking']\n",
    "    \n",
    "    return ( data.loc[ k, 'precision_at_k'], data )\n",
    "\n",
    "def recall_at_k( data, k=15 ):\n",
    "    data = data.reset_index( drop=True )\n",
    "    data['ranking'] = data.index + 1\n",
    "    \n",
    "    data['recall_at_k'] = data['response'].cumsum() / data['response'].sum()\n",
    "    \n",
    "    return ( data.loc[ k, 'recall_at_k'], data )"
   ]
  },
  {
   "cell_type": "markdown",
   "id": "c8979c83",
   "metadata": {
    "hidden": true
   },
   "source": [
    "## 0.3.  Loading Data"
   ]
  },
  {
   "cell_type": "markdown",
   "id": "1d109dca",
   "metadata": {
    "heading_collapsed": true,
    "hidden": true
   },
   "source": [
    "### 0.3.1 Data Import from Data Base"
   ]
  },
  {
   "cell_type": "code",
   "execution_count": 362,
   "id": "f29a707d",
   "metadata": {
    "ExecuteTime": {
     "end_time": "2022-02-18T18:25:21.191728Z",
     "start_time": "2022-02-18T18:25:21.187282Z"
    },
    "hidden": true
   },
   "outputs": [],
   "source": [
    "# Credentials BD\n",
    "#host = 'comunidade-ds-postgres.c50pcakiuwi3.us-east-1.rds.amazonaws.com'\n",
    "#port = 5432\n",
    "#database = 'comunidadedsdb'\n",
    "#user = 'member'\n",
    "#pwd = 'cdspa'\n",
    "\n",
    "##Create conection BD\n",
    "#conn = pg.connect( user=user,\n",
    "#            password=pwd,\n",
    "#            host=host,\n",
    "#            port=port,\n",
    "#            database=database )\n",
    "\n",
    "##Join tables\n",
    "#query_tables_users = \"\"\"\n",
    "#    SELECT *\n",
    "#    FROM pa004.users u LEFT JOIN pa004.vehicle   v ON ( u.id = v.id )\n",
    "#                       LEFT JOIN pa004.insurance i ON ( u.id = i.id )  \n",
    "#    WHERE u.age > 44\n",
    "#    \n",
    "#\"\"\"\n",
    "#\n",
    "#df_raw = pd.read_sql( query_tables_users, conn )\n",
    "#\n",
    "##Drop duplicates id's \n",
    "#\n",
    "#df_raw = df_raw.drop( df_raw.columns[[5,9]], axis = 1)\n",
    "#\n",
    "##csv generate\n",
    "#df_raw.to_csv('data/BD_emerge.csv', encoding='utf-8', index=False)"
   ]
  },
  {
   "cell_type": "markdown",
   "id": "e02a3a50",
   "metadata": {
    "ExecuteTime": {
     "end_time": "2022-02-02T13:49:31.771256Z",
     "start_time": "2022-02-02T13:49:31.295176Z"
    },
    "hidden": true
   },
   "source": [
    "### 0.3.2 Loading Data"
   ]
  },
  {
   "cell_type": "code",
   "execution_count": 363,
   "id": "d1b567d5",
   "metadata": {
    "ExecuteTime": {
     "end_time": "2022-02-18T18:25:21.707521Z",
     "start_time": "2022-02-18T18:25:21.198571Z"
    },
    "hidden": true
   },
   "outputs": [],
   "source": [
    "df_bd = pd.read_csv('data/BD_emerge.csv')\n",
    "df_raw = pd.read_csv('data/train.csv')\n",
    "df_test = pd.read_csv('data/test.csv')"
   ]
  },
  {
   "cell_type": "markdown",
   "id": "7791b420",
   "metadata": {},
   "source": [
    "# 1. DATA DESCRIPTION"
   ]
  },
  {
   "cell_type": "code",
   "execution_count": 364,
   "id": "afcd4e44",
   "metadata": {
    "ExecuteTime": {
     "end_time": "2022-02-18T18:25:21.724206Z",
     "start_time": "2022-02-18T18:25:21.712265Z"
    }
   },
   "outputs": [],
   "source": [
    "df1 = df_raw.copy()"
   ]
  },
  {
   "cell_type": "markdown",
   "id": "173ec0bb",
   "metadata": {
    "heading_collapsed": true
   },
   "source": [
    "## Description Columns:"
   ]
  },
  {
   "cell_type": "markdown",
   "id": "c6d083f6",
   "metadata": {
    "hidden": true
   },
   "source": [
    "- Id: identificador único do cliente.\n",
    "\n",
    "- Gender: gênero do cliente.\n",
    "\n",
    "- Age: idade do cliente.\n",
    "\n",
    "- Driving License: 0, o cliente não tem permissão para dirigir e 1, o cliente tem para dirigir ( CNH – Carteira\n",
    "Nacional de Habilitação )\n",
    "\n",
    "- Region Code: código da região do cliente.\n",
    "\n",
    "- Previously Insured: 0, o cliente não tem seguro de automóvel e 1, o cliente já tem seguro de automóvel.\n",
    "\n",
    "- vehicle Age: idade do veículo.\n",
    "\n",
    "- Vehicle Damage: 0, cliente nunca teve seu veículo danificado no passado e 1, cliente já teve seu veículo\n",
    "danificado no passado.\n",
    "\n",
    "- Anual Premium: quantidade que o cliente pagou à empresa pelo seguro de saúde anual.\n",
    "\n",
    "- Policy sales channel: código anônimo para o canal de contato com o cliente.\n",
    "\n",
    "- Vintage: número de dias que o cliente se associou à empresa através da compra do seguro de saúde.\n",
    "\n",
    "- Response: 0, o cliente não tem interesse e 1, o cliente tem interesse."
   ]
  },
  {
   "cell_type": "markdown",
   "id": "45a84adc",
   "metadata": {
    "heading_collapsed": true
   },
   "source": [
    "## 1.1. Rename Columns "
   ]
  },
  {
   "cell_type": "code",
   "execution_count": 365,
   "id": "057feef6",
   "metadata": {
    "ExecuteTime": {
     "end_time": "2022-02-18T18:25:21.732204Z",
     "start_time": "2022-02-18T18:25:21.728327Z"
    },
    "hidden": true
   },
   "outputs": [],
   "source": [
    " cols_new = ['id', 'gender', 'age', 'driving_license', 'region_code', 'previously_insured', 'vehicle_age', \n",
    "            'vehicle_damage', 'annual_premium', 'policy_sales_channel', 'vintage', 'response']\n",
    "\n",
    "# rename \n",
    "df1.columns = cols_new"
   ]
  },
  {
   "cell_type": "markdown",
   "id": "9d208a8d",
   "metadata": {
    "heading_collapsed": true
   },
   "source": [
    "## 1.2. Data Dimensions "
   ]
  },
  {
   "cell_type": "code",
   "execution_count": 366,
   "id": "f0b09bcf",
   "metadata": {
    "ExecuteTime": {
     "end_time": "2022-02-18T18:25:21.743704Z",
     "start_time": "2022-02-18T18:25:21.736545Z"
    },
    "hidden": true,
    "hide_input": true
   },
   "outputs": [
    {
     "name": "stdout",
     "output_type": "stream",
     "text": [
      "Number of Rows: 381109\n",
      "Number of cols: 12\n"
     ]
    }
   ],
   "source": [
    "print( 'Number of Rows: {}'.format( df1.shape[0] ) )\n",
    "print( 'Number of cols: {}'.format( df1.shape[1] ) )\n"
   ]
  },
  {
   "cell_type": "markdown",
   "id": "ae97956c",
   "metadata": {
    "heading_collapsed": true
   },
   "source": [
    "## 1.3. Data Types"
   ]
  },
  {
   "cell_type": "code",
   "execution_count": 367,
   "id": "7499e232",
   "metadata": {
    "ExecuteTime": {
     "end_time": "2022-02-18T18:25:21.756310Z",
     "start_time": "2022-02-18T18:25:21.749229Z"
    },
    "hidden": true,
    "hide_input": true
   },
   "outputs": [
    {
     "data": {
      "text/plain": [
       "id                        int64\n",
       "gender                   object\n",
       "age                       int64\n",
       "driving_license           int64\n",
       "region_code             float64\n",
       "previously_insured        int64\n",
       "vehicle_age              object\n",
       "vehicle_damage           object\n",
       "annual_premium          float64\n",
       "policy_sales_channel    float64\n",
       "vintage                   int64\n",
       "response                  int64\n",
       "dtype: object"
      ]
     },
     "execution_count": 367,
     "metadata": {},
     "output_type": "execute_result"
    }
   ],
   "source": [
    "df1.dtypes"
   ]
  },
  {
   "cell_type": "markdown",
   "id": "9900e789",
   "metadata": {
    "heading_collapsed": true
   },
   "source": [
    "## 1.4. Check NA"
   ]
  },
  {
   "cell_type": "code",
   "execution_count": 368,
   "id": "94d620ee",
   "metadata": {
    "ExecuteTime": {
     "end_time": "2022-02-18T18:25:21.898777Z",
     "start_time": "2022-02-18T18:25:21.761609Z"
    },
    "hidden": true,
    "hide_input": true
   },
   "outputs": [
    {
     "data": {
      "text/plain": [
       "id                      0\n",
       "gender                  0\n",
       "age                     0\n",
       "driving_license         0\n",
       "region_code             0\n",
       "previously_insured      0\n",
       "vehicle_age             0\n",
       "vehicle_damage          0\n",
       "annual_premium          0\n",
       "policy_sales_channel    0\n",
       "vintage                 0\n",
       "response                0\n",
       "dtype: int64"
      ]
     },
     "execution_count": 368,
     "metadata": {},
     "output_type": "execute_result"
    }
   ],
   "source": [
    "df1.isna().sum()"
   ]
  },
  {
   "cell_type": "markdown",
   "id": "6858fa85",
   "metadata": {
    "heading_collapsed": true
   },
   "source": [
    "## 1.5. Desctiptive Statistical"
   ]
  },
  {
   "cell_type": "code",
   "execution_count": 369,
   "id": "fb2ca2d3",
   "metadata": {
    "ExecuteTime": {
     "end_time": "2022-02-18T18:25:21.909774Z",
     "start_time": "2022-02-18T18:25:21.904118Z"
    },
    "hidden": true
   },
   "outputs": [],
   "source": [
    "#Separate into numeric and categorical\n",
    "num_attributes = df1.select_dtypes(include =['int64', 'float64'])\n",
    "cat_attributes = df1.select_dtypes( include = ['object'])\n"
   ]
  },
  {
   "cell_type": "markdown",
   "id": "85f733ef",
   "metadata": {
    "heading_collapsed": true,
    "hidden": true
   },
   "source": [
    "### 1.5.1. Numerical Atributes"
   ]
  },
  {
   "cell_type": "code",
   "execution_count": 370,
   "id": "e79cc86c",
   "metadata": {
    "ExecuteTime": {
     "end_time": "2022-02-18T18:25:22.617238Z",
     "start_time": "2022-02-18T18:25:21.915647Z"
    },
    "hidden": true,
    "hide_input": true
   },
   "outputs": [
    {
     "data": {
      "text/html": [
       "<div>\n",
       "<style scoped>\n",
       "    .dataframe tbody tr th:only-of-type {\n",
       "        vertical-align: middle;\n",
       "    }\n",
       "\n",
       "    .dataframe tbody tr th {\n",
       "        vertical-align: top;\n",
       "    }\n",
       "\n",
       "    .dataframe thead th {\n",
       "        text-align: right;\n",
       "    }\n",
       "</style>\n",
       "<table border=\"1\" class=\"dataframe\">\n",
       "  <thead>\n",
       "    <tr style=\"text-align: right;\">\n",
       "      <th></th>\n",
       "      <th>attributes</th>\n",
       "      <th>min</th>\n",
       "      <th>max</th>\n",
       "      <th>range</th>\n",
       "      <th>mean</th>\n",
       "      <th>median</th>\n",
       "      <th>std</th>\n",
       "      <th>skew</th>\n",
       "      <th>kurtosis</th>\n",
       "    </tr>\n",
       "  </thead>\n",
       "  <tbody>\n",
       "    <tr>\n",
       "      <th>0</th>\n",
       "      <td>id</td>\n",
       "      <td>1.0</td>\n",
       "      <td>381109.0</td>\n",
       "      <td>381108.0</td>\n",
       "      <td>190555.000000</td>\n",
       "      <td>190555.0</td>\n",
       "      <td>110016.691870</td>\n",
       "      <td>9.443274e-16</td>\n",
       "      <td>-1.200000</td>\n",
       "    </tr>\n",
       "    <tr>\n",
       "      <th>1</th>\n",
       "      <td>age</td>\n",
       "      <td>20.0</td>\n",
       "      <td>85.0</td>\n",
       "      <td>65.0</td>\n",
       "      <td>38.822584</td>\n",
       "      <td>36.0</td>\n",
       "      <td>15.511591</td>\n",
       "      <td>6.725390e-01</td>\n",
       "      <td>-0.565655</td>\n",
       "    </tr>\n",
       "    <tr>\n",
       "      <th>2</th>\n",
       "      <td>driving_license</td>\n",
       "      <td>0.0</td>\n",
       "      <td>1.0</td>\n",
       "      <td>1.0</td>\n",
       "      <td>0.997869</td>\n",
       "      <td>1.0</td>\n",
       "      <td>0.046109</td>\n",
       "      <td>-2.159518e+01</td>\n",
       "      <td>464.354302</td>\n",
       "    </tr>\n",
       "    <tr>\n",
       "      <th>3</th>\n",
       "      <td>region_code</td>\n",
       "      <td>0.0</td>\n",
       "      <td>52.0</td>\n",
       "      <td>52.0</td>\n",
       "      <td>26.388807</td>\n",
       "      <td>28.0</td>\n",
       "      <td>13.229871</td>\n",
       "      <td>-1.152664e-01</td>\n",
       "      <td>-0.867857</td>\n",
       "    </tr>\n",
       "    <tr>\n",
       "      <th>4</th>\n",
       "      <td>previously_insured</td>\n",
       "      <td>0.0</td>\n",
       "      <td>1.0</td>\n",
       "      <td>1.0</td>\n",
       "      <td>0.458210</td>\n",
       "      <td>0.0</td>\n",
       "      <td>0.498251</td>\n",
       "      <td>1.677471e-01</td>\n",
       "      <td>-1.971871</td>\n",
       "    </tr>\n",
       "    <tr>\n",
       "      <th>5</th>\n",
       "      <td>annual_premium</td>\n",
       "      <td>2630.0</td>\n",
       "      <td>540165.0</td>\n",
       "      <td>537535.0</td>\n",
       "      <td>30564.389581</td>\n",
       "      <td>31669.0</td>\n",
       "      <td>17213.132474</td>\n",
       "      <td>1.766087e+00</td>\n",
       "      <td>34.004569</td>\n",
       "    </tr>\n",
       "    <tr>\n",
       "      <th>6</th>\n",
       "      <td>policy_sales_channel</td>\n",
       "      <td>1.0</td>\n",
       "      <td>163.0</td>\n",
       "      <td>162.0</td>\n",
       "      <td>112.034295</td>\n",
       "      <td>133.0</td>\n",
       "      <td>54.203924</td>\n",
       "      <td>-9.000081e-01</td>\n",
       "      <td>-0.970810</td>\n",
       "    </tr>\n",
       "    <tr>\n",
       "      <th>7</th>\n",
       "      <td>vintage</td>\n",
       "      <td>10.0</td>\n",
       "      <td>299.0</td>\n",
       "      <td>289.0</td>\n",
       "      <td>154.347397</td>\n",
       "      <td>154.0</td>\n",
       "      <td>83.671194</td>\n",
       "      <td>3.029517e-03</td>\n",
       "      <td>-1.200688</td>\n",
       "    </tr>\n",
       "    <tr>\n",
       "      <th>8</th>\n",
       "      <td>response</td>\n",
       "      <td>0.0</td>\n",
       "      <td>1.0</td>\n",
       "      <td>1.0</td>\n",
       "      <td>0.122563</td>\n",
       "      <td>0.0</td>\n",
       "      <td>0.327935</td>\n",
       "      <td>2.301906e+00</td>\n",
       "      <td>3.298788</td>\n",
       "    </tr>\n",
       "  </tbody>\n",
       "</table>\n",
       "</div>"
      ],
      "text/plain": [
       "             attributes     min       max     range           mean    median  \\\n",
       "0                    id     1.0  381109.0  381108.0  190555.000000  190555.0   \n",
       "1                   age    20.0      85.0      65.0      38.822584      36.0   \n",
       "2       driving_license     0.0       1.0       1.0       0.997869       1.0   \n",
       "3           region_code     0.0      52.0      52.0      26.388807      28.0   \n",
       "4    previously_insured     0.0       1.0       1.0       0.458210       0.0   \n",
       "5        annual_premium  2630.0  540165.0  537535.0   30564.389581   31669.0   \n",
       "6  policy_sales_channel     1.0     163.0     162.0     112.034295     133.0   \n",
       "7               vintage    10.0     299.0     289.0     154.347397     154.0   \n",
       "8              response     0.0       1.0       1.0       0.122563       0.0   \n",
       "\n",
       "             std          skew    kurtosis  \n",
       "0  110016.691870  9.443274e-16   -1.200000  \n",
       "1      15.511591  6.725390e-01   -0.565655  \n",
       "2       0.046109 -2.159518e+01  464.354302  \n",
       "3      13.229871 -1.152664e-01   -0.867857  \n",
       "4       0.498251  1.677471e-01   -1.971871  \n",
       "5   17213.132474  1.766087e+00   34.004569  \n",
       "6      54.203924 -9.000081e-01   -0.970810  \n",
       "7      83.671194  3.029517e-03   -1.200688  \n",
       "8       0.327935  2.301906e+00    3.298788  "
      ]
     },
     "execution_count": 370,
     "metadata": {},
     "output_type": "execute_result"
    }
   ],
   "source": [
    "#Central tendency - mean, median\n",
    "ct1 = pd.DataFrame( num_attributes.apply( np.mean ) ).T\n",
    "ct2 = pd.DataFrame( num_attributes.apply( np.median ) ).T\n",
    "\n",
    "#Dispersion - std, min, max, range, skew, kurtosis \n",
    "d1 = pd.DataFrame( num_attributes.apply( np.std) ).T\n",
    "d2 = pd.DataFrame( num_attributes.apply( min ) ).T\n",
    "d3 = pd.DataFrame( num_attributes.apply( max ) ).T\n",
    "d4 = pd.DataFrame( num_attributes.apply( lambda x: x.max() - x.min() ) ).T\n",
    "d5 = pd.DataFrame( num_attributes.apply( lambda x: x.skew() ) ).T\n",
    "d6 = pd.DataFrame( num_attributes.apply( lambda x: x.kurtosis() ) ).T\n",
    "\n",
    "# Concatenate\n",
    "m = pd.concat( [d2, d3, d4, ct1, ct2, d1, d5, d6]).T.reset_index()\n",
    "m.columns = ['attributes', 'min', 'max', 'range', 'mean', 'median', 'std', 'skew', 'kurtosis']\n",
    "m"
   ]
  },
  {
   "cell_type": "markdown",
   "id": "a9a9cea5",
   "metadata": {
    "ExecuteTime": {
     "end_time": "2022-02-02T13:57:18.489236Z",
     "start_time": "2022-02-02T13:57:18.484478Z"
    },
    "heading_collapsed": true,
    "hidden": true
   },
   "source": [
    "### 1.5.2 Categorical Atributes"
   ]
  },
  {
   "cell_type": "code",
   "execution_count": 371,
   "id": "83e26ce5",
   "metadata": {
    "ExecuteTime": {
     "end_time": "2022-02-18T18:25:22.624801Z",
     "start_time": "2022-02-18T18:25:22.618912Z"
    },
    "hidden": true
   },
   "outputs": [
    {
     "data": {
      "text/plain": [
       "Index(['gender', 'vehicle_age', 'vehicle_damage'], dtype='object')"
      ]
     },
     "execution_count": 371,
     "metadata": {},
     "output_type": "execute_result"
    }
   ],
   "source": [
    "cat_attributes.columns"
   ]
  },
  {
   "cell_type": "code",
   "execution_count": null,
   "id": "ff208a1a",
   "metadata": {
    "ExecuteTime": {
     "end_time": "2022-02-04T13:40:18.476061Z",
     "start_time": "2022-02-04T13:39:42.368086Z"
    },
    "hidden": true,
    "scrolled": false
   },
   "outputs": [],
   "source": []
  },
  {
   "cell_type": "markdown",
   "id": "42e9281c",
   "metadata": {
    "heading_collapsed": true
   },
   "source": [
    "# 2.0. FEATURE ENGINEERING"
   ]
  },
  {
   "cell_type": "code",
   "execution_count": 372,
   "id": "c5c63fa7",
   "metadata": {
    "ExecuteTime": {
     "end_time": "2022-02-18T18:25:22.638675Z",
     "start_time": "2022-02-18T18:25:22.626496Z"
    },
    "hidden": true
   },
   "outputs": [],
   "source": [
    "df2 = df1.copy()"
   ]
  },
  {
   "cell_type": "markdown",
   "id": "6f7b4dcc",
   "metadata": {
    "hidden": true
   },
   "source": [
    "-  2.1. Mapa Mental de Hipoteses\n",
    "-  2.2. Criação das Hipotéses(Loja, Produto, tempo)\n",
    "-  2.3. Hipoteses Finais. \n",
    "-  2.4. Feature Engineering"
   ]
  },
  {
   "cell_type": "code",
   "execution_count": 373,
   "id": "3735b864",
   "metadata": {
    "ExecuteTime": {
     "end_time": "2022-02-18T18:25:22.801108Z",
     "start_time": "2022-02-18T18:25:22.640234Z"
    },
    "hidden": true
   },
   "outputs": [],
   "source": [
    "#Vehicle age\n",
    "df2['vehicle_age'] = df2['vehicle_age'].apply( lambda x: 'over_2_years' if x == '> 2 Years'\n",
    "                                               else 'between_1_2_year'  if x == '1-2 Year'\n",
    "                                               else 'below_1_year')\n",
    "#Vehicle damage\n",
    "df2['vehicle_damage'] = df2['vehicle_damage'].apply( lambda x: 1 if x == 'yes' \n",
    "                                                    else 0 )"
   ]
  },
  {
   "cell_type": "markdown",
   "id": "28ee4d7b",
   "metadata": {
    "heading_collapsed": true
   },
   "source": [
    "# 3.0. Data Filtering"
   ]
  },
  {
   "cell_type": "code",
   "execution_count": 374,
   "id": "4f4022e7",
   "metadata": {
    "ExecuteTime": {
     "end_time": "2022-02-18T18:25:22.826451Z",
     "start_time": "2022-02-18T18:25:22.802550Z"
    },
    "hidden": true
   },
   "outputs": [],
   "source": [
    "df3 = df2.copy()"
   ]
  },
  {
   "cell_type": "markdown",
   "id": "3f9e1e7f",
   "metadata": {
    "heading_collapsed": true
   },
   "source": [
    "# 4.0. EDA"
   ]
  },
  {
   "cell_type": "code",
   "execution_count": 375,
   "id": "abbf6043",
   "metadata": {
    "ExecuteTime": {
     "end_time": "2022-02-18T18:25:22.839010Z",
     "start_time": "2022-02-18T18:25:22.828250Z"
    },
    "hidden": true
   },
   "outputs": [],
   "source": [
    "df4 = df3.copy()"
   ]
  },
  {
   "cell_type": "markdown",
   "id": "ff513860",
   "metadata": {
    "hidden": true
   },
   "source": [
    "Faze univariada, bivariada, teste de hipoteses... "
   ]
  },
  {
   "cell_type": "markdown",
   "id": "b35114c5",
   "metadata": {
    "hidden": true
   },
   "source": [
    "## 4.1. Univariate Analysis"
   ]
  },
  {
   "cell_type": "markdown",
   "id": "2be1d38e",
   "metadata": {
    "hidden": true
   },
   "source": [
    "Em um projeto de classificação o objetivo é encontrar quais features tem uma separação natural ou mais separadas naturalmente para ajudar o modelo. O modelo sempre quer descobrir um corte no espaço que consegue separe quem tem interesse no produto e quem não tem interesse no produto. \n",
    "Quando usamos variáveis unidirecional, queremos plotar uma distribuição e olha esta projeção no eixo x, para dizer se são misturadas ou não. \n",
    "Do ponto gráfico podemos analisar diferença de médias, dos quartis, sobreposição entre distribuição. Assim podemos ter uma idéia se a váriavel irá 'bagunçar' ou 'separar' o dataset. Lembrando que o interesse aqui é encontrar as variáveis separadas entre si. "
   ]
  },
  {
   "cell_type": "markdown",
   "id": "9884885f",
   "metadata": {
    "hidden": true
   },
   "source": [
    "### - Variable \"age\"\n",
    "Possui relevância para o modelo"
   ]
  },
  {
   "cell_type": "code",
   "execution_count": 376,
   "id": "d2be0224",
   "metadata": {
    "ExecuteTime": {
     "end_time": "2022-02-18T18:25:22.990771Z",
     "start_time": "2022-02-18T18:25:22.840323Z"
    },
    "hidden": true,
    "hide_input": true,
    "scrolled": true
   },
   "outputs": [
    {
     "data": {
      "image/png": "[encoded data removed]",
      "text/plain": [
       "<Figure size 576x360 with 1 Axes>"
      ]
     },
     "metadata": {
      "needs_background": "light"
     },
     "output_type": "display_data"
    }
   ],
   "source": [
    "#age\n",
    "sns.boxplot( x= 'response' , y= 'age', data= df4 ).figure.set_size_inches(8,5);"
   ]
  },
  {
   "cell_type": "markdown",
   "id": "f8d5d160",
   "metadata": {
    "hidden": true
   },
   "source": [
    "> Interpretação do boxplot variavel ageXresponse: \n",
    "> - No grupo de pessoas que não estão interessados, temos a mediana próximo dos 35 anos, o primeiro ao terceiro >quartis estão dentro do intervalo de 25 a 50 anos.\n",
    ">- No grupo de pessoas que estão interessados, temos a mediana próxima a 45 anos, e o primeiro quartil estã acima da mediana do primeiro grupo, vemos uma concentração nos primeiro e terceiro quartis na faixa de 35 e 50.\n",
    ">- Numa primeira analise vemos que a um interesse maior das pessoas mais velhas contra as mais novas, nos indicando que esta variável pode ter importância na classificação. "
   ]
  },
  {
   "cell_type": "code",
   "execution_count": 377,
   "id": "d808c931",
   "metadata": {
    "ExecuteTime": {
     "end_time": "2022-02-18T18:25:23.703336Z",
     "start_time": "2022-02-18T18:25:22.992357Z"
    },
    "hidden": true,
    "hide_input": true
   },
   "outputs": [
    {
     "name": "stdout",
     "output_type": "stream",
     "text": [
      "Interested People: 46710 \n",
      "Not Interested People: 334399 \n"
     ]
    },
    {
     "data": {
      "image/png": "[encoded data removed]",
      "text/plain": [
       "<Figure size 1080x864 with 2 Axes>"
      ]
     },
     "metadata": {
      "needs_background": "light"
     },
     "output_type": "display_data"
    }
   ],
   "source": [
    "#Histogram not interested \n",
    "plt.subplot( 2, 1, 1 ).figure.set_size_inches(15,12);\n",
    "aux0 = df4.loc[ df4['response'] == 0, 'age' ]\n",
    "sns.histplot( aux0 );\n",
    "\n",
    "#Histogram interested \n",
    "plt.subplot( 2, 1, 2 );\n",
    "aux0 = df4.loc[ df4['response'] == 1, 'age' ]\n",
    "sns.histplot( aux0 );\n",
    "print( f\"Interested People: {len(df4.loc[ df4['response'] == 1, 'age' ])} \")\n",
    "print( f\"Not Interested People: {len(df4.loc[ df4['response'] == 0, 'age' ])} \")"
   ]
  },
  {
   "cell_type": "markdown",
   "id": "08e999be",
   "metadata": {
    "hidden": true,
    "hide_input": true
   },
   "source": [
    "> Ao plotarmos a distribuição: \n",
    "> - Pessoas que não possuem interesse: Temos com relação a amplitude, uma concentração de pessoas muito maior por volta dos 25 anos. A distribuição não se comporta como uma normal, se assemelha mais a uma Poison. \n",
    "> - Pessoas que possuem interese: A concentração fica em torno de 40 a 50 anos, a distribuição fica masi próxima de uma distribuição normal. Percebemos que o interesse cai bastante após a idade dos 50 anos e poucas pessoas interessadas com idades da parte superior do gráfico. \n",
    "> Obs:. Temos um número muito maior de pessoas que não possuem interesse, assim podemos ficar alerta de apesar de a idade ser representativa, temos o problema de diferença de volumes entre as classes."
   ]
  },
  {
   "cell_type": "markdown",
   "id": "62f9e1ad",
   "metadata": {
    "ExecuteTime": {
     "end_time": "2022-02-04T13:21:50.625648Z",
     "start_time": "2022-02-04T13:21:50.612707Z"
    },
    "heading_collapsed": true,
    "hidden": true
   },
   "source": [
    "### - Variable \"annual_premium\"\n",
    "Pouca relevância para o modelo"
   ]
  },
  {
   "cell_type": "code",
   "execution_count": 378,
   "id": "65ffcb88",
   "metadata": {
    "ExecuteTime": {
     "end_time": "2022-02-18T18:25:23.920275Z",
     "start_time": "2022-02-18T18:25:23.704833Z"
    },
    "hidden": true,
    "hide_input": true
   },
   "outputs": [
    {
     "data": {
      "image/png": "[encoded data removed]",
      "text/plain": [
       "<Figure size 864x720 with 1 Axes>"
      ]
     },
     "metadata": {
      "needs_background": "light"
     },
     "output_type": "display_data"
    }
   ],
   "source": [
    "#annual_premium\n",
    "aux =df4[df4['annual_premium'] < 80000 ]\n",
    "sns.boxplot( x= 'response' , y= 'annual_premium', data= aux ).figure.set_size_inches(12,10);\n"
   ]
  },
  {
   "cell_type": "markdown",
   "id": "5b3831af",
   "metadata": {
    "hidden": true
   },
   "source": [
    "> Para analisar o box-plot da 'annual_premium' foi necessário plotar diminuindo os outliers, assim plotamos com filtro de menores de 8000.\n",
    "> Ao comparamos os box-plot para as duas respostas, vemos que as medianas estão muito próximas assim como a concentração entre os quartis. Assim percebemos que esta variável sozinha não nos ajudara no nosso modelo, talvez combinada com outra variável venha a ter utilidade. "
   ]
  },
  {
   "cell_type": "code",
   "execution_count": 379,
   "id": "76221d10",
   "metadata": {
    "ExecuteTime": {
     "end_time": "2022-02-18T18:25:24.706145Z",
     "start_time": "2022-02-18T18:25:23.923689Z"
    },
    "hidden": true,
    "hide_input": true
   },
   "outputs": [
    {
     "name": "stdout",
     "output_type": "stream",
     "text": [
      "Interested People: 46710 \n",
      "Not Interested People: 334399 \n"
     ]
    },
    {
     "data": {
      "image/png": "[encoded data removed]",
      "text/plain": [
       "<Figure size 1080x864 with 2 Axes>"
      ]
     },
     "metadata": {
      "needs_background": "light"
     },
     "output_type": "display_data"
    }
   ],
   "source": [
    "aux =df4[ (df4['annual_premium'] > 10000) & (df4['annual_premium'] <80000) ]\n",
    "\n",
    "#Histogram not interessed annual_premium\n",
    "plt.subplot( 2, 1, 1 ).figure.set_size_inches(15,12);\n",
    "aux0 = aux.loc[ df4['response'] == 0, 'annual_premium' ]\n",
    "sns.histplot( aux0 );\n",
    "\n",
    "#Histogram annual_premium\n",
    "plt.subplot( 2, 1, 2 );\n",
    "aux0 = aux.loc[ df4['response'] == 1, 'annual_premium' ]\n",
    "sns.histplot( aux0 );\n",
    "print( f\"Interested People: {len(df4.loc[ df4['response'] == 1, 'age' ])} \")\n",
    "print( f\"Not Interested People: {len(df4.loc[ df4['response'] == 0, 'age' ])} \")"
   ]
  },
  {
   "cell_type": "markdown",
   "id": "1e4ebc57",
   "metadata": {
    "hidden": true
   },
   "source": [
    ">Ao plotar a distribuição sem os out-liers, podemos ver uma distribuição bem parecida, além de considearar que a diferenã de volume é bem alta. Logo, reafirmamos que esta variável tera pouco relevância de forma idependênte no nossso modelo podendo atrapalhar mais do que ajudar. "
   ]
  },
  {
   "cell_type": "markdown",
   "id": "2e2308af",
   "metadata": {
    "ExecuteTime": {
     "end_time": "2022-02-04T13:22:27.929444Z",
     "start_time": "2022-02-04T13:22:27.925584Z"
    },
    "heading_collapsed": true,
    "hidden": true
   },
   "source": [
    "### Variable \"driving_license\"\n",
    "Não conclusiva de maneira isolada"
   ]
  },
  {
   "cell_type": "code",
   "execution_count": 380,
   "id": "6186bf3b",
   "metadata": {
    "ExecuteTime": {
     "end_time": "2022-02-18T18:25:24.732093Z",
     "start_time": "2022-02-18T18:25:24.707607Z"
    },
    "hidden": true,
    "hide_input": false
   },
   "outputs": [
    {
     "data": {
      "text/html": [
       "<div>\n",
       "<style scoped>\n",
       "    .dataframe tbody tr th:only-of-type {\n",
       "        vertical-align: middle;\n",
       "    }\n",
       "\n",
       "    .dataframe tbody tr th {\n",
       "        vertical-align: top;\n",
       "    }\n",
       "\n",
       "    .dataframe thead th {\n",
       "        text-align: right;\n",
       "    }\n",
       "</style>\n",
       "<table border=\"1\" class=\"dataframe\">\n",
       "  <thead>\n",
       "    <tr style=\"text-align: right;\">\n",
       "      <th></th>\n",
       "      <th>response</th>\n",
       "      <th>driving_license</th>\n",
       "      <th>driving_license_perc</th>\n",
       "    </tr>\n",
       "  </thead>\n",
       "  <tbody>\n",
       "    <tr>\n",
       "      <th>0</th>\n",
       "      <td>0</td>\n",
       "      <td>333628</td>\n",
       "      <td>0.877283</td>\n",
       "    </tr>\n",
       "    <tr>\n",
       "      <th>1</th>\n",
       "      <td>1</td>\n",
       "      <td>46669</td>\n",
       "      <td>0.122717</td>\n",
       "    </tr>\n",
       "  </tbody>\n",
       "</table>\n",
       "</div>"
      ],
      "text/plain": [
       "   response  driving_license  driving_license_perc\n",
       "0         0           333628              0.877283\n",
       "1         1            46669              0.122717"
      ]
     },
     "execution_count": 380,
     "metadata": {},
     "output_type": "execute_result"
    }
   ],
   "source": [
    "#box-plot driving_license\n",
    "#0 = não responderam e não dirigem\n",
    "#1 = responderam e dirigem\n",
    "aux = df4[['driving_license','response']].groupby('response').sum().reset_index()\n",
    "aux['driving_license_perc'] = aux['driving_license']/aux['driving_license'].sum()\n",
    "#sns.barplot(x='response', y = 'driving_license', data = aux);\n",
    "aux"
   ]
  },
  {
   "cell_type": "markdown",
   "id": "87226ac4",
   "metadata": {
    "ExecuteTime": {
     "end_time": "2022-02-04T13:46:31.147694Z",
     "start_time": "2022-02-04T13:46:31.104748Z"
    },
    "hidden": true
   },
   "source": [
    "> Pouco conclusiva, analisando isoladamente temos que a maioria das pessoas entre as que dirigem(87%) não possuem interesse no seguro. Poŕém analisar esta variável sem levar em consideração outros fatores não esclarece muita coisa. Ou qual a propensão"
   ]
  },
  {
   "cell_type": "code",
   "execution_count": 381,
   "id": "806448d2",
   "metadata": {
    "ExecuteTime": {
     "end_time": "2022-02-18T18:25:24.785763Z",
     "start_time": "2022-02-18T18:25:24.734185Z"
    },
    "hidden": true
   },
   "outputs": [
    {
     "data": {
      "text/html": [
       "<div>\n",
       "<style scoped>\n",
       "    .dataframe tbody tr th:only-of-type {\n",
       "        vertical-align: middle;\n",
       "    }\n",
       "\n",
       "    .dataframe tbody tr th {\n",
       "        vertical-align: top;\n",
       "    }\n",
       "\n",
       "    .dataframe thead th {\n",
       "        text-align: right;\n",
       "    }\n",
       "</style>\n",
       "<table border=\"1\" class=\"dataframe\">\n",
       "  <thead>\n",
       "    <tr style=\"text-align: right;\">\n",
       "      <th>response</th>\n",
       "      <th>0</th>\n",
       "      <th>1</th>\n",
       "    </tr>\n",
       "    <tr>\n",
       "      <th>driving_license</th>\n",
       "      <th></th>\n",
       "      <th></th>\n",
       "    </tr>\n",
       "  </thead>\n",
       "  <tbody>\n",
       "    <tr>\n",
       "      <th>0</th>\n",
       "      <td>771</td>\n",
       "      <td>41</td>\n",
       "    </tr>\n",
       "    <tr>\n",
       "      <th>1</th>\n",
       "      <td>333628</td>\n",
       "      <td>46669</td>\n",
       "    </tr>\n",
       "  </tbody>\n",
       "</table>\n",
       "</div>"
      ],
      "text/plain": [
       "response              0      1\n",
       "driving_license               \n",
       "0                   771     41\n",
       "1                333628  46669"
      ]
     },
     "execution_count": 381,
     "metadata": {},
     "output_type": "execute_result"
    }
   ],
   "source": [
    "pd.crosstab( df4['driving_license'], df4['response'] )"
   ]
  },
  {
   "cell_type": "code",
   "execution_count": 382,
   "id": "3a6d3f4e",
   "metadata": {
    "ExecuteTime": {
     "end_time": "2022-02-18T18:25:24.791771Z",
     "start_time": "2022-02-18T18:25:24.788618Z"
    },
    "hidden": true
   },
   "outputs": [
    {
     "data": {
      "text/plain": [
       "5.317769130998703"
      ]
     },
     "execution_count": 382,
     "metadata": {},
     "output_type": "execute_result"
    }
   ],
   "source": [
    "41*100/771"
   ]
  },
  {
   "cell_type": "markdown",
   "id": "b2d10984",
   "metadata": {
    "hidden": true
   },
   "source": [
    "> Fazendo a tabela cruzada percebemos que o interesse das pessoas que tem licensa é maior, pois temos que entre os que não possuem licensa o interesse cai para 5,3%(41 dos 812) contra 12% dos que tem carteira de motorista. "
   ]
  },
  {
   "cell_type": "markdown",
   "id": "3296b04e",
   "metadata": {
    "heading_collapsed": true,
    "hidden": true
   },
   "source": [
    "### Variable \"region_code\"\n",
    "pouca relevância para o modelo"
   ]
  },
  {
   "cell_type": "code",
   "execution_count": 383,
   "id": "3a1eaa41",
   "metadata": {
    "ExecuteTime": {
     "end_time": "2022-02-18T18:25:25.027155Z",
     "start_time": "2022-02-18T18:25:24.794507Z"
    },
    "hidden": true,
    "hide_input": false
   },
   "outputs": [
    {
     "data": {
      "image/png": "[encoded data removed]",
      "text/plain": [
       "<Figure size 864x648 with 1 Axes>"
      ]
     },
     "metadata": {
      "needs_background": "light"
     },
     "output_type": "display_data"
    }
   ],
   "source": [
    "#plot scatterplot region_code\n",
    "aux = df4[['id', 'region_code', 'response']].groupby(['region_code', 'response']).count().reset_index()\n",
    "aux['response'] = aux['response'].map({0:'not interested', 1:'interested'})\n",
    "ax = sns.scatterplot( x='region_code', y = 'id', hue = 'response', data = aux, s=20)\n",
    "ax.set_title('interested/not interested customers per region_code\\n')\n",
    "ax.legend(title='')\n",
    "ax.set_ylabel('')\n",
    "ax.figure.set_size_inches(12,9);\n",
    "\n",
    "\n"
   ]
  },
  {
   "cell_type": "markdown",
   "id": "c4c77145",
   "metadata": {
    "hidden": true,
    "hide_input": true
   },
   "source": [
    "> Mesmo que algumas regiões isoladamente tenha uma diferença expressiva de pessoas que tiveram interesse e não tiveram interesse, podemos ver no gráfico que a grande maioria possui um comportamento parecido. Assim, de forma isolada a variável region_code possui pouca significância para o modelo. "
   ]
  },
  {
   "cell_type": "markdown",
   "id": "4a4fba6b",
   "metadata": {
    "heading_collapsed": true,
    "hidden": true
   },
   "source": [
    "### Variable \"previously_insured\"\n",
    "Possui relevância para o modelo"
   ]
  },
  {
   "cell_type": "code",
   "execution_count": 384,
   "id": "6fa51732",
   "metadata": {
    "ExecuteTime": {
     "end_time": "2022-02-18T18:25:25.091755Z",
     "start_time": "2022-02-18T18:25:25.029740Z"
    },
    "hidden": true,
    "hide_input": true
   },
   "outputs": [
    {
     "data": {
      "text/html": [
       "<div>\n",
       "<style scoped>\n",
       "    .dataframe tbody tr th:only-of-type {\n",
       "        vertical-align: middle;\n",
       "    }\n",
       "\n",
       "    .dataframe tbody tr th {\n",
       "        vertical-align: top;\n",
       "    }\n",
       "\n",
       "    .dataframe thead th {\n",
       "        text-align: right;\n",
       "    }\n",
       "</style>\n",
       "<table border=\"1\" class=\"dataframe\">\n",
       "  <thead>\n",
       "    <tr style=\"text-align: right;\">\n",
       "      <th>response</th>\n",
       "      <th>0</th>\n",
       "      <th>1</th>\n",
       "    </tr>\n",
       "    <tr>\n",
       "      <th>previously_insured</th>\n",
       "      <th></th>\n",
       "      <th></th>\n",
       "    </tr>\n",
       "  </thead>\n",
       "  <tbody>\n",
       "    <tr>\n",
       "      <th>0</th>\n",
       "      <td>0.774546</td>\n",
       "      <td>0.225454</td>\n",
       "    </tr>\n",
       "    <tr>\n",
       "      <th>1</th>\n",
       "      <td>0.999095</td>\n",
       "      <td>0.000905</td>\n",
       "    </tr>\n",
       "  </tbody>\n",
       "</table>\n",
       "</div>"
      ],
      "text/plain": [
       "response                   0         1\n",
       "previously_insured                    \n",
       "0                   0.774546  0.225454\n",
       "1                   0.999095  0.000905"
      ]
     },
     "execution_count": 384,
     "metadata": {},
     "output_type": "execute_result"
    }
   ],
   "source": [
    "#% tabela interesse X ja tem seguro\n",
    "pd.crosstab( df4['previously_insured'], df4['response'] ).apply( lambda x: x/x.sum(), axis =1)"
   ]
  },
  {
   "cell_type": "code",
   "execution_count": 385,
   "id": "4f519069",
   "metadata": {
    "ExecuteTime": {
     "end_time": "2022-02-18T18:25:25.105304Z",
     "start_time": "2022-02-18T18:25:25.096696Z"
    },
    "hidden": true,
    "hide_input": true
   },
   "outputs": [
    {
     "name": "stdout",
     "output_type": "stream",
     "text": [
      " Pocentagem dos que não tem seguro e tem interesse: 22.55%\n",
      " Pocentagem dos que tem seguro e não tem interesse: 0.0905%\n"
     ]
    }
   ],
   "source": [
    "a = (46552*100)/(159929+46552)\n",
    "b = (158*100)/(174470+158)\n",
    "print( f' Pocentagem dos que não tem seguro e tem interesse: {a:.4}%')\n",
    "print( f' Pocentagem dos que tem seguro e não tem interesse: {b:.3}%')"
   ]
  },
  {
   "cell_type": "markdown",
   "id": "d1e1442c",
   "metadata": {
    "hidden": true
   },
   "source": [
    ">Fazendo a tabela de contigência, onde nos mostra a relação quantas pessoas que já posssuem ou não seguro de automóvel e possuem ou não iteresse no seguro oferecido. \n",
    "> Entre as pessoas que não possuem seguro, o interesse foi de 29,11% contra 0.09% das que já possuem. Aqui fica claro que esta variável é importante e relevante, pois claramente os clientes que não possuem seguro tem maior propensão a querer seguro."
   ]
  },
  {
   "cell_type": "markdown",
   "id": "27f5a452",
   "metadata": {
    "ExecuteTime": {
     "end_time": "2022-02-04T15:05:09.092341Z",
     "start_time": "2022-02-04T15:05:09.086328Z"
    },
    "heading_collapsed": true,
    "hidden": true
   },
   "source": [
    "### Variable \"vehicle_age\"\n",
    "Parte relevânte para o modelo\n"
   ]
  },
  {
   "cell_type": "code",
   "execution_count": 386,
   "id": "05293fcb",
   "metadata": {
    "ExecuteTime": {
     "end_time": "2022-02-18T18:25:25.188049Z",
     "start_time": "2022-02-18T18:25:25.109782Z"
    },
    "hidden": true
   },
   "outputs": [
    {
     "data": {
      "text/html": [
       "<div>\n",
       "<style scoped>\n",
       "    .dataframe tbody tr th:only-of-type {\n",
       "        vertical-align: middle;\n",
       "    }\n",
       "\n",
       "    .dataframe tbody tr th {\n",
       "        vertical-align: top;\n",
       "    }\n",
       "\n",
       "    .dataframe thead th {\n",
       "        text-align: right;\n",
       "    }\n",
       "</style>\n",
       "<table border=\"1\" class=\"dataframe\">\n",
       "  <thead>\n",
       "    <tr style=\"text-align: right;\">\n",
       "      <th></th>\n",
       "      <th>vehicle_age</th>\n",
       "      <th>response</th>\n",
       "      <th>0</th>\n",
       "    </tr>\n",
       "  </thead>\n",
       "  <tbody>\n",
       "    <tr>\n",
       "      <th>1</th>\n",
       "      <td>below_1_year</td>\n",
       "      <td>0</td>\n",
       "      <td>0.413488</td>\n",
       "    </tr>\n",
       "    <tr>\n",
       "      <th>4</th>\n",
       "      <td>below_1_year</td>\n",
       "      <td>1</td>\n",
       "      <td>0.018897</td>\n",
       "    </tr>\n",
       "    <tr>\n",
       "      <th>0</th>\n",
       "      <td>between_1_2_year</td>\n",
       "      <td>0</td>\n",
       "      <td>0.434285</td>\n",
       "    </tr>\n",
       "    <tr>\n",
       "      <th>2</th>\n",
       "      <td>between_1_2_year</td>\n",
       "      <td>1</td>\n",
       "      <td>0.091328</td>\n",
       "    </tr>\n",
       "    <tr>\n",
       "      <th>3</th>\n",
       "      <td>over_2_years</td>\n",
       "      <td>0</td>\n",
       "      <td>0.029663</td>\n",
       "    </tr>\n",
       "    <tr>\n",
       "      <th>5</th>\n",
       "      <td>over_2_years</td>\n",
       "      <td>1</td>\n",
       "      <td>0.012338</td>\n",
       "    </tr>\n",
       "  </tbody>\n",
       "</table>\n",
       "</div>"
      ],
      "text/plain": [
       "        vehicle_age  response         0\n",
       "1      below_1_year         0  0.413488\n",
       "4      below_1_year         1  0.018897\n",
       "0  between_1_2_year         0  0.434285\n",
       "2  between_1_2_year         1  0.091328\n",
       "3      over_2_years         0  0.029663\n",
       "5      over_2_years         1  0.012338"
      ]
     },
     "execution_count": 386,
     "metadata": {},
     "output_type": "execute_result"
    }
   ],
   "source": [
    "df4[['vehicle_age', 'response']].value_counts( normalize = True ).reset_index().sort_values('vehicle_age')"
   ]
  },
  {
   "cell_type": "markdown",
   "id": "1a485876",
   "metadata": {
    "hidden": true
   },
   "source": [
    "> Notamos que com pessoas que possuem carros com mais de 2 anos, as respostas entre querer ou não seguro ficaram pareceidas 29% contra 12%, estes dados podem atrapalhar o modelo\n",
    "> Já nos casos de carros com menos de 1 ano e entre 1 e 2 houve maior discrepância nas resposta, oq faz ter uma discriminção razoável para o modelo. "
   ]
  },
  {
   "cell_type": "markdown",
   "id": "1fd0413d",
   "metadata": {
    "heading_collapsed": true,
    "hidden": true
   },
   "source": [
    "### Variable \"policy_sales_channel\"\n",
    "Não conclusiva"
   ]
  },
  {
   "cell_type": "code",
   "execution_count": 387,
   "id": "a2258c74",
   "metadata": {
    "ExecuteTime": {
     "end_time": "2022-02-18T18:25:26.169544Z",
     "start_time": "2022-02-18T18:25:25.190676Z"
    },
    "hidden": true
   },
   "outputs": [
    {
     "data": {
      "image/png": "[encoded data removed]",
      "text/plain": [
       "<Figure size 1728x864 with 1 Axes>"
      ]
     },
     "metadata": {
      "needs_background": "light"
     },
     "output_type": "display_data"
    }
   ],
   "source": [
    "aux = df4[['policy_sales_channel', 'response']].groupby( 'policy_sales_channel' ).sum().reset_index()\n",
    "sns.barplot( x='response', y='policy_sales_channel', data=aux ).figure.set_size_inches(24, 12)"
   ]
  },
  {
   "cell_type": "markdown",
   "id": "ee5415a2",
   "metadata": {
    "ExecuteTime": {
     "end_time": "2022-02-04T20:42:58.977971Z",
     "start_time": "2022-02-04T20:42:58.973997Z"
    },
    "heading_collapsed": true,
    "hidden": true
   },
   "source": [
    "### Variable \"vintage\"\n",
    "Sem Relevância"
   ]
  },
  {
   "cell_type": "code",
   "execution_count": 388,
   "id": "59e782c2",
   "metadata": {
    "ExecuteTime": {
     "end_time": "2022-02-18T18:25:26.350714Z",
     "start_time": "2022-02-18T18:25:26.173337Z"
    },
    "hidden": true,
    "hide_input": true
   },
   "outputs": [
    {
     "data": {
      "image/png": "[encoded data removed]",
      "text/plain": [
       "<Figure size 864x720 with 1 Axes>"
      ]
     },
     "metadata": {
      "needs_background": "light"
     },
     "output_type": "display_data"
    }
   ],
   "source": [
    "sns.boxplot( x= 'response' , y= 'vintage', data= df4 ).figure.set_size_inches(12,10);"
   ]
  },
  {
   "cell_type": "code",
   "execution_count": 389,
   "id": "a8c08132",
   "metadata": {
    "ExecuteTime": {
     "end_time": "2022-02-18T18:25:26.843756Z",
     "start_time": "2022-02-18T18:25:26.352978Z"
    },
    "hidden": true,
    "hide_input": false
   },
   "outputs": [
    {
     "data": {
      "image/png": "[encoded data removed]",
      "text/plain": [
       "<Figure size 1080x432 with 2 Axes>"
      ]
     },
     "metadata": {
      "needs_background": "light"
     },
     "output_type": "display_data"
    }
   ],
   "source": [
    "\n",
    "plt.subplot( 1, 2, 1 )\n",
    "aux00 = df4.loc[df4['response'] == 0, 'vintage']\n",
    "sns.histplot( aux00 ).figure.set_size_inches(12,6);\n",
    "\n",
    "plt.subplot( 1, 2, 2 ).figure.set_size_inches(15,6)\n",
    "aux00 = df4.loc[df4['response'] == 1, 'vintage']\n",
    "sns.histplot( aux00 );"
   ]
  },
  {
   "cell_type": "markdown",
   "id": "b1bdc150",
   "metadata": {
    "hidden": true
   },
   "source": [
    "> Esta variável não possuí relevância, pois a maneira q foi usada o tempo de  que os clientes possuem, é renoada anualmente, o que faz com que seja praticamente linear, quanto a resposta."
   ]
  },
  {
   "cell_type": "code",
   "execution_count": 390,
   "id": "c177aa98",
   "metadata": {
    "ExecuteTime": {
     "end_time": "2022-02-18T18:25:26.847434Z",
     "start_time": "2022-02-18T18:25:26.845513Z"
    },
    "hidden": true
   },
   "outputs": [],
   "source": [
    "#vehicle_age"
   ]
  },
  {
   "cell_type": "code",
   "execution_count": 391,
   "id": "1bc71041",
   "metadata": {
    "ExecuteTime": {
     "end_time": "2022-02-18T18:25:26.857729Z",
     "start_time": "2022-02-18T18:25:26.849075Z"
    },
    "hidden": true
   },
   "outputs": [],
   "source": [
    "#vehicle_damage"
   ]
  },
  {
   "cell_type": "code",
   "execution_count": 392,
   "id": "bff75555",
   "metadata": {
    "ExecuteTime": {
     "end_time": "2022-02-18T18:25:26.872284Z",
     "start_time": "2022-02-18T18:25:26.860517Z"
    },
    "hidden": true
   },
   "outputs": [],
   "source": [
    "#policy_sales_channel"
   ]
  },
  {
   "cell_type": "code",
   "execution_count": 393,
   "id": "9572f3d4",
   "metadata": {
    "ExecuteTime": {
     "end_time": "2022-02-18T18:25:26.881040Z",
     "start_time": "2022-02-18T18:25:26.875102Z"
    },
    "hidden": true
   },
   "outputs": [],
   "source": [
    "#vintage\n"
   ]
  },
  {
   "cell_type": "code",
   "execution_count": 394,
   "id": "52423321",
   "metadata": {
    "ExecuteTime": {
     "end_time": "2022-02-18T18:25:26.889214Z",
     "start_time": "2022-02-18T18:25:26.883279Z"
    },
    "hidden": true
   },
   "outputs": [],
   "source": [
    "#response"
   ]
  },
  {
   "cell_type": "markdown",
   "id": "94ba2b7e",
   "metadata": {},
   "source": [
    "# 5.0. Data Preparation"
   ]
  },
  {
   "cell_type": "code",
   "execution_count": 395,
   "id": "d2177baf",
   "metadata": {
    "ExecuteTime": {
     "end_time": "2022-02-18T18:25:26.905673Z",
     "start_time": "2022-02-18T18:25:26.891060Z"
    }
   },
   "outputs": [],
   "source": [
    "df5 = df4.copy()"
   ]
  },
  {
   "cell_type": "code",
   "execution_count": 396,
   "id": "5049e42c",
   "metadata": {
    "ExecuteTime": {
     "end_time": "2022-02-18T18:25:27.057451Z",
     "start_time": "2022-02-18T18:25:26.907526Z"
    }
   },
   "outputs": [],
   "source": [
    "X = df4.drop('response', axis = 1 )\n",
    "y = df4['response'].copy()\n",
    "\n",
    "x_train, x_validation, y_train, y_validation = ms.train_test_split( X, y, test_size = 0.20 )\n",
    "\n",
    "df5 = pd.concat( [x_train, y_train], axis = 1 )"
   ]
  },
  {
   "cell_type": "code",
   "execution_count": 397,
   "id": "277ab582",
   "metadata": {
    "ExecuteTime": {
     "end_time": "2022-02-18T18:25:27.063368Z",
     "start_time": "2022-02-18T18:25:27.058878Z"
    }
   },
   "outputs": [],
   "source": [
    "x_valc = x_validation.copy()"
   ]
  },
  {
   "cell_type": "markdown",
   "id": "e7010692",
   "metadata": {},
   "source": [
    "## 5.1. Standardization"
   ]
  },
  {
   "cell_type": "code",
   "execution_count": 398,
   "id": "e777b5a4",
   "metadata": {
    "ExecuteTime": {
     "end_time": "2022-02-18T18:25:27.086767Z",
     "start_time": "2022-02-18T18:25:27.067566Z"
    }
   },
   "outputs": [],
   "source": [
    "ss = pp.StandardScaler()\n",
    "\n",
    "# annual_premium \n",
    "df5['annual_premium'] = ss.fit_transform( df5[['annual_premium']].values )\n",
    "pickle.dump(ss, open('features/annual_premium_scaler.pkl', 'wb'))\n"
   ]
  },
  {
   "cell_type": "markdown",
   "id": "dca5f692",
   "metadata": {},
   "source": [
    "> \"annual_premium -  Assume características próximas a normal, porém tem muito outliers\n",
    "Seria necessário fazer um tratamento destes outliers, mas pode desconhecimento de detalhes desta variável \n",
    "e influência no negócio assumiremos o risco de deixa-la inauterada no primeiro ciclo do Crisp.\n",
    "\n",
    ">StandardScalerque implementa a TransformerAPI para calcular a média e o desvio padrão em um conjunto de treinamento, de modo a poder reaplicar posteriormente a mesma transformação no conjunto de teste. "
   ]
  },
  {
   "cell_type": "markdown",
   "id": "4dc7afee",
   "metadata": {
    "ExecuteTime": {
     "end_time": "2022-02-05T19:12:25.939878Z",
     "start_time": "2022-02-05T19:12:25.931974Z"
    }
   },
   "source": [
    "## 5.2. Rescaling"
   ]
  },
  {
   "cell_type": "code",
   "execution_count": 399,
   "id": "1885f96f",
   "metadata": {
    "ExecuteTime": {
     "end_time": "2022-02-18T18:25:27.130060Z",
     "start_time": "2022-02-18T18:25:27.090290Z"
    }
   },
   "outputs": [],
   "source": [
    "mms_age = pp.MinMaxScaler()\n",
    "mms_vintage = pp.MinMaxScaler()\n",
    "\n",
    "#Age - Não possui distribuição normal, fazer rescaling para normalização.\n",
    "df5['age'] = mms_age.fit_transform( df5[['age']].values )\n",
    "pickle.dump(mms_age, open('features/age_scaler.pkl', 'wb'))\n",
    "\n",
    "# vintage\n",
    "df5['vintage'] = mms_vintage.fit_transform( df5[['vintage']].values )\n",
    "pickle.dump(mms_vintage, open('features/vintage_scaler.pkl', 'wb'))"
   ]
  },
  {
   "cell_type": "markdown",
   "id": "3735dfcc",
   "metadata": {},
   "source": [
    "> MinMaxScaler do Sklearn é uma técnica de pré-processamento que coloca os dados na mesma escala. A intenção aqui é colocar os dados na mesma escala para melhorar a efinciência do nosso modelo. "
   ]
  },
  {
   "cell_type": "markdown",
   "id": "e018d0d1",
   "metadata": {},
   "source": [
    "## 5.3. Encoder"
   ]
  },
  {
   "cell_type": "code",
   "execution_count": 400,
   "id": "c59a83ce",
   "metadata": {
    "ExecuteTime": {
     "end_time": "2022-02-18T18:25:27.269204Z",
     "start_time": "2022-02-18T18:25:27.133537Z"
    }
   },
   "outputs": [],
   "source": [
    "#gender - One Hot Encoding / Target Encoding\n",
    "target_ecode_gender = df5.groupby( 'gender' )['response'].mean()\n",
    "df5.loc[:, 'gender' ] = df5['gender'].map( target_ecode_gender )\n",
    "pickle.dump(target_ecode_gender, open('features/target_ecode_gender_scaler.pkl', 'wb' ))\n",
    "\n",
    "#region_code - Frequency Encoding / Target Encoding / Weighted Target Encoding\n",
    "target_encode_region_code = df5.groupby( 'region_code' )[ 'response' ].mean( )\n",
    "df5.loc[:, 'region_code' ] = df5['region_code' ].map( target_encode_region_code )\n",
    "pickle.dump(target_encode_region_code, open('features/target_encode_region_code_scaler.pkl', 'wb' ))\n",
    "\n",
    "#vehicle_age - one Hot Encoding / Label Encoding\n",
    "df5 = pd.get_dummies( df5, prefix = 'vehicle_age', columns = ['vehicle_age'] )\n",
    "\n",
    "\n",
    "#policy_sales_channel - Target Encoding / Frequency Encoding\n",
    "fe_policy_sales_channel = df5.groupby( 'policy_sales_channel' ).size() / len( df5 )\n",
    "df5.loc[:, 'policy_sales_channel' ] = df5['policy_sales_channel' ].map( fe_policy_sales_channel )\n",
    "pickle.dump(fe_policy_sales_channel, open('features/fe_policy_sales_channel_scaler.pkl', 'wb' ))\n",
    "\n",
    "\n",
    "\n"
   ]
  },
  {
   "cell_type": "markdown",
   "id": "b8880593",
   "metadata": {},
   "source": [
    "> Acima de 7 níveis na variável categórica, o uso do One Hot Encoding tornasse inviável, pois cria muitas dimensões, o Target Encoding é mais aconselhado para um primeiro ciclo nestes casos. \n",
    "\n",
    "> \"region_code\" -> Taget Econding - Dada uma variável categórica codificamos cada categoria possível com a média do alvo Y das instâncias com essa categoria. Agrupa-se as instâncias pela sua categoria/realização da variável categórica e tira-se a média de todos os targets Y dessas instâncias. Substitui-se cada categoria da variável pela média calculada para essa categoria.\n",
    "\n",
    "> \"vehicle_age\" -> one Hot Encoding - partir de uma variável categórica cria-se um vetor de features binárias onde cada feature representa o pertencimento ou não da instância à uma categoria. \n",
    "\n",
    "> \"policy_sales_channel\" -> Frequency Encoding - Conta a frequencia do que cada valor represente em relação ao total, dando peso maiores para valores que aparecem mais. "
   ]
  },
  {
   "cell_type": "markdown",
   "id": "59d89668",
   "metadata": {
    "ExecuteTime": {
     "end_time": "2022-02-07T12:27:35.094144Z",
     "start_time": "2022-02-07T12:27:35.084401Z"
    }
   },
   "source": [
    "## 5.4 Validation Preparation"
   ]
  },
  {
   "cell_type": "code",
   "execution_count": 401,
   "id": "9a83cc5b",
   "metadata": {
    "ExecuteTime": {
     "end_time": "2022-02-18T18:25:27.351100Z",
     "start_time": "2022-02-18T18:25:27.270728Z"
    }
   },
   "outputs": [],
   "source": [
    "# gender\n",
    "x_validation.loc[:, 'gender'] = x_validation.loc[:, 'gender'].map( target_ecode_gender )\n",
    "\n",
    "#age \n",
    "x_validation.loc[:, 'age']  = mms_age.transform( x_validation[['age']].values )\n",
    "\n",
    "#region_code \n",
    "x_validation.loc[:, 'region_code' ] = x_validation.loc[:, 'region_code' ].map( target_encode_region_code )\n",
    "\n",
    "#vehicle_age \n",
    "x_validation = pd.get_dummies( x_validation, prefix = 'vehicle_age', columns = ['vehicle_age'] )\n",
    "\n",
    "# annual_premium \n",
    "x_validation.loc[:, 'annual_premium'] = ss.transform( x_validation[['annual_premium']].values )\n",
    "\n",
    "#policy_sales_channel \n",
    "x_validation.loc[:, 'policy_sales_channel' ] = x_validation['policy_sales_channel' ].map( fe_policy_sales_channel )\n",
    "\n",
    "# vintage\n",
    "x_validation.loc[:, 'vintage'] = mms_vintage.fit_transform( x_validation[['vintage']].values )\n",
    "\n",
    "#fillna\n",
    "x_validation = x_validation.fillna( 0 )\n"
   ]
  },
  {
   "cell_type": "markdown",
   "id": "a85ec06c",
   "metadata": {},
   "source": [
    "# 6.0. Feature Selection"
   ]
  },
  {
   "cell_type": "code",
   "execution_count": 402,
   "id": "de3845ae",
   "metadata": {
    "ExecuteTime": {
     "end_time": "2022-02-18T18:25:27.361988Z",
     "start_time": "2022-02-18T18:25:27.352580Z"
    }
   },
   "outputs": [],
   "source": [
    "df6 = df5.copy()"
   ]
  },
  {
   "cell_type": "markdown",
   "id": "44a5d58b",
   "metadata": {},
   "source": [
    "## 6.2 Boruta"
   ]
  },
  {
   "cell_type": "markdown",
   "id": "60630fc3",
   "metadata": {
    "ExecuteTime": {
     "end_time": "2022-02-07T12:47:03.316418Z",
     "start_time": "2022-02-07T12:47:03.312366Z"
    }
   },
   "source": [
    "## 6.2 Features Importance"
   ]
  },
  {
   "cell_type": "code",
   "execution_count": 403,
   "id": "910f185a",
   "metadata": {
    "ExecuteTime": {
     "end_time": "2022-02-18T18:25:32.896870Z",
     "start_time": "2022-02-18T18:25:27.363816Z"
    }
   },
   "outputs": [
    {
     "data": {
      "text/plain": [
       "ExtraTreesClassifier(max_depth=6, n_jobs=-1, random_state=0)"
      ]
     },
     "execution_count": 403,
     "metadata": {},
     "output_type": "execute_result"
    }
   ],
   "source": [
    "#model definition\n",
    "forest = en.ExtraTreesClassifier( n_estimators = 100, random_state = 0, n_jobs = -1, max_depth = 6 )\n",
    "\n",
    "#data preparation\n",
    "x_train_n = df6.drop( ['id', 'response'], axis = 1)\n",
    "y_train_n = y_train.values\n",
    "forest.fit( x_train_n, y_train_n )"
   ]
  },
  {
   "cell_type": "markdown",
   "id": "fa23c453",
   "metadata": {},
   "source": [
    "> Usamos o ExtratreesClassifier, para rodar um modelo com todos nossas features, separadas em treino e após usaremos o metodo \"feature_importances_\" para termos a classificação das features em termos de importância para nosso modelo"
   ]
  },
  {
   "cell_type": "code",
   "execution_count": 404,
   "id": "6cecec6c",
   "metadata": {
    "ExecuteTime": {
     "end_time": "2022-02-18T18:25:33.125866Z",
     "start_time": "2022-02-18T18:25:32.898445Z"
    },
    "scrolled": true
   },
   "outputs": [
    {
     "name": "stdout",
     "output_type": "stream",
     "text": [
      "Feature ranking:\n",
      "                        feature  importance\n",
      "0            previously_insured    0.618245\n",
      "0      vehicle_age_below_1_year    0.129520\n",
      "0          policy_sales_channel    0.064328\n",
      "0  vehicle_age_between_1_2_year    0.062188\n",
      "0                           age    0.050492\n",
      "0      vehicle_age_over_2_years    0.039371\n",
      "0                   region_code    0.028511\n",
      "0                        gender    0.004888\n",
      "0               driving_license    0.001415\n",
      "0                annual_premium    0.000867\n",
      "0                       vintage    0.000174\n",
      "0                vehicle_damage    0.000000\n"
     ]
    },
    {
     "data": {
      "image/png": "[encoded data removed]",
      "text/plain": [
       "<Figure size 432x288 with 1 Axes>"
      ]
     },
     "metadata": {
      "needs_background": "light"
     },
     "output_type": "display_data"
    }
   ],
   "source": [
    "importances = forest.feature_importances_\n",
    "std = np.std([tree.feature_importances_ for tree in forest.estimators_], axis=0)\n",
    "indices = np.argsort(importances)[::-1]#importanica das arvores ordenada pelo maior valor.\n",
    "\n",
    "# Print the feature ranking\n",
    "print(\"Feature ranking:\")\n",
    "df = pd.DataFrame()\n",
    "for i, j in zip( x_train_n, forest.feature_importances_ ):\n",
    "    aux = pd.DataFrame( {'feature': i, 'importance': j}, index=[0] )\n",
    "    df = pd.concat( [df, aux], axis=0 )\n",
    "    \n",
    "print( df.sort_values( 'importance', ascending=False ) )\n",
    "\n",
    "# Plot the impurity-based feature importances of the forest\n",
    "plt.figure()\n",
    "plt.title(\"Feature importances\")\n",
    "plt.bar(range(x_train_n.shape[1]), importances[indices], color=\"r\", yerr=std[indices], align=\"center\")\n",
    "plt.xticks(range(x_train_n.shape[1]), indices)\n",
    "plt.xlim([-1, x_train_n.shape[1]])\n",
    "plt.show()"
   ]
  },
  {
   "cell_type": "markdown",
   "id": "97de1bb5",
   "metadata": {},
   "source": [
    "> Vamos usar as 7 primeiras features do ranking, pois a partir da setima, a importancia ja cai para menos de 2%. Para um primeiro ciclo de crsping"
   ]
  },
  {
   "cell_type": "code",
   "execution_count": 405,
   "id": "7491a648",
   "metadata": {
    "ExecuteTime": {
     "end_time": "2022-02-18T18:25:33.146060Z",
     "start_time": "2022-02-18T18:25:33.131561Z"
    }
   },
   "outputs": [],
   "source": [
    "cols_selected = ['annual_premium', 'vintage', 'age', 'region_code', 'vehicle_damage', 'previously_insured',\n",
    "                 'policy_sales_channel']\n",
    "\n",
    "x_train = df5[ cols_selected ]\n",
    "x_val = x_validation[ cols_selected ]\n",
    "y_val = y_validation.copy()"
   ]
  },
  {
   "cell_type": "code",
   "execution_count": 406,
   "id": "c6b9180f",
   "metadata": {
    "ExecuteTime": {
     "end_time": "2022-02-18T18:25:33.160237Z",
     "start_time": "2022-02-18T18:25:33.150585Z"
    }
   },
   "outputs": [
    {
     "data": {
      "text/plain": [
       "(76222, 7)"
      ]
     },
     "execution_count": 406,
     "metadata": {},
     "output_type": "execute_result"
    }
   ],
   "source": [
    "x_val.shape"
   ]
  },
  {
   "cell_type": "markdown",
   "id": "b0d6a52d",
   "metadata": {},
   "source": [
    "# 7.0. Machine Learning"
   ]
  },
  {
   "cell_type": "markdown",
   "id": "fc6a71da",
   "metadata": {},
   "source": [
    "> Para medir a performance, usaremos a metrica Precision top k e Recall top . \n",
    "> - Precision top k: Conta quantas predições foram corretas até k e dividi por todas as predições realizada pelo modelo até k. \n",
    "> - Recall Top K: Conta quantas predições foram corretas até k e dividi por todos os exemplos verdadeiros. "
   ]
  },
  {
   "cell_type": "code",
   "execution_count": 407,
   "id": "b857f423",
   "metadata": {
    "ExecuteTime": {
     "end_time": "2022-02-18T18:25:33.176829Z",
     "start_time": "2022-02-18T18:25:33.166065Z"
    }
   },
   "outputs": [],
   "source": [
    "#copy data\n",
    "df7 = x_validation.copy()\n",
    "df7['response'] = y_validation.copy()"
   ]
  },
  {
   "cell_type": "code",
   "execution_count": 408,
   "id": "61863310",
   "metadata": {
    "ExecuteTime": {
     "end_time": "2022-02-18T18:25:33.188292Z",
     "start_time": "2022-02-18T18:25:33.182260Z"
    }
   },
   "outputs": [
    {
     "data": {
      "text/plain": [
       "(76222, 14)"
      ]
     },
     "execution_count": 408,
     "metadata": {},
     "output_type": "execute_result"
    }
   ],
   "source": [
    "df7.shape"
   ]
  },
  {
   "cell_type": "markdown",
   "id": "3f43cae3",
   "metadata": {},
   "source": [
    "## 7.1. KNN(K-Nearest Neighbors)"
   ]
  },
  {
   "cell_type": "markdown",
   "id": "db34c096",
   "metadata": {},
   "source": [
    "> KNN: Algoritmo de aprendizadgem supervisionada, classificador onde o aprendizado é baseado “no quão similar” é um dado (um vetor) do outro. O treinamento é formado por vetores de n dimensões."
   ]
  },
  {
   "cell_type": "markdown",
   "id": "1fa2f9fd",
   "metadata": {
    "heading_collapsed": true
   },
   "source": [
    "### 7.1.1. Gain Curve "
   ]
  },
  {
   "cell_type": "code",
   "execution_count": 409,
   "id": "27e9a27b",
   "metadata": {
    "ExecuteTime": {
     "end_time": "2022-02-18T18:25:45.820132Z",
     "start_time": "2022-02-18T18:25:33.193359Z"
    },
    "hidden": true,
    "hide_input": false
   },
   "outputs": [
    {
     "data": {
      "image/png": "[encoded data removed]",
      "text/plain": [
       "<Figure size 864x576 with 1 Axes>"
      ]
     },
     "metadata": {
      "needs_background": "light"
     },
     "output_type": "display_data"
    },
    {
     "data": {
      "image/png": "[encoded data removed]",
      "text/plain": [
       "<Figure size 864x576 with 1 Axes>"
      ]
     },
     "metadata": {
      "needs_background": "light"
     },
     "output_type": "display_data"
    }
   ],
   "source": [
    "# model definition\n",
    "knn_model = ng.KNeighborsClassifier( n_neighbors =100 )\n",
    "\n",
    "# model training\n",
    "knn_model.fit( x_train, y_train )\n",
    "\n",
    "# model prediction - Poder de generalização do modelo. \n",
    "yhat_knn = knn_model.predict_proba( x_val )\n",
    "\n",
    "# Accumulative Gain - metrica de ordenação de lista, plot\n",
    "skplt.metrics.plot_cumulative_gain( y_val, yhat_knn).figure.set_size_inches(12, 8);\n",
    "\n",
    "#Scikitplot library is therre to help \n",
    "skplt.metrics.plot_lift_curve( y_val, yhat_knn ).figure.set_size_inches(12, 8);"
   ]
  },
  {
   "cell_type": "markdown",
   "id": "32182083",
   "metadata": {
    "hidden": true
   },
   "source": [
    "> Significado deste plot, (Linha laranja) é a % de pessoas contactadas da lista 'percentage of sample' são necessárias para obter a % de pessoas interessadas 'gain.  Exemplificando, se contatarmos 20% de nossa amostra, alcancaremos pouco mais de 40% das pessoas interessadas. Linha azul é base desordenada e laranja base ordenada."
   ]
  },
  {
   "cell_type": "markdown",
   "id": "060c3a6a",
   "metadata": {
    "ExecuteTime": {
     "end_time": "2022-02-14T15:31:56.697392Z",
     "start_time": "2022-02-14T15:31:56.689912Z"
    },
    "heading_collapsed": true
   },
   "source": [
    "### 7.1.2. Ranking Top k Performance"
   ]
  },
  {
   "cell_type": "code",
   "execution_count": 410,
   "id": "df56915c",
   "metadata": {
    "ExecuteTime": {
     "end_time": "2022-02-18T18:25:46.004614Z",
     "start_time": "2022-02-18T18:25:45.821534Z"
    },
    "hidden": true,
    "hide_input": false
   },
   "outputs": [
    {
     "data": {
      "text/html": [
       "<div>\n",
       "<style scoped>\n",
       "    .dataframe tbody tr th:only-of-type {\n",
       "        vertical-align: middle;\n",
       "    }\n",
       "\n",
       "    .dataframe tbody tr th {\n",
       "        vertical-align: top;\n",
       "    }\n",
       "\n",
       "    .dataframe thead th {\n",
       "        text-align: right;\n",
       "    }\n",
       "</style>\n",
       "<table border=\"1\" class=\"dataframe\">\n",
       "  <thead>\n",
       "    <tr style=\"text-align: right;\">\n",
       "      <th></th>\n",
       "      <th>Precision k</th>\n",
       "      <th>Recall K</th>\n",
       "    </tr>\n",
       "  </thead>\n",
       "  <tbody>\n",
       "    <tr>\n",
       "      <th>5%</th>\n",
       "      <td>0.350735</td>\n",
       "      <td>0.143996</td>\n",
       "    </tr>\n",
       "    <tr>\n",
       "      <th>15%</th>\n",
       "      <td>0.324296</td>\n",
       "      <td>0.399354</td>\n",
       "    </tr>\n",
       "    <tr>\n",
       "      <th>25%</th>\n",
       "      <td>0.304822</td>\n",
       "      <td>0.625633</td>\n",
       "    </tr>\n",
       "    <tr>\n",
       "      <th>40%</th>\n",
       "      <td>0.269531</td>\n",
       "      <td>0.885083</td>\n",
       "    </tr>\n",
       "    <tr>\n",
       "      <th>60%</th>\n",
       "      <td>0.202475</td>\n",
       "      <td>0.997307</td>\n",
       "    </tr>\n",
       "    <tr>\n",
       "      <th>80%</th>\n",
       "      <td>0.152102</td>\n",
       "      <td>0.998923</td>\n",
       "    </tr>\n",
       "  </tbody>\n",
       "</table>\n",
       "</div>"
      ],
      "text/plain": [
       "     Precision k  Recall K\n",
       "5%      0.350735  0.143996\n",
       "15%     0.324296  0.399354\n",
       "25%     0.304822  0.625633\n",
       "40%     0.269531  0.885083\n",
       "60%     0.202475  0.997307\n",
       "80%     0.152102  0.998923"
      ]
     },
     "execution_count": 410,
     "metadata": {},
     "output_type": "execute_result"
    }
   ],
   "source": [
    " # copy dataframe\n",
    "dfknn = x_validation.copy()\n",
    "dfknn['response'] = y_validation.copy()\n",
    "\n",
    "# propensity score\n",
    "dfknn['score'] = yhat_knn[:, 1].tolist()\n",
    "\n",
    "# sort clients by propensity score\n",
    "dfknn = dfknn.sort_values( 'score', ascending=False )\n",
    "\n",
    "#Compute precision at k \n",
    "precision_at_knn_5percent, data = precision_at_k( dfknn, k=round(len(df7) * 0.05) )\n",
    "precision_at_knn_15percent, data = precision_at_k( dfknn, k=round(len(df7) * 0.15) )\n",
    "precision_at_knn_25percent, data = precision_at_k( dfknn, k=round(len(df7) * 0.25) )\n",
    "precision_at_knn_40percent, data = precision_at_k( dfknn, k=round(len(df7) * 0.40) )\n",
    "precision_at_knn_60percent, data = precision_at_k( dfknn, k=round(len(df7) * 0.60) )\n",
    "precision_at_knn_80percent, data = precision_at_k( dfknn, k=round(len(df7) * 0.80) )\n",
    "\n",
    "#precision k table\n",
    "precision_at_knn = [precision_at_knn_5percent, precision_at_knn_15percent, precision_at_knn_25percent,\n",
    "                   precision_at_knn_40percent, precision_at_knn_60percent, precision_at_knn_80percent]\n",
    "\n",
    "percent_k ={0: '5%', 1: '15%', 2: '25%', 3: '40%', 4: '60%', 5: '80%'}\n",
    "\n",
    "#Compute recall at k \n",
    "recall_5percent,  data = recall_at_k( dfknn, k=round(len(df7) * 0.05) )\n",
    "recall_15percent, data = recall_at_k( dfknn, k=round(len(df7) * 0.15) )\n",
    "recall_25percent, data = recall_at_k( dfknn, k=round(len(df7) * 0.25) )\n",
    "recall_40percent, data = recall_at_k( dfknn, k=round(len(df7) * 0.40) )\n",
    "recall_60percent, data = recall_at_k( dfknn, k=round(len(df7) * 0.60) )\n",
    "recall_80percent, data = recall_at_k( dfknn, k=round(len(df7) * 0.80) )\n",
    "\n",
    "#recall k table\n",
    "recall_knn = [recall_5percent, recall_15percent, recall_25percent,\n",
    "                   recall_40percent, recall_60percent, recall_80percent]\n",
    "df_knn_rank_k = pd.DataFrame({'Precision k': precision_at_knn, 'Recall K': recall_knn }).rename(index = percent_k)\n",
    "df_knn_rank_k"
   ]
  },
  {
   "cell_type": "markdown",
   "id": "f39ce274",
   "metadata": {
    "hide_input": true
   },
   "source": [
    "## 7.2 Logistic Regression"
   ]
  },
  {
   "cell_type": "markdown",
   "id": "4e86b698",
   "metadata": {
    "ExecuteTime": {
     "end_time": "2022-02-14T15:24:56.860846Z",
     "start_time": "2022-02-14T15:24:56.858123Z"
    },
    "heading_collapsed": true
   },
   "source": [
    "### 7.2.1. Gain Curve "
   ]
  },
  {
   "cell_type": "code",
   "execution_count": 411,
   "id": "894d4f4c",
   "metadata": {
    "ExecuteTime": {
     "end_time": "2022-02-18T18:25:47.915156Z",
     "start_time": "2022-02-18T18:25:46.006217Z"
    },
    "hidden": true,
    "hide_input": false
   },
   "outputs": [
    {
     "data": {
      "image/png": "[encoded data removed]",
      "text/plain": [
       "<Figure size 864x576 with 1 Axes>"
      ]
     },
     "metadata": {
      "needs_background": "light"
     },
     "output_type": "display_data"
    },
    {
     "data": {
      "image/png": "[encoded data removed]",
      "text/plain": [
       "<Figure size 864x576 with 1 Axes>"
      ]
     },
     "metadata": {
      "needs_background": "light"
     },
     "output_type": "display_data"
    }
   ],
   "source": [
    "# model definition\n",
    "lr_model = lm.LogisticRegression( random_state = 42 )\n",
    "\n",
    "# model training\n",
    "lr_model.fit( x_train, y_train )\n",
    "\n",
    "# model prediction - Poder de generalização do modelo. \n",
    "yhat_lr = lr_model.predict_proba( x_val )\n",
    "\n",
    "# Accumulative Gain - metrica de ordenação de lista, plot\n",
    "skplt.metrics.plot_cumulative_gain( y_val, yhat_lr).figure.set_size_inches(12, 8);\n",
    "\n",
    "#Scikitplot library is therre to help \n",
    "skplt.metrics.plot_lift_curve( y_val, yhat_lr ).figure.set_size_inches(12, 8);"
   ]
  },
  {
   "cell_type": "markdown",
   "id": "63aa0234",
   "metadata": {
    "hidden": true
   },
   "source": [
    "> Os resultados é parecido, porém consegue alcançar 100% da lista com menos pessoas. "
   ]
  },
  {
   "cell_type": "markdown",
   "id": "7b78c72c",
   "metadata": {
    "ExecuteTime": {
     "end_time": "2022-02-14T15:26:47.315090Z",
     "start_time": "2022-02-14T15:26:47.309849Z"
    },
    "heading_collapsed": true
   },
   "source": [
    "### 7.2.2. Ranking Top k Performance"
   ]
  },
  {
   "cell_type": "code",
   "execution_count": 412,
   "id": "d85205fd",
   "metadata": {
    "ExecuteTime": {
     "end_time": "2022-02-18T18:25:48.097232Z",
     "start_time": "2022-02-18T18:25:47.921791Z"
    },
    "hidden": true,
    "hide_input": false
   },
   "outputs": [
    {
     "data": {
      "text/html": [
       "<div>\n",
       "<style scoped>\n",
       "    .dataframe tbody tr th:only-of-type {\n",
       "        vertical-align: middle;\n",
       "    }\n",
       "\n",
       "    .dataframe tbody tr th {\n",
       "        vertical-align: top;\n",
       "    }\n",
       "\n",
       "    .dataframe thead th {\n",
       "        text-align: right;\n",
       "    }\n",
       "</style>\n",
       "<table border=\"1\" class=\"dataframe\">\n",
       "  <thead>\n",
       "    <tr style=\"text-align: right;\">\n",
       "      <th></th>\n",
       "      <th>Precision k</th>\n",
       "      <th>Recall K</th>\n",
       "    </tr>\n",
       "  </thead>\n",
       "  <tbody>\n",
       "    <tr>\n",
       "      <th>5%</th>\n",
       "      <td>0.254460</td>\n",
       "      <td>0.104470</td>\n",
       "    </tr>\n",
       "    <tr>\n",
       "      <th>15%</th>\n",
       "      <td>0.288613</td>\n",
       "      <td>0.355412</td>\n",
       "    </tr>\n",
       "    <tr>\n",
       "      <th>25%</th>\n",
       "      <td>0.266726</td>\n",
       "      <td>0.547442</td>\n",
       "    </tr>\n",
       "    <tr>\n",
       "      <th>40%</th>\n",
       "      <td>0.250574</td>\n",
       "      <td>0.822833</td>\n",
       "    </tr>\n",
       "    <tr>\n",
       "      <th>60%</th>\n",
       "      <td>0.202475</td>\n",
       "      <td>0.997307</td>\n",
       "    </tr>\n",
       "    <tr>\n",
       "      <th>80%</th>\n",
       "      <td>0.152167</td>\n",
       "      <td>0.999354</td>\n",
       "    </tr>\n",
       "  </tbody>\n",
       "</table>\n",
       "</div>"
      ],
      "text/plain": [
       "     Precision k  Recall K\n",
       "5%      0.254460  0.104470\n",
       "15%     0.288613  0.355412\n",
       "25%     0.266726  0.547442\n",
       "40%     0.250574  0.822833\n",
       "60%     0.202475  0.997307\n",
       "80%     0.152167  0.999354"
      ]
     },
     "execution_count": 412,
     "metadata": {},
     "output_type": "execute_result"
    }
   ],
   "source": [
    " # copy dataframe\n",
    "dflr = x_validation.copy()\n",
    "dflr['response'] = y_validation.copy()\n",
    "\n",
    "# propensity score\n",
    "dflr['score'] = yhat_lr[:, 1].tolist()\n",
    "\n",
    "# sort clients by propensity score\n",
    "dflr = dflr.sort_values( 'score', ascending=False )\n",
    "\n",
    "#Compute precision at k \n",
    "precision_at_lr_5percent, data =  precision_at_k( dflr, k=round(len(df7) * 0.05) )\n",
    "precision_at_lr_15percent, data = precision_at_k( dflr, k=round(len(df7) * 0.15) )\n",
    "precision_at_lr_25percent, data = precision_at_k( dflr, k=round(len(df7) * 0.25) )\n",
    "precision_at_lr_40percent, data = precision_at_k( dflr, k=round(len(df7) * 0.40) )\n",
    "precision_at_lr_60percent, data = precision_at_k( dflr, k=round(len(df7) * 0.60) )\n",
    "precision_at_lr_80percent, data = precision_at_k( dflr, k=round(len(df7) * 0.80) )\n",
    "\n",
    "#precision k table\n",
    "precision_at_lr = [precision_at_lr_5percent, precision_at_lr_15percent, precision_at_lr_25percent,\n",
    "                   precision_at_lr_40percent, precision_at_lr_60percent, precision_at_lr_80percent]\n",
    "\n",
    "percent_k ={0: '5%', 1: '15%', 2: '25%', 3: '40%', 4: '60%', 5: '80%'}\n",
    "\n",
    "#Compute recall at k \n",
    "recall_5percent,  data = recall_at_k( dflr, k=round(len(df7) * 0.05) )\n",
    "recall_15percent, data = recall_at_k( dflr, k=round(len(df7) * 0.15) )\n",
    "recall_25percent, data = recall_at_k( dflr, k=round(len(df7) * 0.25) )\n",
    "recall_40percent, data = recall_at_k( dflr, k=round(len(df7) * 0.40) )\n",
    "recall_60percent, data = recall_at_k( dflr, k=round(len(df7) * 0.60) )\n",
    "recall_80percent, data = recall_at_k( dflr, k=round(len(df7) * 0.80) )\n",
    "\n",
    "#recall k table\n",
    "recall_lr = [recall_5percent, recall_15percent, recall_25percent,\n",
    "                   recall_40percent, recall_60percent, recall_80percent]\n",
    "df_lr_rank_k = pd.DataFrame({'Precision k': precision_at_lr, 'Recall K': recall_lr }).rename(index = percent_k)\n",
    "df_lr_rank_k"
   ]
  },
  {
   "cell_type": "markdown",
   "id": "aa31fd0c",
   "metadata": {},
   "source": [
    "## 7.3 Extra Trees"
   ]
  },
  {
   "cell_type": "markdown",
   "id": "7a89a63e",
   "metadata": {
    "heading_collapsed": true
   },
   "source": [
    "### 7.3.1. Gain Curve "
   ]
  },
  {
   "cell_type": "code",
   "execution_count": 413,
   "id": "0e05c014",
   "metadata": {
    "ExecuteTime": {
     "end_time": "2022-02-18T18:26:39.512709Z",
     "start_time": "2022-02-18T18:25:48.098944Z"
    },
    "hidden": true,
    "hide_input": false
   },
   "outputs": [
    {
     "data": {
      "image/png": "[encoded data removed]",
      "text/plain": [
       "<Figure size 864x576 with 1 Axes>"
      ]
     },
     "metadata": {
      "needs_background": "light"
     },
     "output_type": "display_data"
    },
    {
     "data": {
      "image/png": "[encoded data removed]",
      "text/plain": [
       "<Figure size 864x576 with 1 Axes>"
      ]
     },
     "metadata": {
      "needs_background": "light"
     },
     "output_type": "display_data"
    }
   ],
   "source": [
    "#model definition\n",
    "et = en.ExtraTreesClassifier( n_estimators = 1000, n_jobs = -1, random_state = 42, max_depth =6 )\n",
    "\n",
    "#model fit\n",
    "et.fit( x_train, y_train )\n",
    "\n",
    "#model predict\n",
    "yhat_et = et.predict_proba( x_val )\n",
    "\n",
    "# Accumulative Gain\n",
    "skplt.metrics.plot_cumulative_gain( y_val, yhat_et ).figure.set_size_inches(12, 8);\n",
    "\n",
    "#Scikitplot library is therre to help \n",
    "skplt.metrics.plot_lift_curve( y_val, yhat_et ).figure.set_size_inches(12, 8);"
   ]
  },
  {
   "cell_type": "markdown",
   "id": "63d33eb3",
   "metadata": {
    "heading_collapsed": true
   },
   "source": [
    "### 7.3.2. Ranking Top k Performance"
   ]
  },
  {
   "cell_type": "code",
   "execution_count": 414,
   "id": "3c426283",
   "metadata": {
    "ExecuteTime": {
     "end_time": "2022-02-18T18:26:39.686772Z",
     "start_time": "2022-02-18T18:26:39.517722Z"
    },
    "hidden": true,
    "hide_input": false
   },
   "outputs": [
    {
     "data": {
      "text/html": [
       "<div>\n",
       "<style scoped>\n",
       "    .dataframe tbody tr th:only-of-type {\n",
       "        vertical-align: middle;\n",
       "    }\n",
       "\n",
       "    .dataframe tbody tr th {\n",
       "        vertical-align: top;\n",
       "    }\n",
       "\n",
       "    .dataframe thead th {\n",
       "        text-align: right;\n",
       "    }\n",
       "</style>\n",
       "<table border=\"1\" class=\"dataframe\">\n",
       "  <thead>\n",
       "    <tr style=\"text-align: right;\">\n",
       "      <th></th>\n",
       "      <th>Precision k</th>\n",
       "      <th>Recall K</th>\n",
       "    </tr>\n",
       "  </thead>\n",
       "  <tbody>\n",
       "    <tr>\n",
       "      <th>5%</th>\n",
       "      <td>0.348111</td>\n",
       "      <td>0.142919</td>\n",
       "    </tr>\n",
       "    <tr>\n",
       "      <th>15%</th>\n",
       "      <td>0.327357</td>\n",
       "      <td>0.403123</td>\n",
       "    </tr>\n",
       "    <tr>\n",
       "      <th>25%</th>\n",
       "      <td>0.306502</td>\n",
       "      <td>0.629079</td>\n",
       "    </tr>\n",
       "    <tr>\n",
       "      <th>40%</th>\n",
       "      <td>0.270417</td>\n",
       "      <td>0.887991</td>\n",
       "    </tr>\n",
       "    <tr>\n",
       "      <th>60%</th>\n",
       "      <td>0.202585</td>\n",
       "      <td>0.997846</td>\n",
       "    </tr>\n",
       "    <tr>\n",
       "      <th>80%</th>\n",
       "      <td>0.152216</td>\n",
       "      <td>0.999677</td>\n",
       "    </tr>\n",
       "  </tbody>\n",
       "</table>\n",
       "</div>"
      ],
      "text/plain": [
       "     Precision k  Recall K\n",
       "5%      0.348111  0.142919\n",
       "15%     0.327357  0.403123\n",
       "25%     0.306502  0.629079\n",
       "40%     0.270417  0.887991\n",
       "60%     0.202585  0.997846\n",
       "80%     0.152216  0.999677"
      ]
     },
     "execution_count": 414,
     "metadata": {},
     "output_type": "execute_result"
    }
   ],
   "source": [
    " # copy dataframe\n",
    "dfet = x_validation.copy()\n",
    "dfet['response'] = y_validation.copy()\n",
    "\n",
    "# propensity score\n",
    "dfet['score'] = yhat_et[:, 1].tolist()\n",
    "\n",
    "# sort clients by propensity score\n",
    "dfet = dfet.sort_values( 'score', ascending=False )\n",
    "\n",
    "#Compute precision at k \n",
    "precision_at_et_5percent, data =  precision_at_k( dfet, k=round(len(df7) * 0.05) )\n",
    "precision_at_et_15percent, data = precision_at_k( dfet, k=round(len(df7) * 0.15) )\n",
    "precision_at_et_25percent, data = precision_at_k( dfet, k=round(len(df7) * 0.25) )\n",
    "precision_at_et_40percent, data = precision_at_k( dfet, k=round(len(df7) * 0.40) )\n",
    "precision_at_et_60percent, data = precision_at_k( dfet, k=round(len(df7) * 0.60) )\n",
    "precision_at_et_80percent, data = precision_at_k( dfet, k=round(len(df7) * 0.80) )\n",
    "\n",
    "#precision k table\n",
    "precision_at_et = [precision_at_et_5percent, precision_at_et_15percent, precision_at_et_25percent,\n",
    "                   precision_at_et_40percent, precision_at_et_60percent, precision_at_et_80percent]\n",
    "\n",
    "percent_k ={0: '5%', 1: '15%', 2: '25%', 3: '40%', 4: '60%', 5: '80%'}\n",
    "\n",
    "#Compute recall at k \n",
    "recall_5percent,  data = recall_at_k( dfet, k=round(len(df7) * 0.05) )\n",
    "recall_15percent, data = recall_at_k( dfet, k=round(len(df7) * 0.15) )\n",
    "recall_25percent, data = recall_at_k( dfet, k=round(len(df7) * 0.25) )\n",
    "recall_40percent, data = recall_at_k( dfet, k=round(len(df7) * 0.40) )\n",
    "recall_60percent, data = recall_at_k( dfet, k=round(len(df7) * 0.60) )\n",
    "recall_80percent, data = recall_at_k( dfet, k=round(len(df7) * 0.80) )\n",
    "\n",
    "#recall k table\n",
    "recall_et = [recall_5percent, recall_15percent, recall_25percent,\n",
    "                   recall_40percent, recall_60percent, recall_80percent]\n",
    "\n",
    "df_et_rank_k = pd.DataFrame({'Precision k': precision_at_et, 'Recall K': recall_et }).rename(index = percent_k)\n",
    "df_et_rank_k"
   ]
  },
  {
   "cell_type": "markdown",
   "id": "eff4f59b",
   "metadata": {},
   "source": [
    "## 7.4 Random Forest"
   ]
  },
  {
   "cell_type": "markdown",
   "id": "aaf22d7e",
   "metadata": {
    "heading_collapsed": true
   },
   "source": [
    "### 7.4.1. Gain Curve "
   ]
  },
  {
   "cell_type": "code",
   "execution_count": 415,
   "id": "86095765",
   "metadata": {
    "ExecuteTime": {
     "end_time": "2022-02-18T18:28:24.456718Z",
     "start_time": "2022-02-18T18:26:39.688296Z"
    },
    "hidden": true,
    "hide_input": true
   },
   "outputs": [
    {
     "data": {
      "image/png": "[encoded data removed]",
      "text/plain": [
       "<Figure size 864x576 with 1 Axes>"
      ]
     },
     "metadata": {
      "needs_background": "light"
     },
     "output_type": "display_data"
    },
    {
     "data": {
      "image/png": "[encoded data removed]",
      "text/plain": [
       "<Figure size 864x576 with 1 Axes>"
      ]
     },
     "metadata": {
      "needs_background": "light"
     },
     "output_type": "display_data"
    }
   ],
   "source": [
    "#model definition\n",
    "rf = en.RandomForestClassifier( n_estimators = 1000, n_jobs=-1, random_state = 42, max_depth = 6 )\n",
    "\n",
    "# model training\n",
    "rf.fit( x_train, y_train )\n",
    "\n",
    "#model prediction\n",
    "yhat_rf = rf.predict_proba( x_val )\n",
    "\n",
    "# Accumulative Gain\n",
    "skplt.metrics.plot_cumulative_gain( y_val, yhat_rf ).figure.set_size_inches(12, 8);\n",
    "\n",
    "#Scikitplot library is therre to help \n",
    "skplt.metrics.plot_lift_curve( y_val, yhat_rf ).figure.set_size_inches(12, 8);"
   ]
  },
  {
   "cell_type": "markdown",
   "id": "e1b24ca7",
   "metadata": {
    "ExecuteTime": {
     "end_time": "2022-02-15T17:15:08.208453Z",
     "start_time": "2022-02-15T17:15:08.201503Z"
    },
    "heading_collapsed": true
   },
   "source": [
    "### 7.4.2. Ranking Top k Performance"
   ]
  },
  {
   "cell_type": "code",
   "execution_count": 416,
   "id": "023fddf4",
   "metadata": {
    "ExecuteTime": {
     "end_time": "2022-02-18T18:28:24.621532Z",
     "start_time": "2022-02-18T18:28:24.460120Z"
    },
    "hidden": true,
    "hide_input": false
   },
   "outputs": [
    {
     "data": {
      "text/html": [
       "<div>\n",
       "<style scoped>\n",
       "    .dataframe tbody tr th:only-of-type {\n",
       "        vertical-align: middle;\n",
       "    }\n",
       "\n",
       "    .dataframe tbody tr th {\n",
       "        vertical-align: top;\n",
       "    }\n",
       "\n",
       "    .dataframe thead th {\n",
       "        text-align: right;\n",
       "    }\n",
       "</style>\n",
       "<table border=\"1\" class=\"dataframe\">\n",
       "  <thead>\n",
       "    <tr style=\"text-align: right;\">\n",
       "      <th></th>\n",
       "      <th>Precision k</th>\n",
       "      <th>Recall K</th>\n",
       "    </tr>\n",
       "  </thead>\n",
       "  <tbody>\n",
       "    <tr>\n",
       "      <th>5%</th>\n",
       "      <td>0.359391</td>\n",
       "      <td>0.147550</td>\n",
       "    </tr>\n",
       "    <tr>\n",
       "      <th>15%</th>\n",
       "      <td>0.333479</td>\n",
       "      <td>0.410662</td>\n",
       "    </tr>\n",
       "    <tr>\n",
       "      <th>25%</th>\n",
       "      <td>0.312116</td>\n",
       "      <td>0.640603</td>\n",
       "    </tr>\n",
       "    <tr>\n",
       "      <th>40%</th>\n",
       "      <td>0.271335</td>\n",
       "      <td>0.891007</td>\n",
       "    </tr>\n",
       "    <tr>\n",
       "      <th>60%</th>\n",
       "      <td>0.202628</td>\n",
       "      <td>0.998061</td>\n",
       "    </tr>\n",
       "    <tr>\n",
       "      <th>80%</th>\n",
       "      <td>0.152216</td>\n",
       "      <td>0.999677</td>\n",
       "    </tr>\n",
       "  </tbody>\n",
       "</table>\n",
       "</div>"
      ],
      "text/plain": [
       "     Precision k  Recall K\n",
       "5%      0.359391  0.147550\n",
       "15%     0.333479  0.410662\n",
       "25%     0.312116  0.640603\n",
       "40%     0.271335  0.891007\n",
       "60%     0.202628  0.998061\n",
       "80%     0.152216  0.999677"
      ]
     },
     "execution_count": 416,
     "metadata": {},
     "output_type": "execute_result"
    }
   ],
   "source": [
    " # copy dataframe\n",
    "dfk = x_validation.copy()\n",
    "dfk['response'] = y_validation.copy()\n",
    "\n",
    "# propensity score\n",
    "dfk['score'] = yhat_rf[:, 1].tolist()\n",
    "\n",
    "# sort clients by propensity score\n",
    "dfk = dfk.sort_values( 'score', ascending=False )\n",
    "\n",
    "#Compute precision at k \n",
    "precision_5percent, data =  precision_at_k( dfk, k=round(len(df7) * 0.05) )\n",
    "precision_15percent, data = precision_at_k( dfk, k=round(len(df7) * 0.15) )\n",
    "precision_25percent, data = precision_at_k( dfk, k=round(len(df7) * 0.25) )\n",
    "precision_40percent, data = precision_at_k( dfk, k=round(len(df7) * 0.40) )\n",
    "precision_60percent, data = precision_at_k( dfk, k=round(len(df7) * 0.60) )\n",
    "precision_80percent, data = precision_at_k( dfk, k=round(len(df7) * 0.80) )\n",
    "\n",
    "#precision k table\n",
    "precision_at_rf = [precision_5percent, precision_15percent, precision_25percent,\n",
    "                   precision_40percent, precision_60percent, precision_80percent]\n",
    "\n",
    "percent_k ={0: '5%', 1: '15%', 2: '25%', 3: '40%', 4: '60%', 5: '80%'}\n",
    "\n",
    "#Compute recall at k \n",
    "recall_5percent,  data = recall_at_k( dfk, k=round(len(df7) * 0.05) )\n",
    "recall_15percent, data = recall_at_k( dfk, k=round(len(df7) * 0.15) )\n",
    "recall_25percent, data = recall_at_k( dfk, k=round(len(df7) * 0.25) )\n",
    "recall_40percent, data = recall_at_k( dfk, k=round(len(df7) * 0.40) )\n",
    "recall_60percent, data = recall_at_k( dfk, k=round(len(df7) * 0.60) )\n",
    "recall_80percent, data = recall_at_k( dfk, k=round(len(df7) * 0.80) )\n",
    "\n",
    "#recall k table\n",
    "recall_rf = [recall_5percent, recall_15percent, recall_25percent,\n",
    "                   recall_40percent, recall_60percent, recall_80percent]\n",
    "\n",
    "df_rf_rank_k = pd.DataFrame({'Precision k': precision_at_rf, 'Recall K': recall_rf }).rename(index = percent_k)\n",
    "df_rf_rank_k"
   ]
  },
  {
   "cell_type": "markdown",
   "id": "f581041c",
   "metadata": {},
   "source": [
    "## 7.5. Xgboost Classifier"
   ]
  },
  {
   "cell_type": "markdown",
   "id": "28158e64",
   "metadata": {
    "ExecuteTime": {
     "end_time": "2022-02-15T17:30:19.965044Z",
     "start_time": "2022-02-15T17:30:19.956895Z"
    },
    "heading_collapsed": true
   },
   "source": [
    "### 7.5.1. Gain Curve "
   ]
  },
  {
   "cell_type": "code",
   "execution_count": 417,
   "id": "337fd371",
   "metadata": {
    "ExecuteTime": {
     "end_time": "2022-02-18T18:28:52.281315Z",
     "start_time": "2022-02-18T18:28:24.625117Z"
    },
    "hidden": true,
    "hide_input": false
   },
   "outputs": [
    {
     "data": {
      "image/png": "[encoded data removed]",
      "text/plain": [
       "<Figure size 864x576 with 1 Axes>"
      ]
     },
     "metadata": {
      "needs_background": "light"
     },
     "output_type": "display_data"
    },
    {
     "data": {
      "image/png": "[encoded data removed]",
      "text/plain": [
       "<Figure size 864x576 with 1 Axes>"
      ]
     },
     "metadata": {
      "needs_background": "light"
     },
     "output_type": "display_data"
    }
   ],
   "source": [
    "#model definition\n",
    "xgb = XGBClassifier(n_estimators = 200,\n",
    "                              max_depth = 6,\n",
    "                              scale_pos_weight = 1,\n",
    "                              n_jobs = -1,\n",
    "                              disable_default_eval_metric = 1\n",
    "                              \n",
    "                   )\n",
    "                   \n",
    "\n",
    "# model training\n",
    "xgb.fit( x_train, y_train )\n",
    "\n",
    "#model prediction\n",
    "yhat_xgb = xgb.predict_proba( x_val )\n",
    "\n",
    "# Accumulative Gain\n",
    "skplt.metrics.plot_cumulative_gain( y_val, yhat_xgb).figure.set_size_inches(12, 8);\n",
    "\n",
    "#Scikitplot library is therre to help \n",
    "skplt.metrics.plot_lift_curve( y_val, yhat_xgb ).figure.set_size_inches(12, 8);"
   ]
  },
  {
   "cell_type": "markdown",
   "id": "07670114",
   "metadata": {
    "heading_collapsed": true
   },
   "source": [
    "### 7.5.2. Ranking Top k Performance"
   ]
  },
  {
   "cell_type": "code",
   "execution_count": 418,
   "id": "f8615d1b",
   "metadata": {
    "ExecuteTime": {
     "end_time": "2022-02-18T18:28:52.443830Z",
     "start_time": "2022-02-18T18:28:52.284082Z"
    },
    "hidden": true,
    "hide_input": false
   },
   "outputs": [
    {
     "data": {
      "text/html": [
       "<div>\n",
       "<style scoped>\n",
       "    .dataframe tbody tr th:only-of-type {\n",
       "        vertical-align: middle;\n",
       "    }\n",
       "\n",
       "    .dataframe tbody tr th {\n",
       "        vertical-align: top;\n",
       "    }\n",
       "\n",
       "    .dataframe thead th {\n",
       "        text-align: right;\n",
       "    }\n",
       "</style>\n",
       "<table border=\"1\" class=\"dataframe\">\n",
       "  <thead>\n",
       "    <tr style=\"text-align: right;\">\n",
       "      <th></th>\n",
       "      <th>Precision k</th>\n",
       "      <th>Recall K</th>\n",
       "    </tr>\n",
       "  </thead>\n",
       "  <tbody>\n",
       "    <tr>\n",
       "      <th>5%</th>\n",
       "      <td>0.368048</td>\n",
       "      <td>0.151104</td>\n",
       "    </tr>\n",
       "    <tr>\n",
       "      <th>15%</th>\n",
       "      <td>0.332692</td>\n",
       "      <td>0.409693</td>\n",
       "    </tr>\n",
       "    <tr>\n",
       "      <th>25%</th>\n",
       "      <td>0.314845</td>\n",
       "      <td>0.646204</td>\n",
       "    </tr>\n",
       "    <tr>\n",
       "      <th>40%</th>\n",
       "      <td>0.272909</td>\n",
       "      <td>0.896177</td>\n",
       "    </tr>\n",
       "    <tr>\n",
       "      <th>60%</th>\n",
       "      <td>0.202606</td>\n",
       "      <td>0.997954</td>\n",
       "    </tr>\n",
       "    <tr>\n",
       "      <th>80%</th>\n",
       "      <td>0.152069</td>\n",
       "      <td>0.998708</td>\n",
       "    </tr>\n",
       "  </tbody>\n",
       "</table>\n",
       "</div>"
      ],
      "text/plain": [
       "     Precision k  Recall K\n",
       "5%      0.368048  0.151104\n",
       "15%     0.332692  0.409693\n",
       "25%     0.314845  0.646204\n",
       "40%     0.272909  0.896177\n",
       "60%     0.202606  0.997954\n",
       "80%     0.152069  0.998708"
      ]
     },
     "execution_count": 418,
     "metadata": {},
     "output_type": "execute_result"
    }
   ],
   "source": [
    " # copy dataframe\n",
    "dfk = x_validation.copy()\n",
    "dfk['response'] = y_validation.copy()\n",
    "\n",
    "# propensity score\n",
    "dfk['score'] = yhat_xgb[:, 1].tolist()\n",
    "\n",
    "# sort clients by propensity score\n",
    "dfk = dfk.sort_values( 'score', ascending=False )\n",
    "\n",
    "#Compute precision at k \n",
    "precision_5percent, data =  precision_at_k( dfk, k=round(len(df7) * 0.05) )\n",
    "precision_15percent, data = precision_at_k( dfk, k=round(len(df7) * 0.15) )\n",
    "precision_25percent, data = precision_at_k( dfk, k=round(len(df7) * 0.25) )\n",
    "precision_40percent, data = precision_at_k( dfk, k=round(len(df7) * 0.40) )\n",
    "precision_60percent, data = precision_at_k( dfk, k=round(len(df7) * 0.60) )\n",
    "precision_80percent, data = precision_at_k( dfk, k=round(len(df7) * 0.80) )\n",
    "\n",
    "#precision k table\n",
    "precision_at_xgb = [precision_5percent, precision_15percent, precision_25percent,\n",
    "                   precision_40percent, precision_60percent, precision_80percent]\n",
    "\n",
    "percent_k ={0: '5%', 1: '15%', 2: '25%', 3: '40%', 4: '60%', 5: '80%'}\n",
    "\n",
    "#Compute recall at k \n",
    "recall_5percent,  data = recall_at_k( dfk, k=round(len(df7) * 0.05) )\n",
    "recall_15percent, data = recall_at_k( dfk, k=round(len(df7) * 0.15) )\n",
    "recall_25percent, data = recall_at_k( dfk, k=round(len(df7) * 0.25) )\n",
    "recall_40percent, data = recall_at_k( dfk, k=round(len(df7) * 0.40) )\n",
    "recall_60percent, data = recall_at_k( dfk, k=round(len(df7) * 0.60) )\n",
    "recall_80percent, data = recall_at_k( dfk, k=round(len(df7) * 0.80) )\n",
    "\n",
    "#recall k table\n",
    "recall_xgb = [recall_5percent, recall_15percent, recall_25percent,\n",
    "                   recall_40percent, recall_60percent, recall_80percent]\n",
    "\n",
    "df_xgb_rank_k = pd.DataFrame({'Precision k': precision_at_xgb, 'Recall K': recall_xgb }).rename(index = percent_k)\n",
    "df_xgb_rank_k"
   ]
  },
  {
   "cell_type": "markdown",
   "id": "d1c4f36c",
   "metadata": {
    "heading_collapsed": true
   },
   "source": [
    "## 7.6. Comparation Models"
   ]
  },
  {
   "cell_type": "markdown",
   "id": "36dea08f",
   "metadata": {
    "ExecuteTime": {
     "end_time": "2022-02-15T22:34:24.079804Z",
     "start_time": "2022-02-15T22:34:24.075951Z"
    },
    "hidden": true
   },
   "source": [
    "### 7.6.1. Performance Models Gain Curv"
   ]
  },
  {
   "cell_type": "markdown",
   "id": "fe1fab37",
   "metadata": {
    "ExecuteTime": {
     "end_time": "2022-02-15T21:37:54.582949Z",
     "start_time": "2022-02-15T21:37:54.576360Z"
    },
    "heading_collapsed": true,
    "hidden": true
   },
   "source": [
    "### 7.6.2. Performance Models Precision K"
   ]
  },
  {
   "cell_type": "code",
   "execution_count": 419,
   "id": "2846e1c4",
   "metadata": {
    "ExecuteTime": {
     "end_time": "2022-02-18T18:28:52.463595Z",
     "start_time": "2022-02-18T18:28:52.445550Z"
    },
    "hidden": true,
    "hide_input": true
   },
   "outputs": [
    {
     "data": {
      "text/html": [
       "<div>\n",
       "<style scoped>\n",
       "    .dataframe tbody tr th:only-of-type {\n",
       "        vertical-align: middle;\n",
       "    }\n",
       "\n",
       "    .dataframe tbody tr th {\n",
       "        vertical-align: top;\n",
       "    }\n",
       "\n",
       "    .dataframe thead th {\n",
       "        text-align: right;\n",
       "    }\n",
       "</style>\n",
       "<table border=\"1\" class=\"dataframe\">\n",
       "  <thead>\n",
       "    <tr style=\"text-align: right;\">\n",
       "      <th></th>\n",
       "      <th>KNN</th>\n",
       "      <th>Logistic Regression</th>\n",
       "      <th>Extra Trees</th>\n",
       "      <th>Random Forest</th>\n",
       "      <th>Xgboost Classifier</th>\n",
       "    </tr>\n",
       "  </thead>\n",
       "  <tbody>\n",
       "    <tr>\n",
       "      <th>5%</th>\n",
       "      <td>0.350735</td>\n",
       "      <td>0.254460</td>\n",
       "      <td>0.348111</td>\n",
       "      <td>0.359391</td>\n",
       "      <td>0.368048</td>\n",
       "    </tr>\n",
       "    <tr>\n",
       "      <th>15%</th>\n",
       "      <td>0.324296</td>\n",
       "      <td>0.288613</td>\n",
       "      <td>0.327357</td>\n",
       "      <td>0.333479</td>\n",
       "      <td>0.332692</td>\n",
       "    </tr>\n",
       "    <tr>\n",
       "      <th>25%</th>\n",
       "      <td>0.304822</td>\n",
       "      <td>0.266726</td>\n",
       "      <td>0.306502</td>\n",
       "      <td>0.312116</td>\n",
       "      <td>0.314845</td>\n",
       "    </tr>\n",
       "    <tr>\n",
       "      <th>40%</th>\n",
       "      <td>0.269531</td>\n",
       "      <td>0.250574</td>\n",
       "      <td>0.270417</td>\n",
       "      <td>0.271335</td>\n",
       "      <td>0.272909</td>\n",
       "    </tr>\n",
       "    <tr>\n",
       "      <th>60%</th>\n",
       "      <td>0.202475</td>\n",
       "      <td>0.202475</td>\n",
       "      <td>0.202585</td>\n",
       "      <td>0.202628</td>\n",
       "      <td>0.202606</td>\n",
       "    </tr>\n",
       "    <tr>\n",
       "      <th>80%</th>\n",
       "      <td>0.152102</td>\n",
       "      <td>0.152167</td>\n",
       "      <td>0.152216</td>\n",
       "      <td>0.152216</td>\n",
       "      <td>0.152069</td>\n",
       "    </tr>\n",
       "  </tbody>\n",
       "</table>\n",
       "</div>"
      ],
      "text/plain": [
       "          KNN  Logistic Regression  Extra Trees  Random Forest  \\\n",
       "5%   0.350735             0.254460     0.348111       0.359391   \n",
       "15%  0.324296             0.288613     0.327357       0.333479   \n",
       "25%  0.304822             0.266726     0.306502       0.312116   \n",
       "40%  0.269531             0.250574     0.270417       0.271335   \n",
       "60%  0.202475             0.202475     0.202585       0.202628   \n",
       "80%  0.152102             0.152167     0.152216       0.152216   \n",
       "\n",
       "     Xgboost Classifier  \n",
       "5%             0.368048  \n",
       "15%            0.332692  \n",
       "25%            0.314845  \n",
       "40%            0.272909  \n",
       "60%            0.202606  \n",
       "80%            0.152069  "
      ]
     },
     "execution_count": 419,
     "metadata": {},
     "output_type": "execute_result"
    }
   ],
   "source": [
    "#names columns\n",
    "name_models ={0: 'KNN', 1: 'Logistic Regression', 2: 'Extra Trees', 3: 'Random Forest', 4: 'Xgboost Classifier'}\n",
    "\n",
    "#result precisions k models\n",
    "models_precision_k = [precision_at_knn, precision_at_lr,  precision_at_et, precision_at_rf, precision_at_xgb ]\n",
    "\n",
    "#dataframe precisions k models comparation\n",
    "df_comparation_precision_k = pd.DataFrame(models_precision_k ).T.rename(index=percent_k, columns = name_models)\n",
    "df_comparation_precision_k"
   ]
  },
  {
   "cell_type": "markdown",
   "id": "db0af4d5",
   "metadata": {
    "hidden": true
   },
   "source": [
    "> Analisando a tabela com a precision K dos modelos, conseguimos perceber que os modelos KNN e Logistic Regression, tiveram um desempenho um puco a baixo dos outros modelos. Já a Extra Trees, Random Forest e Xgbosst, tiveram um desemepenho semelhante acima de 25%. A Xgboost conseguiu desempenho superior desde os primeiros dados organizados, nas faixas inferiores a 25%"
   ]
  },
  {
   "cell_type": "markdown",
   "id": "284ac0f7",
   "metadata": {
    "ExecuteTime": {
     "end_time": "2022-02-15T22:17:25.846835Z",
     "start_time": "2022-02-15T22:17:25.842777Z"
    },
    "heading_collapsed": true,
    "hidden": true
   },
   "source": [
    "### 7.6.3. Performance Models Recall K"
   ]
  },
  {
   "cell_type": "code",
   "execution_count": 420,
   "id": "589a3bce",
   "metadata": {
    "ExecuteTime": {
     "end_time": "2022-02-18T18:28:52.491269Z",
     "start_time": "2022-02-18T18:28:52.470398Z"
    },
    "hidden": true,
    "hide_input": true,
    "scrolled": true
   },
   "outputs": [
    {
     "data": {
      "text/html": [
       "<div>\n",
       "<style scoped>\n",
       "    .dataframe tbody tr th:only-of-type {\n",
       "        vertical-align: middle;\n",
       "    }\n",
       "\n",
       "    .dataframe tbody tr th {\n",
       "        vertical-align: top;\n",
       "    }\n",
       "\n",
       "    .dataframe thead th {\n",
       "        text-align: right;\n",
       "    }\n",
       "</style>\n",
       "<table border=\"1\" class=\"dataframe\">\n",
       "  <thead>\n",
       "    <tr style=\"text-align: right;\">\n",
       "      <th></th>\n",
       "      <th>KNN</th>\n",
       "      <th>Logistic Regression</th>\n",
       "      <th>Extra Trees</th>\n",
       "      <th>Random Forest</th>\n",
       "      <th>Xgboost Classifier</th>\n",
       "    </tr>\n",
       "  </thead>\n",
       "  <tbody>\n",
       "    <tr>\n",
       "      <th>5%</th>\n",
       "      <td>0.143996</td>\n",
       "      <td>0.104470</td>\n",
       "      <td>0.142919</td>\n",
       "      <td>0.147550</td>\n",
       "      <td>0.151104</td>\n",
       "    </tr>\n",
       "    <tr>\n",
       "      <th>15%</th>\n",
       "      <td>0.399354</td>\n",
       "      <td>0.355412</td>\n",
       "      <td>0.403123</td>\n",
       "      <td>0.410662</td>\n",
       "      <td>0.409693</td>\n",
       "    </tr>\n",
       "    <tr>\n",
       "      <th>25%</th>\n",
       "      <td>0.625633</td>\n",
       "      <td>0.547442</td>\n",
       "      <td>0.629079</td>\n",
       "      <td>0.640603</td>\n",
       "      <td>0.646204</td>\n",
       "    </tr>\n",
       "    <tr>\n",
       "      <th>40%</th>\n",
       "      <td>0.885083</td>\n",
       "      <td>0.822833</td>\n",
       "      <td>0.887991</td>\n",
       "      <td>0.891007</td>\n",
       "      <td>0.896177</td>\n",
       "    </tr>\n",
       "    <tr>\n",
       "      <th>60%</th>\n",
       "      <td>0.997307</td>\n",
       "      <td>0.997307</td>\n",
       "      <td>0.997846</td>\n",
       "      <td>0.998061</td>\n",
       "      <td>0.997954</td>\n",
       "    </tr>\n",
       "    <tr>\n",
       "      <th>80%</th>\n",
       "      <td>0.998923</td>\n",
       "      <td>0.999354</td>\n",
       "      <td>0.999677</td>\n",
       "      <td>0.999677</td>\n",
       "      <td>0.998708</td>\n",
       "    </tr>\n",
       "  </tbody>\n",
       "</table>\n",
       "</div>"
      ],
      "text/plain": [
       "          KNN  Logistic Regression  Extra Trees  Random Forest  \\\n",
       "5%   0.143996             0.104470     0.142919       0.147550   \n",
       "15%  0.399354             0.355412     0.403123       0.410662   \n",
       "25%  0.625633             0.547442     0.629079       0.640603   \n",
       "40%  0.885083             0.822833     0.887991       0.891007   \n",
       "60%  0.997307             0.997307     0.997846       0.998061   \n",
       "80%  0.998923             0.999354     0.999677       0.999677   \n",
       "\n",
       "     Xgboost Classifier  \n",
       "5%             0.151104  \n",
       "15%            0.409693  \n",
       "25%            0.646204  \n",
       "40%            0.896177  \n",
       "60%            0.997954  \n",
       "80%            0.998708  "
      ]
     },
     "execution_count": 420,
     "metadata": {},
     "output_type": "execute_result"
    }
   ],
   "source": [
    "#result precisions k models\n",
    "models_recall_k = [recall_knn, recall_lr,  recall_et, recall_rf, recall_xgb ]\n",
    "\n",
    "#dataframe precisions k models comparation\n",
    "df_comparation_recall_k = pd.DataFrame(models_recall_k ).T.rename(index=percent_k, columns = name_models)\n",
    "df_comparation_recall_k"
   ]
  },
  {
   "cell_type": "markdown",
   "id": "9733b092",
   "metadata": {
    "ExecuteTime": {
     "end_time": "2022-02-15T22:11:40.297539Z",
     "start_time": "2022-02-15T22:11:40.291450Z"
    },
    "hidden": true
   },
   "source": [
    "> Analisando a tabela de Recall k, novamente o desempenho de KNN e da Logistic Regression. Os outros 3 modelos novamente apresentaram desempenho semelhante no recall, com o Xgboost conseguindo um desempenho levemente melhor. \n",
    "\n"
   ]
  },
  {
   "cell_type": "markdown",
   "id": "72e85287",
   "metadata": {
    "heading_collapsed": true
   },
   "source": [
    "# 8.0. HYPERPARAMETER FINE TUNING"
   ]
  },
  {
   "cell_type": "markdown",
   "id": "1c057815",
   "metadata": {
    "hidden": true
   },
   "source": [
    "> Após analizar as performances iniciais dos modelos seguindo as métricas de Precision K e Recall K, o Xgboost Classifier, obteve um melhor resultado, levando ainda em consideração que é um algoritmo não tão pessado como a Random Forest e com uma boa quantidade de parametros para serem melhorados, neste primeiro teste de Crisp, resolvei seguir com este algoritmo. "
   ]
  },
  {
   "cell_type": "markdown",
   "id": "977a944c",
   "metadata": {
    "hidden": true
   },
   "source": [
    ">Boost Parameters:\n",
    "\n",
    "    - eta [default=0.3], diminui o peso em cada etapa, tornando o peso mais robusto.\n",
    "    - max_depth [default=6], profundidade máxima da arvore, usado para controlar o ajuste excessivo, pois uma profundidade maior permitirá que o modelo aprenda relações muito específicas para uma amostra específica.\n",
    "    - subsample [default=1],  fração de observações a serem amostras aleatórias para cada árvore.Valores mais baixos tornam o algoritmo mais conservador e evitam overfitting, mas valores muito pequenos podem levar a underfitting.\n",
    "    - colsample_bytree [default=1], fração de colunas a serem amostras aleatórias para cada árvore.\n",
    "    - min_child_weight [default=1], Define a soma mínima dos pesos de todas as observações necessárias em um filho. Usado para controlar o ajuste excessivo. Valores mais altos impedem que um modelo aprenda relações que podem ser altamente específicas para a amostra específica selecionada para uma árvore\n"
   ]
  },
  {
   "cell_type": "markdown",
   "id": "f68ccb52",
   "metadata": {
    "hidden": true
   },
   "source": [
    "## 8.1. Random Search - Hyperparameters XGBClassifier"
   ]
  },
  {
   "cell_type": "markdown",
   "id": "f02cc22d",
   "metadata": {
    "hidden": true
   },
   "source": [
    "- Para este primeiro ciclo de crisp iremos usar o Random Search, por ser rápido e fácil implementação. "
   ]
  },
  {
   "cell_type": "code",
   "execution_count": 421,
   "id": "a6965bf9",
   "metadata": {
    "ExecuteTime": {
     "end_time": "2022-02-18T18:28:52.504301Z",
     "start_time": "2022-02-18T18:28:52.495049Z"
    },
    "hidden": true
   },
   "outputs": [],
   "source": [
    "param = {'n_estimators'    : [ 1000, 1500, 1700, 3000, 3500],\n",
    "        'eta'              : [0.01, 0.05, 0.1],\n",
    "        'max_depth'        : [3, 5, 9],\n",
    "        'subsample'        : [0.5, 0.7, 1],\n",
    "        'colsample_bytree' : [0.5, 0.7, 1],\n",
    "        'min_child_weight' : [1, 3, 8, 15]\n",
    "        }\n",
    "\n",
    "MAX_EVAL = 20\n",
    "\n"
   ]
  },
  {
   "cell_type": "code",
   "execution_count": 422,
   "id": "5645c9c8",
   "metadata": {
    "ExecuteTime": {
     "end_time": "2022-02-18T18:28:52.517763Z",
     "start_time": "2022-02-18T18:28:52.509738Z"
    },
    "hidden": true,
    "hide_input": false
   },
   "outputs": [],
   "source": [
    "#final_result = pd.DataFrame()\n",
    "#for i in range( MAX_EVAL ):\n",
    "#    #choose values for parameters randomly\n",
    "#    hp = { k: random.sample(v, 1)[0] for k, v in param.items() }\n",
    "#    print( hp )\n",
    "#    \n",
    "#    #model \n",
    "#    xgb = XGBClassifier(n_estimators           = hp['n_estimators'],\n",
    "#                              eta              = hp['eta'],\n",
    "#                              max_depth        = hp['max_depth'],\n",
    "#                              subsample        = hp['subsample'],\n",
    "#                              colsample_bytree = hp['colsample_bytree'],\n",
    "#                              min_child_weight = hp['min_child_weight'],\n",
    "#                              n_jobs = -1,\n",
    "#                              disable_default_eval_metric = 1\n",
    "#                              \n",
    "#                   )\n",
    "#    \n",
    "#    # model training\n",
    "#    xgb.fit( x_train, y_train )\n",
    "#\n",
    "#    #model prediction\n",
    "#    yhat_xgb = xgb.predict_proba( x_val )\n",
    "#       \n",
    "#    \n",
    "#    \n",
    "#     # copy dataframe\n",
    "#    dfk = x_validation.copy()\n",
    "#    dfk['response'] = y_validation.copy()\n",
    "#\n",
    "#    # propensity score\n",
    "#    dfk['score'] = yhat_xgb[:, 1].tolist()\n",
    "#    \n",
    "#    # sort clients by propensity score\n",
    "#    dfk = dfk.sort_values( 'score', ascending=False )                              \n",
    "                          \n",
    "    #performance\n",
    "#    print('Precision K: ')\n",
    "    #Compute precision at k \n",
    "#    precision_5percent, data =  precision_at_k( dfk, k=round(len(df7) * 0.05) )\n",
    "#    print('5%:', precision_5percent)\n",
    "#    precision_15percent, data = precision_at_k( dfk, k=round(len(df7) * 0.15) )\n",
    "#    print('15%:', precision_15percent)\n",
    "#    precision_25percent, data = precision_at_k( dfk, k=round(len(df7) * 0.25) )\n",
    "#    print('25%:', precision_25percent)\n",
    "#    precision_40percent, data = precision_at_k( dfk, k=round(len(df7) * 0.40) )\n",
    "#    print('40%:', precision_40percent)\n",
    "    \n",
    "#    print('Recall K: ')   \n",
    "#    recall_5percent,  data = recall_at_k( dfk, k=round(len(df7) * 0.05) )\n",
    "#    print('5%:', recall_5percent)\n",
    "#    recall_15percent, data = recall_at_k( dfk, k=round(len(df7) * 0.15) )\n",
    "#    print('10%', recall_15percent)\n",
    "#    recall_25percent, data = recall_at_k( dfk, k=round(len(df7) * 0.25) )\n",
    "#    print('25%:', recall_25percent)\n",
    "#    recall_40percent, data = recall_at_k( dfk, k=round(len(df7) * 0.40) )\n",
    "#    print('40%', recall_40percent)\n",
    "\n",
    "    #Compute recall at k \n",
    "   \n",
    "\n",
    " #    recall_k, data = recall_at_k( dfk, k=round(len(df7) * 0.2) )\n",
    "#    print('recall k:', recall_k)\n",
    "                            \n",
    "                   "
   ]
  },
  {
   "cell_type": "markdown",
   "id": "67638a91",
   "metadata": {
    "hidden": true
   },
   "source": [
    "## 8.2. Performance Final Models Gain Curv (data train)"
   ]
  },
  {
   "cell_type": "code",
   "execution_count": 423,
   "id": "4cbecde3",
   "metadata": {
    "ExecuteTime": {
     "end_time": "2022-02-18T18:30:10.232560Z",
     "start_time": "2022-02-18T18:28:52.522622Z"
    },
    "hidden": true,
    "hide_input": false
   },
   "outputs": [
    {
     "data": {
      "image/png": "[encoded data removed]",
      "text/plain": [
       "<Figure size 864x576 with 1 Axes>"
      ]
     },
     "metadata": {
      "needs_background": "light"
     },
     "output_type": "display_data"
    },
    {
     "data": {
      "image/png": "[encoded data removed]",
      "text/plain": [
       "<Figure size 864x576 with 1 Axes>"
      ]
     },
     "metadata": {
      "needs_background": "light"
     },
     "output_type": "display_data"
    }
   ],
   "source": [
    "#final parameters model\n",
    "param_tuning = {'n_estimators': 1700, \n",
    "                'eta': 0.05, \n",
    "                'max_depth': 3, \n",
    "                'subsample': 1, \n",
    "                'colsample_bytree': 0.7, \n",
    "                'min_child_weight': 1}\n",
    " #model \n",
    "xgb = XGBClassifier(n_estimators           = param_tuning['n_estimators'],\n",
    "                          eta              = param_tuning['eta'],\n",
    "                          max_depth        = param_tuning['max_depth'],\n",
    "                          subsample        = param_tuning['subsample'],\n",
    "                          colsample_bytree = param_tuning['colsample_bytree'],\n",
    "                          min_child_weight = param_tuning['min_child_weight'],\n",
    "                          n_jobs = -1,\n",
    "                          disable_default_eval_metric = 1\n",
    "                           )\n",
    "# model training\n",
    "xgb.fit( x_train, y_train )\n",
    "\n",
    "#model prediction\n",
    "yhat_xgb = xgb.predict_proba( x_val )\n",
    "\n",
    "# Accumulative Gain\n",
    "skplt.metrics.plot_cumulative_gain( y_val, yhat_xgb).figure.set_size_inches(12, 8);\n",
    "\n",
    "#Scikitplot library is therre to help \n",
    "skplt.metrics.plot_lift_curve( y_val, yhat_xgb ).figure.set_size_inches(12, 8);\n",
    "\n",
    "# Save trained model\n",
    "pickle.dump( xgb, open( 'models/xgb_model.pkl', 'wb' ) )"
   ]
  },
  {
   "cell_type": "markdown",
   "id": "6f0c34c2",
   "metadata": {
    "hidden": true
   },
   "source": [
    "## 8.2.2. Ranking Top k Performance Final Model (data train)"
   ]
  },
  {
   "cell_type": "code",
   "execution_count": 424,
   "id": "c38d7668",
   "metadata": {
    "ExecuteTime": {
     "end_time": "2022-02-18T18:30:10.401918Z",
     "start_time": "2022-02-18T18:30:10.234163Z"
    },
    "hidden": true,
    "hide_input": true
   },
   "outputs": [
    {
     "data": {
      "text/html": [
       "<div>\n",
       "<style scoped>\n",
       "    .dataframe tbody tr th:only-of-type {\n",
       "        vertical-align: middle;\n",
       "    }\n",
       "\n",
       "    .dataframe tbody tr th {\n",
       "        vertical-align: top;\n",
       "    }\n",
       "\n",
       "    .dataframe thead th {\n",
       "        text-align: right;\n",
       "    }\n",
       "</style>\n",
       "<table border=\"1\" class=\"dataframe\">\n",
       "  <thead>\n",
       "    <tr style=\"text-align: right;\">\n",
       "      <th></th>\n",
       "      <th>Precision k</th>\n",
       "      <th>Recall K</th>\n",
       "    </tr>\n",
       "  </thead>\n",
       "  <tbody>\n",
       "    <tr>\n",
       "      <th>5%</th>\n",
       "      <td>0.380115</td>\n",
       "      <td>0.156058</td>\n",
       "    </tr>\n",
       "    <tr>\n",
       "      <th>15%</th>\n",
       "      <td>0.342837</td>\n",
       "      <td>0.422186</td>\n",
       "    </tr>\n",
       "    <tr>\n",
       "      <th>25%</th>\n",
       "      <td>0.318046</td>\n",
       "      <td>0.652773</td>\n",
       "    </tr>\n",
       "    <tr>\n",
       "      <th>40%</th>\n",
       "      <td>0.274123</td>\n",
       "      <td>0.900162</td>\n",
       "    </tr>\n",
       "    <tr>\n",
       "      <th>60%</th>\n",
       "      <td>0.202650</td>\n",
       "      <td>0.998169</td>\n",
       "    </tr>\n",
       "    <tr>\n",
       "      <th>80%</th>\n",
       "      <td>0.152151</td>\n",
       "      <td>0.999246</td>\n",
       "    </tr>\n",
       "  </tbody>\n",
       "</table>\n",
       "</div>"
      ],
      "text/plain": [
       "     Precision k  Recall K\n",
       "5%      0.380115  0.156058\n",
       "15%     0.342837  0.422186\n",
       "25%     0.318046  0.652773\n",
       "40%     0.274123  0.900162\n",
       "60%     0.202650  0.998169\n",
       "80%     0.152151  0.999246"
      ]
     },
     "execution_count": 424,
     "metadata": {},
     "output_type": "execute_result"
    }
   ],
   "source": [
    " # copy dataframe\n",
    "dfk = x_validation.copy()\n",
    "dfk['response'] = y_validation.copy()\n",
    "\n",
    "# propensity score\n",
    "dfk['score'] = yhat_xgb[:, 1].tolist()\n",
    "\n",
    "# sort clients by propensity score\n",
    "dfk = dfk.sort_values( 'score', ascending=False )\n",
    "\n",
    "#Compute precision at k \n",
    "precision_5percent, data =  precision_at_k( dfk, k=round(len(df7) * 0.05) )\n",
    "precision_15percent, data = precision_at_k( dfk, k=round(len(df7) * 0.15) )\n",
    "precision_25percent, data = precision_at_k( dfk, k=round(len(df7) * 0.25) )\n",
    "precision_40percent, data = precision_at_k( dfk, k=round(len(df7) * 0.40) )\n",
    "precision_60percent, data = precision_at_k( dfk, k=round(len(df7) * 0.60) )\n",
    "precision_80percent, data = precision_at_k( dfk, k=round(len(df7) * 0.80) )\n",
    "\n",
    "#precision k table\n",
    "precision_at_xgb = [precision_5percent, precision_15percent, precision_25percent,\n",
    "                   precision_40percent, precision_60percent, precision_80percent]\n",
    "\n",
    "percent_k ={0: '5%', 1: '15%', 2: '25%', 3: '40%', 4: '60%', 5: '80%'}\n",
    "\n",
    "#Compute recall at k \n",
    "recall_5percent,  data = recall_at_k( dfk, k=round(len(df7) * 0.05) )\n",
    "recall_15percent, data = recall_at_k( dfk, k=round(len(df7) * 0.15) )\n",
    "recall_25percent, data = recall_at_k( dfk, k=round(len(df7) * 0.25) )\n",
    "recall_40percent, data = recall_at_k( dfk, k=round(len(df7) * 0.40) )\n",
    "recall_60percent, data = recall_at_k( dfk, k=round(len(df7) * 0.60) )\n",
    "recall_80percent, data = recall_at_k( dfk, k=round(len(df7) * 0.80) )\n",
    "\n",
    "#recall k table\n",
    "recall_xgb = [recall_5percent, recall_15percent, recall_25percent,\n",
    "                   recall_40percent, recall_60percent, recall_80percent]\n",
    "\n",
    "df_xgb_rank_k_vf = pd.DataFrame({'Precision k': precision_at_xgb, 'Recall K': recall_xgb }).rename(index = percent_k)\n",
    "\n",
    "df_xgb_rank_k_vf"
   ]
  },
  {
   "cell_type": "markdown",
   "id": "73626411",
   "metadata": {
    "hidden": true
   },
   "source": [
    "> Melhora de precisão(%) em realação ao modelo não calibrado:"
   ]
  },
  {
   "cell_type": "code",
   "execution_count": 425,
   "id": "7fdbd7e7",
   "metadata": {
    "ExecuteTime": {
     "end_time": "2022-02-18T18:30:10.424773Z",
     "start_time": "2022-02-18T18:30:10.403519Z"
    },
    "hidden": true,
    "hide_input": true
   },
   "outputs": [
    {
     "data": {
      "text/html": [
       "<div>\n",
       "<style scoped>\n",
       "    .dataframe tbody tr th:only-of-type {\n",
       "        vertical-align: middle;\n",
       "    }\n",
       "\n",
       "    .dataframe tbody tr th {\n",
       "        vertical-align: top;\n",
       "    }\n",
       "\n",
       "    .dataframe thead th {\n",
       "        text-align: right;\n",
       "    }\n",
       "</style>\n",
       "<table border=\"1\" class=\"dataframe\">\n",
       "  <thead>\n",
       "    <tr style=\"text-align: right;\">\n",
       "      <th></th>\n",
       "      <th>Precision k</th>\n",
       "      <th>Recall K</th>\n",
       "    </tr>\n",
       "  </thead>\n",
       "  <tbody>\n",
       "    <tr>\n",
       "      <th>5%</th>\n",
       "      <td>3.278689</td>\n",
       "      <td>3.278689</td>\n",
       "    </tr>\n",
       "    <tr>\n",
       "      <th>15%</th>\n",
       "      <td>3.049422</td>\n",
       "      <td>3.049422</td>\n",
       "    </tr>\n",
       "    <tr>\n",
       "      <th>25%</th>\n",
       "      <td>1.016667</td>\n",
       "      <td>1.016667</td>\n",
       "    </tr>\n",
       "    <tr>\n",
       "      <th>40%</th>\n",
       "      <td>0.444658</td>\n",
       "      <td>0.444658</td>\n",
       "    </tr>\n",
       "    <tr>\n",
       "      <th>60%</th>\n",
       "      <td>0.021584</td>\n",
       "      <td>0.021584</td>\n",
       "    </tr>\n",
       "    <tr>\n",
       "      <th>80%</th>\n",
       "      <td>0.053920</td>\n",
       "      <td>0.053920</td>\n",
       "    </tr>\n",
       "  </tbody>\n",
       "</table>\n",
       "</div>"
      ],
      "text/plain": [
       "     Precision k  Recall K\n",
       "5%      3.278689  3.278689\n",
       "15%     3.049422  3.049422\n",
       "25%     1.016667  1.016667\n",
       "40%     0.444658  0.444658\n",
       "60%     0.021584  0.021584\n",
       "80%     0.053920  0.053920"
      ]
     },
     "execution_count": 425,
     "metadata": {},
     "output_type": "execute_result"
    }
   ],
   "source": [
    "(df_xgb_rank_k_vf*100/df_xgb_rank_k)-100"
   ]
  },
  {
   "cell_type": "markdown",
   "id": "d478f62d",
   "metadata": {
    "hidden": true
   },
   "source": [
    "> Após a calibragem dos hiperparametros do modelo, foi obitido uma preformance de 2% a 4%, até 25% dos dados etimados. "
   ]
  },
  {
   "cell_type": "markdown",
   "id": "9c0eaf1d",
   "metadata": {
    "heading_collapsed": true
   },
   "source": [
    "# 9.0. Model Final Performance\n"
   ]
  },
  {
   "cell_type": "markdown",
   "id": "bb13bf5a",
   "metadata": {
    "heading_collapsed": true,
    "hidden": true
   },
   "source": [
    "## 9.1. Business Performance"
   ]
  },
  {
   "cell_type": "code",
   "execution_count": null,
   "id": "edfad3ce",
   "metadata": {
    "hidden": true
   },
   "outputs": [],
   "source": []
  },
  {
   "cell_type": "markdown",
   "id": "6920f062",
   "metadata": {
    "heading_collapsed": true,
    "hidden": true
   },
   "source": [
    "## 9.2. Machine Learning Model Performance"
   ]
  },
  {
   "cell_type": "markdown",
   "id": "1f7f0213",
   "metadata": {
    "heading_collapsed": true,
    "hidden": true
   },
   "source": [
    "### Results Final Model in Data Test"
   ]
  },
  {
   "cell_type": "code",
   "execution_count": null,
   "id": "54b4bd8c",
   "metadata": {
    "hidden": true
   },
   "outputs": [],
   "source": []
  },
  {
   "cell_type": "markdown",
   "id": "37741ed5",
   "metadata": {},
   "source": [
    "# 11.0. Deploy Model To Production"
   ]
  },
  {
   "cell_type": "code",
   "execution_count": 426,
   "id": "205fe70b",
   "metadata": {
    "ExecuteTime": {
     "end_time": "2022-02-18T18:30:10.458661Z",
     "start_time": "2022-02-18T18:30:10.442816Z"
    }
   },
   "outputs": [
    {
     "data": {
      "text/plain": [
       "'/home/lucasas/repos/PA04-Health-Insurance-Cross-Sell'"
      ]
     },
     "execution_count": 426,
     "metadata": {},
     "output_type": "execute_result"
    }
   ],
   "source": [
    "pwd\n"
   ]
  },
  {
   "cell_type": "markdown",
   "id": "2b5bef69",
   "metadata": {
    "ExecuteTime": {
     "end_time": "2022-02-17T20:44:56.401246Z",
     "start_time": "2022-02-17T20:44:56.389020Z"
    }
   },
   "source": [
    "## 11.1. Health Insurance Class"
   ]
  },
  {
   "cell_type": "code",
   "execution_count": 427,
   "id": "d758e1ab",
   "metadata": {
    "ExecuteTime": {
     "end_time": "2022-02-18T18:30:21.038014Z",
     "start_time": "2022-02-18T18:30:21.022288Z"
    }
   },
   "outputs": [],
   "source": [
    "import pickle\n",
    "import numpy  as np\n",
    "import pandas as pd\n",
    "\n",
    "\n",
    "class HealthInsurance( object ):\n",
    "\n",
    "    def __init__( self ):\n",
    "        self.home_path='/home/lucasas/repos/PA04-Health-Insurance-Cross-Sell/'\n",
    "        self.annual_premium_scaler            = pickle.load( open( self.home_path + 'features/annual_premium_scaler.pkl'))\n",
    "        self.age_scaler                       = pickle.load( open( self.home_path + 'features/age_scaler.pkl'))\n",
    "        self.vintage_scaler                   = pickle.load( open( self.home_path + 'features/vintage_scaler.pkl'))\n",
    "        self.target_ecode_gender_scaler       = pickle.load( open( self.home_path + 'features/target_ecode_gender_scaler.pkl'))\n",
    "        self.target_encode_region_code_scaler = pickle.load( open( self.home_path + 'features/target_encode_region_code_scaler.pkl'))\n",
    "        self.fe_policy_sales_channel_scaler   = pickle.load( open( self.home_path + 'features/fe_policy_sales_channel_scaler.pkl'))\n",
    "        \n",
    "    def data_cleaning( self, df1):\n",
    "        ## 1.1. Rename Columns \n",
    "        cols_new = ['id', 'gender', 'age', 'driving_license', 'region_code', 'previously_insured', 'vehicle_age', \n",
    "                    'vehicle_damage', 'annual_premium', 'policy_sales_channel', 'vintage', 'response']\n",
    "\n",
    "        # rename \n",
    "        df1.columns = cols_new\n",
    "        \n",
    "        return df1\n",
    "    \n",
    "    def feature_engineering( self, df2):\n",
    "        #Vehicle age\n",
    "        df2['vehicle_age'] = df2['vehicle_age'].apply( lambda x: 'over_2_years' if x == '> 2 Years' \n",
    "                                                      else 'between_1_2_year'  if x == '1-2 Year'\n",
    "                                                      else 'below_1_year')\n",
    "        #Vehicle damage\n",
    "        df2['vehicle_damage'] = df2['vehicle_damage'].apply( lambda x: 1 if x == 'yes' else 0 )\n",
    "        return df2\n",
    "    \n",
    "    \n",
    "    def data_preparation( self, df5 ):\n",
    "        # annual_premium \n",
    "        df5['annual_premium'] = self.annual_premium_scaler.transform( df5[['annual_premium']].values )\n",
    "         \n",
    "\n",
    "        #Age \n",
    "        df5['age'] = self.age_scaler.transform( df5[['age']].values )\n",
    "       \n",
    "        # vintage\n",
    "        df5['vintage'] = self.vintage_scaler.transform( df5[['vintage']].values )\n",
    "                 \n",
    "\n",
    "        ##Encodind\n",
    "\n",
    "        #gender - One Hot Encoding / Target Encoding\n",
    "        df5.loc[:, 'gender' ] = df5['gender'].map( self.target_ecode_gender_scaler )\n",
    "        \n",
    "        #region_code - Frequency Encoding / Target Encoding / Weighted Target Encoding\n",
    "        df5.loc[:, 'region_code' ] = df5['region_code' ].map( self.target_encode_region_code_scaler )\n",
    "        \n",
    "\n",
    "        #vehicle_age - one Hot Encoding / Label Encoding\n",
    "        df5 = pd.get_dummies( df5, prefix = 'vehicle_age', columns = ['vehicle_age'] )\n",
    "\n",
    "\n",
    "        #policy_sales_channel - Target Encoding / Frequency Encoding\n",
    "        df5.loc[:, 'policy_sales_channel' ] = df5['policy_sales_channel' ].map( self.fe_policy_sales_channel_scaler )\n",
    "           \n",
    "        #Feature Select\n",
    "        cols_selected = [ 'vintage', 'annual_premium', 'age', 'region_code', 'previously_insured','policy_sales_channel' ]\n",
    "        \n",
    "        return df5[ cols_selected ]\n",
    "        \n",
    "        \n",
    "    def get_prediction( self, model, original_data, test_data ):\n",
    "            #model prediction\n",
    "            pred = model.predict_proba( test_data )\n",
    "            \n",
    "            #join prediction into original data\n",
    "            original_data['score'] = pred[:, 1].tolist()\n",
    "            \n",
    "            return original_data.to_json( orient= 'records' )\n",
    "\n",
    "\n",
    "    "
   ]
  },
  {
   "cell_type": "markdown",
   "id": "1379efcc",
   "metadata": {},
   "source": [
    "## 11.2. API Handler"
   ]
  },
  {
   "cell_type": "code",
   "execution_count": 428,
   "id": "032e1c5d",
   "metadata": {
    "ExecuteTime": {
     "end_time": "2022-02-18T18:30:23.917523Z",
     "start_time": "2022-02-18T18:30:23.885904Z"
    }
   },
   "outputs": [
    {
     "ename": "ModuleNotFoundError",
     "evalue": "No module named 'healthinsurance'",
     "output_type": "error",
     "traceback": [
      "\u001b[0;31m---------------------------------------------------------------------------\u001b[0m",
      "\u001b[0;31mModuleNotFoundError\u001b[0m                       Traceback (most recent call last)",
      "Input \u001b[0;32mIn [428]\u001b[0m, in \u001b[0;36m<module>\u001b[0;34m\u001b[0m\n\u001b[1;32m      2\u001b[0m \u001b[38;5;28;01mimport\u001b[39;00m \u001b[38;5;21;01mpandas\u001b[39;00m \u001b[38;5;28;01mas\u001b[39;00m \u001b[38;5;21;01mpd\u001b[39;00m\n\u001b[1;32m      4\u001b[0m \u001b[38;5;28;01mfrom\u001b[39;00m \u001b[38;5;21;01mflask\u001b[39;00m           \u001b[38;5;28;01mimport\u001b[39;00m Flask, request, Response\n\u001b[0;32m----> 5\u001b[0m \u001b[38;5;28;01mfrom\u001b[39;00m \u001b[38;5;21;01mhealthinsurance\u001b[39;00m\u001b[38;5;21;01m.\u001b[39;00m\u001b[38;5;21;01mHealthInsurance\u001b[39;00m \u001b[38;5;28;01mimport\u001b[39;00m HealthInsurance\n\u001b[1;32m      7\u001b[0m \u001b[38;5;66;03m# loading model\u001b[39;00m\n\u001b[1;32m      8\u001b[0m path \u001b[38;5;241m=\u001b[39m \u001b[38;5;124m'\u001b[39m\u001b[38;5;124m/home/lucasas/repos/PA04-Health-Insurance-Cross-Sell\u001b[39m\u001b[38;5;124m'\u001b[39m\n",
      "\u001b[0;31mModuleNotFoundError\u001b[0m: No module named 'healthinsurance'"
     ]
    }
   ],
   "source": [
    "import pickle\n",
    "import pandas as pd\n",
    "\n",
    "from flask           import Flask, request, Response\n",
    "from healthinsurance.HealthInsurance import HealthInsurance\n",
    "\n",
    "# loading model\n",
    "path = '/home/lucasas/repos/PA04-Health-Insurance-Cross-Sell'\n",
    "model = pickle.load( open( path + 'models/xgb_model.pkl', 'rb' ) )\n",
    "\n",
    "# initialize API\n",
    "app = Flask( __name__ )\n",
    "\n",
    "@app.route( '/predict', methods=['POST'] )\n",
    "def health_insurance_predict():\n",
    "    test_json = request.get_json()\n",
    "    \n",
    "    if test_json: # there is data\n",
    "        if isinstance( test_json, dict ): # unique example\n",
    "            test_raw = pd.DataFrame( test_json, index=[0] )\n",
    "            \n",
    "        else: # multiple example\n",
    "            test_raw = pd.DataFrame( test_json, columns=test_json[0].keys() )\n",
    "            \n",
    "        # Instantiate Health Insurance Class\n",
    "        pipeline = HealthInsurance()\n",
    "        \n",
    "        # data cleaning\n",
    "        df1 = pipeline.data_cleaning( test_raw )\n",
    "        \n",
    "        # feature engineering\n",
    "        df2 = pipeline.feature_engineering( df1 )\n",
    "        \n",
    "        # data preparation\n",
    "        df3 = pipeline.data_preparation( df2 )\n",
    "        \n",
    "        # prediction\n",
    "        df_response = pipeline.get_prediction( model, test_raw, df3 )\n",
    "        \n",
    "        return df_response\n",
    "    \n",
    "    else:\n",
    "        return Response( '{}', status=200, mimetype='application/json' )\n",
    "    \n",
    "if __name__ == '__main__':\n",
    "    app.run( '0.0.0.0', debug=True )"
   ]
  },
  {
   "cell_type": "markdown",
   "id": "4030ae8f",
   "metadata": {
    "ExecuteTime": {
     "end_time": "2022-02-17T21:30:55.326115Z",
     "start_time": "2022-02-17T21:30:55.317981Z"
    }
   },
   "source": [
    "## 11.3. API Tester"
   ]
  },
  {
   "cell_type": "code",
   "execution_count": 429,
   "id": "2e692d95",
   "metadata": {
    "ExecuteTime": {
     "end_time": "2022-02-18T18:30:26.365714Z",
     "start_time": "2022-02-18T18:30:26.351143Z"
    }
   },
   "outputs": [],
   "source": [
    "#loading test dataset\n",
    "df_test = x_valc#copy do x_validation inicial\n",
    "df_test[ 'response' ] = y_validation\n"
   ]
  },
  {
   "cell_type": "code",
   "execution_count": 430,
   "id": "f59f6f80",
   "metadata": {
    "ExecuteTime": {
     "end_time": "2022-02-18T18:30:27.630859Z",
     "start_time": "2022-02-18T18:30:27.616654Z"
    }
   },
   "outputs": [
    {
     "data": {
      "text/plain": [
       "(76222, 12)"
      ]
     },
     "execution_count": 430,
     "metadata": {},
     "output_type": "execute_result"
    }
   ],
   "source": [
    "df_test.shape"
   ]
  },
  {
   "cell_type": "code",
   "execution_count": 431,
   "id": "7ac6e5c6",
   "metadata": {
    "ExecuteTime": {
     "end_time": "2022-02-18T18:30:32.189893Z",
     "start_time": "2022-02-18T18:30:32.174686Z"
    }
   },
   "outputs": [],
   "source": [
    "df_test = df_test.sample(10)"
   ]
  },
  {
   "cell_type": "code",
   "execution_count": 432,
   "id": "b5893ae5",
   "metadata": {
    "ExecuteTime": {
     "end_time": "2022-02-18T18:30:33.466465Z",
     "start_time": "2022-02-18T18:30:33.456459Z"
    }
   },
   "outputs": [],
   "source": [
    "#convert dataframe to joson\n",
    "data = json.dumps( df_test.to_dict( orient = 'records' ) )"
   ]
  },
  {
   "cell_type": "code",
   "execution_count": 434,
   "id": "24751ebc",
   "metadata": {
    "ExecuteTime": {
     "end_time": "2022-02-18T18:34:32.710390Z",
     "start_time": "2022-02-18T18:34:32.676598Z"
    }
   },
   "outputs": [
    {
     "name": "stdout",
     "output_type": "stream",
     "text": [
      "Status Code200\n"
     ]
    }
   ],
   "source": [
    "#API Call\n",
    "url = 'http://0.0.0.0:5000/predict'\n",
    "#url = 'https://health-insurance-model.herokuapp.com/predict'\n",
    "header = {'Content-type': 'application/json'}\n",
    "\n",
    "r = requests.post( url, data = data, headers = header )\n",
    "print( 'Status Code{}'.format( r.status_code ))"
   ]
  },
  {
   "cell_type": "code",
   "execution_count": 435,
   "id": "2270fa55",
   "metadata": {
    "ExecuteTime": {
     "end_time": "2022-02-18T18:34:48.585565Z",
     "start_time": "2022-02-18T18:34:48.558284Z"
    }
   },
   "outputs": [
    {
     "data": {
      "text/html": [
       "<div>\n",
       "<style scoped>\n",
       "    .dataframe tbody tr th:only-of-type {\n",
       "        vertical-align: middle;\n",
       "    }\n",
       "\n",
       "    .dataframe tbody tr th {\n",
       "        vertical-align: top;\n",
       "    }\n",
       "\n",
       "    .dataframe thead th {\n",
       "        text-align: right;\n",
       "    }\n",
       "</style>\n",
       "<table border=\"1\" class=\"dataframe\">\n",
       "  <thead>\n",
       "    <tr style=\"text-align: right;\">\n",
       "      <th></th>\n",
       "      <th>id</th>\n",
       "      <th>gender</th>\n",
       "      <th>age</th>\n",
       "      <th>driving_license</th>\n",
       "      <th>region_code</th>\n",
       "      <th>previously_insured</th>\n",
       "      <th>vehicle_age</th>\n",
       "      <th>vehicle_damage</th>\n",
       "      <th>annual_premium</th>\n",
       "      <th>policy_sales_channel</th>\n",
       "      <th>vintage</th>\n",
       "      <th>response</th>\n",
       "      <th>score</th>\n",
       "    </tr>\n",
       "  </thead>\n",
       "  <tbody>\n",
       "    <tr>\n",
       "      <th>7</th>\n",
       "      <td>106427</td>\n",
       "      <td>0.138801</td>\n",
       "      <td>0.169231</td>\n",
       "      <td>1</td>\n",
       "      <td>0.186534</td>\n",
       "      <td>0</td>\n",
       "      <td>below_1_year</td>\n",
       "      <td>0</td>\n",
       "      <td>-0.092983</td>\n",
       "      <td>157.0</td>\n",
       "      <td>0.920415</td>\n",
       "      <td>0</td>\n",
       "      <td>0.418153</td>\n",
       "    </tr>\n",
       "    <tr>\n",
       "      <th>1</th>\n",
       "      <td>38140</td>\n",
       "      <td>0.138801</td>\n",
       "      <td>0.507692</td>\n",
       "      <td>1</td>\n",
       "      <td>0.101625</td>\n",
       "      <td>0</td>\n",
       "      <td>below_1_year</td>\n",
       "      <td>0</td>\n",
       "      <td>0.409387</td>\n",
       "      <td>26.0</td>\n",
       "      <td>0.778547</td>\n",
       "      <td>0</td>\n",
       "      <td>0.255920</td>\n",
       "    </tr>\n",
       "    <tr>\n",
       "      <th>6</th>\n",
       "      <td>68243</td>\n",
       "      <td>0.138801</td>\n",
       "      <td>0.369231</td>\n",
       "      <td>1</td>\n",
       "      <td>0.186534</td>\n",
       "      <td>0</td>\n",
       "      <td>below_1_year</td>\n",
       "      <td>0</td>\n",
       "      <td>1.637545</td>\n",
       "      <td>24.0</td>\n",
       "      <td>0.352941</td>\n",
       "      <td>0</td>\n",
       "      <td>0.253815</td>\n",
       "    </tr>\n",
       "    <tr>\n",
       "      <th>9</th>\n",
       "      <td>262505</td>\n",
       "      <td>0.138801</td>\n",
       "      <td>0.646154</td>\n",
       "      <td>1</td>\n",
       "      <td>0.063463</td>\n",
       "      <td>0</td>\n",
       "      <td>below_1_year</td>\n",
       "      <td>0</td>\n",
       "      <td>-1.621217</td>\n",
       "      <td>157.0</td>\n",
       "      <td>0.709343</td>\n",
       "      <td>0</td>\n",
       "      <td>0.165452</td>\n",
       "    </tr>\n",
       "    <tr>\n",
       "      <th>0</th>\n",
       "      <td>114028</td>\n",
       "      <td>0.138801</td>\n",
       "      <td>0.523077</td>\n",
       "      <td>1</td>\n",
       "      <td>0.086556</td>\n",
       "      <td>0</td>\n",
       "      <td>below_1_year</td>\n",
       "      <td>0</td>\n",
       "      <td>-1.621217</td>\n",
       "      <td>124.0</td>\n",
       "      <td>0.238754</td>\n",
       "      <td>0</td>\n",
       "      <td>0.136222</td>\n",
       "    </tr>\n",
       "  </tbody>\n",
       "</table>\n",
       "</div>"
      ],
      "text/plain": [
       "       id    gender       age  driving_license  region_code  \\\n",
       "7  106427  0.138801  0.169231                1     0.186534   \n",
       "1   38140  0.138801  0.507692                1     0.101625   \n",
       "6   68243  0.138801  0.369231                1     0.186534   \n",
       "9  262505  0.138801  0.646154                1     0.063463   \n",
       "0  114028  0.138801  0.523077                1     0.086556   \n",
       "\n",
       "   previously_insured   vehicle_age  vehicle_damage  annual_premium  \\\n",
       "7                   0  below_1_year               0       -0.092983   \n",
       "1                   0  below_1_year               0        0.409387   \n",
       "6                   0  below_1_year               0        1.637545   \n",
       "9                   0  below_1_year               0       -1.621217   \n",
       "0                   0  below_1_year               0       -1.621217   \n",
       "\n",
       "   policy_sales_channel   vintage  response     score  \n",
       "7                 157.0  0.920415         0  0.418153  \n",
       "1                  26.0  0.778547         0  0.255920  \n",
       "6                  24.0  0.352941         0  0.253815  \n",
       "9                 157.0  0.709343         0  0.165452  \n",
       "0                 124.0  0.238754         0  0.136222  "
      ]
     },
     "execution_count": 435,
     "metadata": {},
     "output_type": "execute_result"
    }
   ],
   "source": [
    "d1 = pd.DataFrame( r.json(), columns = r.json()[0].keys() )\n",
    "d1.sort_values( 'score', ascending = False ).head()"
   ]
  },
  {
   "cell_type": "code",
   "execution_count": null,
   "id": "f0782f9e",
   "metadata": {},
   "outputs": [],
   "source": []
  }
 ],
 "metadata": {
  "kernelspec": {
   "display_name": "Python 3 (ipykernel)",
   "language": "python",
   "name": "python3"
  },
  "language_info": {
   "codemirror_mode": {
    "name": "ipython",
    "version": 3
   },
   "file_extension": ".py",
   "mimetype": "text/x-python",
   "name": "python",
   "nbconvert_exporter": "python",
   "pygments_lexer": "ipython3",
   "version": "3.8.12"
  }
 },
 "nbformat": 4,
 "nbformat_minor": 5
}
